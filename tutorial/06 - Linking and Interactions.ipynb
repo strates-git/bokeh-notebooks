{
 "cells": [
  {
   "cell_type": "markdown",
   "metadata": {},
   "source": [
    "<table style=\"float:left; border:none\">\n",
    "   <tr style=\"border:none\">\n",
    "       <td style=\"border:none\">\n",
    "           <a href=\"https://bokeh.org/\">     \n",
    "           <img \n",
    "               src=\"assets/bokeh-transparent.png\" \n",
    "               style=\"width:50px\"\n",
    "           >\n",
    "           </a>    \n",
    "       </td>\n",
    "       <td style=\"border:none\">\n",
    "           <h1>Bokeh Tutorial</h1>\n",
    "       </td>\n",
    "   </tr>\n",
    "</table>\n",
    "\n",
    "<div style=\"float:right;\"><h2>06. Linking and Interactions</h2></div>"
   ]
  },
  {
   "cell_type": "code",
   "execution_count": 1,
   "metadata": {},
   "outputs": [
    {
     "data": {
      "text/html": [
       "\n",
       "    <div class=\"bk-root\">\n",
       "        <a href=\"https://bokeh.org\" target=\"_blank\" class=\"bk-logo bk-logo-small bk-logo-notebook\"></a>\n",
       "        <span id=\"1002\">Loading BokehJS ...</span>\n",
       "    </div>"
      ]
     },
     "metadata": {},
     "output_type": "display_data"
    },
    {
     "data": {
      "application/javascript": [
       "\n",
       "(function(root) {\n",
       "  function now() {\n",
       "    return new Date();\n",
       "  }\n",
       "\n",
       "  var force = true;\n",
       "\n",
       "  if (typeof root._bokeh_onload_callbacks === \"undefined\" || force === true) {\n",
       "    root._bokeh_onload_callbacks = [];\n",
       "    root._bokeh_is_loading = undefined;\n",
       "  }\n",
       "\n",
       "  var JS_MIME_TYPE = 'application/javascript';\n",
       "  var HTML_MIME_TYPE = 'text/html';\n",
       "  var EXEC_MIME_TYPE = 'application/vnd.bokehjs_exec.v0+json';\n",
       "  var CLASS_NAME = 'output_bokeh rendered_html';\n",
       "\n",
       "  /**\n",
       "   * Render data to the DOM node\n",
       "   */\n",
       "  function render(props, node) {\n",
       "    var script = document.createElement(\"script\");\n",
       "    node.appendChild(script);\n",
       "  }\n",
       "\n",
       "  /**\n",
       "   * Handle when an output is cleared or removed\n",
       "   */\n",
       "  function handleClearOutput(event, handle) {\n",
       "    var cell = handle.cell;\n",
       "\n",
       "    var id = cell.output_area._bokeh_element_id;\n",
       "    var server_id = cell.output_area._bokeh_server_id;\n",
       "    // Clean up Bokeh references\n",
       "    if (id != null && id in Bokeh.index) {\n",
       "      Bokeh.index[id].model.document.clear();\n",
       "      delete Bokeh.index[id];\n",
       "    }\n",
       "\n",
       "    if (server_id !== undefined) {\n",
       "      // Clean up Bokeh references\n",
       "      var cmd = \"from bokeh.io.state import curstate; print(curstate().uuid_to_server['\" + server_id + \"'].get_sessions()[0].document.roots[0]._id)\";\n",
       "      cell.notebook.kernel.execute(cmd, {\n",
       "        iopub: {\n",
       "          output: function(msg) {\n",
       "            var id = msg.content.text.trim();\n",
       "            if (id in Bokeh.index) {\n",
       "              Bokeh.index[id].model.document.clear();\n",
       "              delete Bokeh.index[id];\n",
       "            }\n",
       "          }\n",
       "        }\n",
       "      });\n",
       "      // Destroy server and session\n",
       "      var cmd = \"import bokeh.io.notebook as ion; ion.destroy_server('\" + server_id + \"')\";\n",
       "      cell.notebook.kernel.execute(cmd);\n",
       "    }\n",
       "  }\n",
       "\n",
       "  /**\n",
       "   * Handle when a new output is added\n",
       "   */\n",
       "  function handleAddOutput(event, handle) {\n",
       "    var output_area = handle.output_area;\n",
       "    var output = handle.output;\n",
       "\n",
       "    // limit handleAddOutput to display_data with EXEC_MIME_TYPE content only\n",
       "    if ((output.output_type != \"display_data\") || (!Object.prototype.hasOwnProperty.call(output.data, EXEC_MIME_TYPE))) {\n",
       "      return\n",
       "    }\n",
       "\n",
       "    var toinsert = output_area.element.find(\".\" + CLASS_NAME.split(' ')[0]);\n",
       "\n",
       "    if (output.metadata[EXEC_MIME_TYPE][\"id\"] !== undefined) {\n",
       "      toinsert[toinsert.length - 1].firstChild.textContent = output.data[JS_MIME_TYPE];\n",
       "      // store reference to embed id on output_area\n",
       "      output_area._bokeh_element_id = output.metadata[EXEC_MIME_TYPE][\"id\"];\n",
       "    }\n",
       "    if (output.metadata[EXEC_MIME_TYPE][\"server_id\"] !== undefined) {\n",
       "      var bk_div = document.createElement(\"div\");\n",
       "      bk_div.innerHTML = output.data[HTML_MIME_TYPE];\n",
       "      var script_attrs = bk_div.children[0].attributes;\n",
       "      for (var i = 0; i < script_attrs.length; i++) {\n",
       "        toinsert[toinsert.length - 1].firstChild.setAttribute(script_attrs[i].name, script_attrs[i].value);\n",
       "        toinsert[toinsert.length - 1].firstChild.textContent = bk_div.children[0].textContent\n",
       "      }\n",
       "      // store reference to server id on output_area\n",
       "      output_area._bokeh_server_id = output.metadata[EXEC_MIME_TYPE][\"server_id\"];\n",
       "    }\n",
       "  }\n",
       "\n",
       "  function register_renderer(events, OutputArea) {\n",
       "\n",
       "    function append_mime(data, metadata, element) {\n",
       "      // create a DOM node to render to\n",
       "      var toinsert = this.create_output_subarea(\n",
       "        metadata,\n",
       "        CLASS_NAME,\n",
       "        EXEC_MIME_TYPE\n",
       "      );\n",
       "      this.keyboard_manager.register_events(toinsert);\n",
       "      // Render to node\n",
       "      var props = {data: data, metadata: metadata[EXEC_MIME_TYPE]};\n",
       "      render(props, toinsert[toinsert.length - 1]);\n",
       "      element.append(toinsert);\n",
       "      return toinsert\n",
       "    }\n",
       "\n",
       "    /* Handle when an output is cleared or removed */\n",
       "    events.on('clear_output.CodeCell', handleClearOutput);\n",
       "    events.on('delete.Cell', handleClearOutput);\n",
       "\n",
       "    /* Handle when a new output is added */\n",
       "    events.on('output_added.OutputArea', handleAddOutput);\n",
       "\n",
       "    /**\n",
       "     * Register the mime type and append_mime function with output_area\n",
       "     */\n",
       "    OutputArea.prototype.register_mime_type(EXEC_MIME_TYPE, append_mime, {\n",
       "      /* Is output safe? */\n",
       "      safe: true,\n",
       "      /* Index of renderer in `output_area.display_order` */\n",
       "      index: 0\n",
       "    });\n",
       "  }\n",
       "\n",
       "  // register the mime type if in Jupyter Notebook environment and previously unregistered\n",
       "  if (root.Jupyter !== undefined) {\n",
       "    var events = require('base/js/events');\n",
       "    var OutputArea = require('notebook/js/outputarea').OutputArea;\n",
       "\n",
       "    if (OutputArea.prototype.mime_types().indexOf(EXEC_MIME_TYPE) == -1) {\n",
       "      register_renderer(events, OutputArea);\n",
       "    }\n",
       "  }\n",
       "\n",
       "  \n",
       "  if (typeof (root._bokeh_timeout) === \"undefined\" || force === true) {\n",
       "    root._bokeh_timeout = Date.now() + 5000;\n",
       "    root._bokeh_failed_load = false;\n",
       "  }\n",
       "\n",
       "  var NB_LOAD_WARNING = {'data': {'text/html':\n",
       "     \"<div style='background-color: #fdd'>\\n\"+\n",
       "     \"<p>\\n\"+\n",
       "     \"BokehJS does not appear to have successfully loaded. If loading BokehJS from CDN, this \\n\"+\n",
       "     \"may be due to a slow or bad network connection. Possible fixes:\\n\"+\n",
       "     \"</p>\\n\"+\n",
       "     \"<ul>\\n\"+\n",
       "     \"<li>re-rerun `output_notebook()` to attempt to load from CDN again, or</li>\\n\"+\n",
       "     \"<li>use INLINE resources instead, as so:</li>\\n\"+\n",
       "     \"</ul>\\n\"+\n",
       "     \"<code>\\n\"+\n",
       "     \"from bokeh.resources import INLINE\\n\"+\n",
       "     \"output_notebook(resources=INLINE)\\n\"+\n",
       "     \"</code>\\n\"+\n",
       "     \"</div>\"}};\n",
       "\n",
       "  function display_loaded() {\n",
       "    var el = document.getElementById(\"1002\");\n",
       "    if (el != null) {\n",
       "      el.textContent = \"BokehJS is loading...\";\n",
       "    }\n",
       "    if (root.Bokeh !== undefined) {\n",
       "      if (el != null) {\n",
       "        el.textContent = \"BokehJS \" + root.Bokeh.version + \" successfully loaded.\";\n",
       "      }\n",
       "    } else if (Date.now() < root._bokeh_timeout) {\n",
       "      setTimeout(display_loaded, 100)\n",
       "    }\n",
       "  }\n",
       "\n",
       "\n",
       "  function run_callbacks() {\n",
       "    try {\n",
       "      root._bokeh_onload_callbacks.forEach(function(callback) {\n",
       "        if (callback != null)\n",
       "          callback();\n",
       "      });\n",
       "    } finally {\n",
       "      delete root._bokeh_onload_callbacks\n",
       "    }\n",
       "    console.debug(\"Bokeh: all callbacks have finished\");\n",
       "  }\n",
       "\n",
       "  function load_libs(css_urls, js_urls, callback) {\n",
       "    if (css_urls == null) css_urls = [];\n",
       "    if (js_urls == null) js_urls = [];\n",
       "\n",
       "    root._bokeh_onload_callbacks.push(callback);\n",
       "    if (root._bokeh_is_loading > 0) {\n",
       "      console.debug(\"Bokeh: BokehJS is being loaded, scheduling callback at\", now());\n",
       "      return null;\n",
       "    }\n",
       "    if (js_urls == null || js_urls.length === 0) {\n",
       "      run_callbacks();\n",
       "      return null;\n",
       "    }\n",
       "    console.debug(\"Bokeh: BokehJS not loaded, scheduling load and callback at\", now());\n",
       "    root._bokeh_is_loading = css_urls.length + js_urls.length;\n",
       "\n",
       "    function on_load() {\n",
       "      root._bokeh_is_loading--;\n",
       "      if (root._bokeh_is_loading === 0) {\n",
       "        console.debug(\"Bokeh: all BokehJS libraries/stylesheets loaded\");\n",
       "        run_callbacks()\n",
       "      }\n",
       "    }\n",
       "\n",
       "    function on_error(url) {\n",
       "      console.error(\"failed to load \" + url);\n",
       "    }\n",
       "\n",
       "    for (let i = 0; i < css_urls.length; i++) {\n",
       "      const url = css_urls[i];\n",
       "      const element = document.createElement(\"link\");\n",
       "      element.onload = on_load;\n",
       "      element.onerror = on_error.bind(null, url);\n",
       "      element.rel = \"stylesheet\";\n",
       "      element.type = \"text/css\";\n",
       "      element.href = url;\n",
       "      console.debug(\"Bokeh: injecting link tag for BokehJS stylesheet: \", url);\n",
       "      document.body.appendChild(element);\n",
       "    }\n",
       "\n",
       "    const hashes = {\"https://cdn.bokeh.org/bokeh/release/bokeh-2.3.0.min.js\": \"HjagQp6T0/7bxYTAXbLotF1MLAGWmhkY5siA1Gc/pcEgvgRPtMsRn0gQtMwGKiw1\", \"https://cdn.bokeh.org/bokeh/release/bokeh-widgets-2.3.0.min.js\": \"ZEPPTjL+mdyqgIq+/pl9KTwzji8Kow2NnI3zWY8+sFinWP/SYJ80BnfeJsa45iYj\", \"https://cdn.bokeh.org/bokeh/release/bokeh-tables-2.3.0.min.js\": \"exLqv2ACDRIaV7ZK1iL8aGzGYQvKVuT3U2CT7FsQREBxRah6JrkVCoFy0koY1YqV\"};\n",
       "\n",
       "    for (let i = 0; i < js_urls.length; i++) {\n",
       "      const url = js_urls[i];\n",
       "      const element = document.createElement('script');\n",
       "      element.onload = on_load;\n",
       "      element.onerror = on_error.bind(null, url);\n",
       "      element.async = false;\n",
       "      element.src = url;\n",
       "      if (url in hashes) {\n",
       "        element.crossOrigin = \"anonymous\";\n",
       "        element.integrity = \"sha384-\" + hashes[url];\n",
       "      }\n",
       "      console.debug(\"Bokeh: injecting script tag for BokehJS library: \", url);\n",
       "      document.head.appendChild(element);\n",
       "    }\n",
       "  };\n",
       "\n",
       "  function inject_raw_css(css) {\n",
       "    const element = document.createElement(\"style\");\n",
       "    element.appendChild(document.createTextNode(css));\n",
       "    document.body.appendChild(element);\n",
       "  }\n",
       "\n",
       "  \n",
       "  var js_urls = [\"https://cdn.bokeh.org/bokeh/release/bokeh-2.3.0.min.js\", \"https://cdn.bokeh.org/bokeh/release/bokeh-widgets-2.3.0.min.js\", \"https://cdn.bokeh.org/bokeh/release/bokeh-tables-2.3.0.min.js\"];\n",
       "  var css_urls = [];\n",
       "  \n",
       "\n",
       "  var inline_js = [\n",
       "    function(Bokeh) {\n",
       "      Bokeh.set_log_level(\"info\");\n",
       "    },\n",
       "    function(Bokeh) {\n",
       "    \n",
       "    \n",
       "    }\n",
       "  ];\n",
       "\n",
       "  function run_inline_js() {\n",
       "    \n",
       "    if (root.Bokeh !== undefined || force === true) {\n",
       "      \n",
       "    for (var i = 0; i < inline_js.length; i++) {\n",
       "      inline_js[i].call(root, root.Bokeh);\n",
       "    }\n",
       "    if (force === true) {\n",
       "        display_loaded();\n",
       "      }} else if (Date.now() < root._bokeh_timeout) {\n",
       "      setTimeout(run_inline_js, 100);\n",
       "    } else if (!root._bokeh_failed_load) {\n",
       "      console.log(\"Bokeh: BokehJS failed to load within specified timeout.\");\n",
       "      root._bokeh_failed_load = true;\n",
       "    } else if (force !== true) {\n",
       "      var cell = $(document.getElementById(\"1002\")).parents('.cell').data().cell;\n",
       "      cell.output_area.append_execute_result(NB_LOAD_WARNING)\n",
       "    }\n",
       "\n",
       "  }\n",
       "\n",
       "  if (root._bokeh_is_loading === 0) {\n",
       "    console.debug(\"Bokeh: BokehJS loaded, going straight to plotting\");\n",
       "    run_inline_js();\n",
       "  } else {\n",
       "    load_libs(css_urls, js_urls, function() {\n",
       "      console.debug(\"Bokeh: BokehJS plotting callback run at\", now());\n",
       "      run_inline_js();\n",
       "    });\n",
       "  }\n",
       "}(window));"
      ],
      "application/vnd.bokehjs_load.v0+json": "\n(function(root) {\n  function now() {\n    return new Date();\n  }\n\n  var force = true;\n\n  if (typeof root._bokeh_onload_callbacks === \"undefined\" || force === true) {\n    root._bokeh_onload_callbacks = [];\n    root._bokeh_is_loading = undefined;\n  }\n\n  \n\n  \n  if (typeof (root._bokeh_timeout) === \"undefined\" || force === true) {\n    root._bokeh_timeout = Date.now() + 5000;\n    root._bokeh_failed_load = false;\n  }\n\n  var NB_LOAD_WARNING = {'data': {'text/html':\n     \"<div style='background-color: #fdd'>\\n\"+\n     \"<p>\\n\"+\n     \"BokehJS does not appear to have successfully loaded. If loading BokehJS from CDN, this \\n\"+\n     \"may be due to a slow or bad network connection. Possible fixes:\\n\"+\n     \"</p>\\n\"+\n     \"<ul>\\n\"+\n     \"<li>re-rerun `output_notebook()` to attempt to load from CDN again, or</li>\\n\"+\n     \"<li>use INLINE resources instead, as so:</li>\\n\"+\n     \"</ul>\\n\"+\n     \"<code>\\n\"+\n     \"from bokeh.resources import INLINE\\n\"+\n     \"output_notebook(resources=INLINE)\\n\"+\n     \"</code>\\n\"+\n     \"</div>\"}};\n\n  function display_loaded() {\n    var el = document.getElementById(\"1002\");\n    if (el != null) {\n      el.textContent = \"BokehJS is loading...\";\n    }\n    if (root.Bokeh !== undefined) {\n      if (el != null) {\n        el.textContent = \"BokehJS \" + root.Bokeh.version + \" successfully loaded.\";\n      }\n    } else if (Date.now() < root._bokeh_timeout) {\n      setTimeout(display_loaded, 100)\n    }\n  }\n\n\n  function run_callbacks() {\n    try {\n      root._bokeh_onload_callbacks.forEach(function(callback) {\n        if (callback != null)\n          callback();\n      });\n    } finally {\n      delete root._bokeh_onload_callbacks\n    }\n    console.debug(\"Bokeh: all callbacks have finished\");\n  }\n\n  function load_libs(css_urls, js_urls, callback) {\n    if (css_urls == null) css_urls = [];\n    if (js_urls == null) js_urls = [];\n\n    root._bokeh_onload_callbacks.push(callback);\n    if (root._bokeh_is_loading > 0) {\n      console.debug(\"Bokeh: BokehJS is being loaded, scheduling callback at\", now());\n      return null;\n    }\n    if (js_urls == null || js_urls.length === 0) {\n      run_callbacks();\n      return null;\n    }\n    console.debug(\"Bokeh: BokehJS not loaded, scheduling load and callback at\", now());\n    root._bokeh_is_loading = css_urls.length + js_urls.length;\n\n    function on_load() {\n      root._bokeh_is_loading--;\n      if (root._bokeh_is_loading === 0) {\n        console.debug(\"Bokeh: all BokehJS libraries/stylesheets loaded\");\n        run_callbacks()\n      }\n    }\n\n    function on_error(url) {\n      console.error(\"failed to load \" + url);\n    }\n\n    for (let i = 0; i < css_urls.length; i++) {\n      const url = css_urls[i];\n      const element = document.createElement(\"link\");\n      element.onload = on_load;\n      element.onerror = on_error.bind(null, url);\n      element.rel = \"stylesheet\";\n      element.type = \"text/css\";\n      element.href = url;\n      console.debug(\"Bokeh: injecting link tag for BokehJS stylesheet: \", url);\n      document.body.appendChild(element);\n    }\n\n    const hashes = {\"https://cdn.bokeh.org/bokeh/release/bokeh-2.3.0.min.js\": \"HjagQp6T0/7bxYTAXbLotF1MLAGWmhkY5siA1Gc/pcEgvgRPtMsRn0gQtMwGKiw1\", \"https://cdn.bokeh.org/bokeh/release/bokeh-widgets-2.3.0.min.js\": \"ZEPPTjL+mdyqgIq+/pl9KTwzji8Kow2NnI3zWY8+sFinWP/SYJ80BnfeJsa45iYj\", \"https://cdn.bokeh.org/bokeh/release/bokeh-tables-2.3.0.min.js\": \"exLqv2ACDRIaV7ZK1iL8aGzGYQvKVuT3U2CT7FsQREBxRah6JrkVCoFy0koY1YqV\"};\n\n    for (let i = 0; i < js_urls.length; i++) {\n      const url = js_urls[i];\n      const element = document.createElement('script');\n      element.onload = on_load;\n      element.onerror = on_error.bind(null, url);\n      element.async = false;\n      element.src = url;\n      if (url in hashes) {\n        element.crossOrigin = \"anonymous\";\n        element.integrity = \"sha384-\" + hashes[url];\n      }\n      console.debug(\"Bokeh: injecting script tag for BokehJS library: \", url);\n      document.head.appendChild(element);\n    }\n  };\n\n  function inject_raw_css(css) {\n    const element = document.createElement(\"style\");\n    element.appendChild(document.createTextNode(css));\n    document.body.appendChild(element);\n  }\n\n  \n  var js_urls = [\"https://cdn.bokeh.org/bokeh/release/bokeh-2.3.0.min.js\", \"https://cdn.bokeh.org/bokeh/release/bokeh-widgets-2.3.0.min.js\", \"https://cdn.bokeh.org/bokeh/release/bokeh-tables-2.3.0.min.js\"];\n  var css_urls = [];\n  \n\n  var inline_js = [\n    function(Bokeh) {\n      Bokeh.set_log_level(\"info\");\n    },\n    function(Bokeh) {\n    \n    \n    }\n  ];\n\n  function run_inline_js() {\n    \n    if (root.Bokeh !== undefined || force === true) {\n      \n    for (var i = 0; i < inline_js.length; i++) {\n      inline_js[i].call(root, root.Bokeh);\n    }\n    if (force === true) {\n        display_loaded();\n      }} else if (Date.now() < root._bokeh_timeout) {\n      setTimeout(run_inline_js, 100);\n    } else if (!root._bokeh_failed_load) {\n      console.log(\"Bokeh: BokehJS failed to load within specified timeout.\");\n      root._bokeh_failed_load = true;\n    } else if (force !== true) {\n      var cell = $(document.getElementById(\"1002\")).parents('.cell').data().cell;\n      cell.output_area.append_execute_result(NB_LOAD_WARNING)\n    }\n\n  }\n\n  if (root._bokeh_is_loading === 0) {\n    console.debug(\"Bokeh: BokehJS loaded, going straight to plotting\");\n    run_inline_js();\n  } else {\n    load_libs(css_urls, js_urls, function() {\n      console.debug(\"Bokeh: BokehJS plotting callback run at\", now());\n      run_inline_js();\n    });\n  }\n}(window));"
     },
     "metadata": {},
     "output_type": "display_data"
    }
   ],
   "source": [
    "from bokeh.io import output_notebook, show\n",
    "from bokeh.plotting import figure\n",
    "output_notebook()"
   ]
  },
  {
   "cell_type": "markdown",
   "metadata": {},
   "source": [
    "Now that we know from the previous chapter how multiple plots can be placed together in a layout, we can start to look at how different plots can be linked together, or how plots can be linked to widgets. "
   ]
  },
  {
   "cell_type": "markdown",
   "metadata": {},
   "source": [
    "# Linked Interactions\n",
    "\n",
    "It is possible to link various interactions between different Bokeh plots. For instance, the ranges of two (or more) plots can be linked, so that when one of the plots is panned (or zoomed, or otherwise has its range changed) the other plots will update in unison. It is also possible to link selections between two plots, so that when items are selected on one plot, the corresponding items on the second plot also become selected. "
   ]
  },
  {
   "cell_type": "markdown",
   "metadata": {},
   "source": [
    "## Linked panning\n",
    "\n",
    "Linked panning (when multiple plots have ranges that stay in sync) is simple to spell with Bokeh. You simply share the appropriate range objects between two (or more) plots. The example below shows how to accomplish this by linking the ranges of three plots in various ways:"
   ]
  },
  {
   "cell_type": "code",
   "execution_count": 2,
   "metadata": {},
   "outputs": [
    {
     "data": {
      "text/html": [
       "\n",
       "\n",
       "\n",
       "\n",
       "\n",
       "\n",
       "  <div class=\"bk-root\" id=\"3ee12338-c025-412a-b11b-6d2dab620c0c\" data-root-id=\"1117\"></div>\n"
      ]
     },
     "metadata": {},
     "output_type": "display_data"
    },
    {
     "data": {
      "application/javascript": [
       "(function(root) {\n",
       "  function embed_document(root) {\n",
       "    \n",
       "  var docs_json = {\"613cd8ec-f74c-4e08-a1f7-8aa0ee09cd15\":{\"defs\":[{\"extends\":null,\"module\":null,\"name\":\"DataModel\",\"overrides\":[],\"properties\":[]}],\"roots\":{\"references\":[{\"attributes\":{\"children\":[{\"id\":\"1116\"},{\"id\":\"1114\"}]},\"id\":\"1117\",\"type\":\"Column\"},{\"attributes\":{},\"id\":\"1100\",\"type\":\"UnionRenderers\"},{\"attributes\":{},\"id\":\"1101\",\"type\":\"Selection\"},{\"attributes\":{},\"id\":\"1111\",\"type\":\"UnionRenderers\"},{\"attributes\":{},\"id\":\"1112\",\"type\":\"Selection\"},{\"attributes\":{},\"id\":\"1104\",\"type\":\"Title\"},{\"attributes\":{},\"id\":\"1105\",\"type\":\"BasicTickFormatter\"},{\"attributes\":{},\"id\":\"1107\",\"type\":\"AllLabels\"},{\"attributes\":{},\"id\":\"1108\",\"type\":\"BasicTickFormatter\"},{\"attributes\":{},\"id\":\"1110\",\"type\":\"AllLabels\"},{\"attributes\":{\"formatter\":{\"id\":\"1105\"},\"major_label_policy\":{\"id\":\"1107\"},\"ticker\":{\"id\":\"1064\"}},\"id\":\"1063\",\"type\":\"LinearAxis\"},{\"attributes\":{\"fill_color\":{\"value\":\"olive\"},\"line_color\":{\"value\":\"olive\"},\"marker\":{\"value\":\"square\"},\"size\":{\"value\":10},\"x\":{\"field\":\"x\"},\"y\":{\"field\":\"y\"}},\"id\":\"1077\",\"type\":\"Scatter\"},{\"attributes\":{},\"id\":\"1085\",\"type\":\"AllLabels\"},{\"attributes\":{\"data\":{\"x\":[0,1,2,3,4,5,6,7,8,9,10],\"y\":[5,4,3,2,1,0,1,2,3,4,5]},\"selected\":{\"id\":\"1112\"},\"selection_policy\":{\"id\":\"1111\"}},\"id\":\"1076\",\"type\":\"ColumnDataSource\"},{\"attributes\":{},\"id\":\"1086\",\"type\":\"BasicTickFormatter\"},{\"attributes\":{},\"id\":\"1057\",\"type\":\"DataRange1d\"},{\"attributes\":{\"fill_color\":{\"value\":\"firebrick\"},\"line_color\":{\"value\":\"firebrick\"},\"marker\":{\"value\":\"triangle\"},\"size\":{\"value\":10},\"x\":{\"field\":\"x\"},\"y\":{\"field\":\"y\"}},\"id\":\"1051\",\"type\":\"Scatter\"},{\"attributes\":{\"fill_alpha\":{\"value\":0.1},\"fill_color\":{\"value\":\"olive\"},\"line_alpha\":{\"value\":0.1},\"line_color\":{\"value\":\"olive\"},\"marker\":{\"value\":\"square\"},\"size\":{\"value\":10},\"x\":{\"field\":\"x\"},\"y\":{\"field\":\"y\"}},\"id\":\"1078\",\"type\":\"Scatter\"},{\"attributes\":{\"toolbars\":[{\"id\":\"1022\"},{\"id\":\"1047\"},{\"id\":\"1073\"}],\"tools\":[{\"id\":\"1020\"},{\"id\":\"1021\"},{\"id\":\"1045\"},{\"id\":\"1046\"},{\"id\":\"1071\"},{\"id\":\"1072\"}]},\"id\":\"1115\",\"type\":\"ProxyToolbar\"},{\"attributes\":{},\"id\":\"1004\",\"type\":\"DataRange1d\"},{\"attributes\":{\"children\":[[{\"id\":\"1003\"},0,0],[{\"id\":\"1030\"},0,1],[{\"id\":\"1055\"},0,2]]},\"id\":\"1114\",\"type\":\"GridBox\"},{\"attributes\":{},\"id\":\"1061\",\"type\":\"LinearScale\"},{\"attributes\":{},\"id\":\"1088\",\"type\":\"AllLabels\"},{\"attributes\":{\"below\":[{\"id\":\"1012\"}],\"center\":[{\"id\":\"1015\"},{\"id\":\"1019\"}],\"height\":250,\"left\":[{\"id\":\"1016\"}],\"renderers\":[{\"id\":\"1028\"}],\"title\":{\"id\":\"1082\"},\"toolbar\":{\"id\":\"1022\"},\"toolbar_location\":null,\"width\":250,\"x_range\":{\"id\":\"1004\"},\"x_scale\":{\"id\":\"1008\"},\"y_range\":{\"id\":\"1006\"},\"y_scale\":{\"id\":\"1010\"}},\"id\":\"1003\",\"subtype\":\"Figure\",\"type\":\"Plot\"},{\"attributes\":{},\"id\":\"1059\",\"type\":\"LinearScale\"},{\"attributes\":{\"formatter\":{\"id\":\"1094\"},\"major_label_policy\":{\"id\":\"1096\"},\"ticker\":{\"id\":\"1038\"}},\"id\":\"1037\",\"type\":\"LinearAxis\"},{\"attributes\":{},\"id\":\"1064\",\"type\":\"BasicTicker\"},{\"attributes\":{\"below\":[{\"id\":\"1063\"}],\"center\":[{\"id\":\"1066\"},{\"id\":\"1070\"}],\"height\":250,\"left\":[{\"id\":\"1067\"}],\"renderers\":[{\"id\":\"1079\"}],\"title\":{\"id\":\"1104\"},\"toolbar\":{\"id\":\"1073\"},\"toolbar_location\":null,\"width\":250,\"x_range\":{\"id\":\"1004\"},\"x_scale\":{\"id\":\"1059\"},\"y_range\":{\"id\":\"1057\"},\"y_scale\":{\"id\":\"1061\"}},\"id\":\"1055\",\"subtype\":\"Figure\",\"type\":\"Plot\"},{\"attributes\":{},\"id\":\"1089\",\"type\":\"UnionRenderers\"},{\"attributes\":{\"formatter\":{\"id\":\"1108\"},\"major_label_policy\":{\"id\":\"1110\"},\"ticker\":{\"id\":\"1068\"}},\"id\":\"1067\",\"type\":\"LinearAxis\"},{\"attributes\":{\"fill_alpha\":{\"value\":0.1},\"fill_color\":{\"value\":\"firebrick\"},\"line_alpha\":{\"value\":0.1},\"line_color\":{\"value\":\"firebrick\"},\"marker\":{\"value\":\"triangle\"},\"size\":{\"value\":10},\"x\":{\"field\":\"x\"},\"y\":{\"field\":\"y\"}},\"id\":\"1052\",\"type\":\"Scatter\"},{\"attributes\":{},\"id\":\"1006\",\"type\":\"DataRange1d\"},{\"attributes\":{\"axis\":{\"id\":\"1063\"},\"ticker\":null},\"id\":\"1066\",\"type\":\"Grid\"},{\"attributes\":{\"formatter\":{\"id\":\"1086\"},\"major_label_policy\":{\"id\":\"1088\"},\"ticker\":{\"id\":\"1017\"}},\"id\":\"1016\",\"type\":\"LinearAxis\"},{\"attributes\":{},\"id\":\"1010\",\"type\":\"LinearScale\"},{\"attributes\":{\"axis\":{\"id\":\"1012\"},\"ticker\":null},\"id\":\"1015\",\"type\":\"Grid\"},{\"attributes\":{\"formatter\":{\"id\":\"1083\"},\"major_label_policy\":{\"id\":\"1085\"},\"ticker\":{\"id\":\"1013\"}},\"id\":\"1012\",\"type\":\"LinearAxis\"},{\"attributes\":{\"axis\":{\"id\":\"1067\"},\"dimension\":1,\"ticker\":null},\"id\":\"1070\",\"type\":\"Grid\"},{\"attributes\":{},\"id\":\"1013\",\"type\":\"BasicTicker\"},{\"attributes\":{},\"id\":\"1068\",\"type\":\"BasicTicker\"},{\"attributes\":{\"data\":{\"x\":[0,1,2,3,4,5,6,7,8,9,10],\"y\":[0,1,2,3,4,5,6,7,8,9,10]},\"selected\":{\"id\":\"1090\"},\"selection_policy\":{\"id\":\"1089\"}},\"id\":\"1025\",\"type\":\"ColumnDataSource\"},{\"attributes\":{},\"id\":\"1008\",\"type\":\"LinearScale\"},{\"attributes\":{},\"id\":\"1072\",\"type\":\"WheelZoomTool\"},{\"attributes\":{},\"id\":\"1017\",\"type\":\"BasicTicker\"},{\"attributes\":{},\"id\":\"1071\",\"type\":\"PanTool\"},{\"attributes\":{\"source\":{\"id\":\"1076\"}},\"id\":\"1080\",\"type\":\"CDSView\"},{\"attributes\":{\"axis\":{\"id\":\"1016\"},\"dimension\":1,\"ticker\":null},\"id\":\"1019\",\"type\":\"Grid\"},{\"attributes\":{\"axis\":{\"id\":\"1037\"},\"ticker\":null},\"id\":\"1040\",\"type\":\"Grid\"},{\"attributes\":{},\"id\":\"1035\",\"type\":\"LinearScale\"},{\"attributes\":{},\"id\":\"1021\",\"type\":\"WheelZoomTool\"},{\"attributes\":{},\"id\":\"1020\",\"type\":\"PanTool\"},{\"attributes\":{},\"id\":\"1090\",\"type\":\"Selection\"},{\"attributes\":{\"axis\":{\"id\":\"1041\"},\"dimension\":1,\"ticker\":null},\"id\":\"1044\",\"type\":\"Grid\"},{\"attributes\":{},\"id\":\"1033\",\"type\":\"LinearScale\"},{\"attributes\":{\"data_source\":{\"id\":\"1025\"},\"glyph\":{\"id\":\"1026\"},\"hover_glyph\":null,\"muted_glyph\":null,\"nonselection_glyph\":{\"id\":\"1027\"},\"view\":{\"id\":\"1029\"}},\"id\":\"1028\",\"type\":\"GlyphRenderer\"},{\"attributes\":{},\"id\":\"1093\",\"type\":\"Title\"},{\"attributes\":{},\"id\":\"1038\",\"type\":\"BasicTicker\"},{\"attributes\":{\"below\":[{\"id\":\"1037\"}],\"center\":[{\"id\":\"1040\"},{\"id\":\"1044\"}],\"height\":250,\"left\":[{\"id\":\"1041\"}],\"renderers\":[{\"id\":\"1053\"}],\"title\":{\"id\":\"1093\"},\"toolbar\":{\"id\":\"1047\"},\"toolbar_location\":null,\"width\":250,\"x_range\":{\"id\":\"1004\"},\"x_scale\":{\"id\":\"1033\"},\"y_range\":{\"id\":\"1006\"},\"y_scale\":{\"id\":\"1035\"}},\"id\":\"1030\",\"subtype\":\"Figure\",\"type\":\"Plot\"},{\"attributes\":{\"formatter\":{\"id\":\"1097\"},\"major_label_policy\":{\"id\":\"1099\"},\"ticker\":{\"id\":\"1042\"}},\"id\":\"1041\",\"type\":\"LinearAxis\"},{\"attributes\":{\"source\":{\"id\":\"1025\"}},\"id\":\"1029\",\"type\":\"CDSView\"},{\"attributes\":{\"fill_color\":{\"value\":\"navy\"},\"line_color\":{\"value\":\"navy\"},\"size\":{\"value\":10},\"x\":{\"field\":\"x\"},\"y\":{\"field\":\"y\"}},\"id\":\"1026\",\"type\":\"Circle\"},{\"attributes\":{\"fill_alpha\":{\"value\":0.1},\"fill_color\":{\"value\":\"navy\"},\"line_alpha\":{\"value\":0.1},\"line_color\":{\"value\":\"navy\"},\"size\":{\"value\":10},\"x\":{\"field\":\"x\"},\"y\":{\"field\":\"y\"}},\"id\":\"1027\",\"type\":\"Circle\"},{\"attributes\":{\"data\":{\"x\":[0,1,2,3,4,5,6,7,8,9,10],\"y\":[10,9,8,7,6,5,4,3,2,1,0]},\"selected\":{\"id\":\"1101\"},\"selection_policy\":{\"id\":\"1100\"}},\"id\":\"1050\",\"type\":\"ColumnDataSource\"},{\"attributes\":{\"active_multi\":null,\"tools\":[{\"id\":\"1071\"},{\"id\":\"1072\"}]},\"id\":\"1073\",\"type\":\"Toolbar\"},{\"attributes\":{\"data_source\":{\"id\":\"1076\"},\"glyph\":{\"id\":\"1077\"},\"hover_glyph\":null,\"muted_glyph\":null,\"nonselection_glyph\":{\"id\":\"1078\"},\"view\":{\"id\":\"1080\"}},\"id\":\"1079\",\"type\":\"GlyphRenderer\"},{\"attributes\":{\"active_multi\":null,\"tools\":[{\"id\":\"1020\"},{\"id\":\"1021\"}]},\"id\":\"1022\",\"type\":\"Toolbar\"},{\"attributes\":{\"active_multi\":null,\"tools\":[{\"id\":\"1045\"},{\"id\":\"1046\"}]},\"id\":\"1047\",\"type\":\"Toolbar\"},{\"attributes\":{\"toolbar\":{\"id\":\"1115\"},\"toolbar_location\":\"above\"},\"id\":\"1116\",\"type\":\"ToolbarBox\"},{\"attributes\":{\"data_source\":{\"id\":\"1050\"},\"glyph\":{\"id\":\"1051\"},\"hover_glyph\":null,\"muted_glyph\":null,\"nonselection_glyph\":{\"id\":\"1052\"},\"view\":{\"id\":\"1054\"}},\"id\":\"1053\",\"type\":\"GlyphRenderer\"},{\"attributes\":{},\"id\":\"1082\",\"type\":\"Title\"},{\"attributes\":{},\"id\":\"1094\",\"type\":\"BasicTickFormatter\"},{\"attributes\":{},\"id\":\"1096\",\"type\":\"AllLabels\"},{\"attributes\":{},\"id\":\"1042\",\"type\":\"BasicTicker\"},{\"attributes\":{},\"id\":\"1097\",\"type\":\"BasicTickFormatter\"},{\"attributes\":{},\"id\":\"1046\",\"type\":\"WheelZoomTool\"},{\"attributes\":{},\"id\":\"1045\",\"type\":\"PanTool\"},{\"attributes\":{\"source\":{\"id\":\"1050\"}},\"id\":\"1054\",\"type\":\"CDSView\"},{\"attributes\":{},\"id\":\"1099\",\"type\":\"AllLabels\"},{\"attributes\":{},\"id\":\"1083\",\"type\":\"BasicTickFormatter\"}],\"root_ids\":[\"1117\"]},\"title\":\"Bokeh Application\",\"version\":\"2.3.0\"}};\n",
       "  var render_items = [{\"docid\":\"613cd8ec-f74c-4e08-a1f7-8aa0ee09cd15\",\"root_ids\":[\"1117\"],\"roots\":{\"1117\":\"3ee12338-c025-412a-b11b-6d2dab620c0c\"}}];\n",
       "  root.Bokeh.embed.embed_items_notebook(docs_json, render_items);\n",
       "\n",
       "  }\n",
       "  if (root.Bokeh !== undefined) {\n",
       "    embed_document(root);\n",
       "  } else {\n",
       "    var attempts = 0;\n",
       "    var timer = setInterval(function(root) {\n",
       "      if (root.Bokeh !== undefined) {\n",
       "        clearInterval(timer);\n",
       "        embed_document(root);\n",
       "      } else {\n",
       "        attempts++;\n",
       "        if (attempts > 100) {\n",
       "          clearInterval(timer);\n",
       "          console.log(\"Bokeh: ERROR: Unable to run BokehJS code because BokehJS library is missing\");\n",
       "        }\n",
       "      }\n",
       "    }, 10, root)\n",
       "  }\n",
       "})(window);"
      ],
      "application/vnd.bokehjs_exec.v0+json": ""
     },
     "metadata": {
      "application/vnd.bokehjs_exec.v0+json": {
       "id": "1117"
      }
     },
     "output_type": "display_data"
    }
   ],
   "source": [
    "from bokeh.layouts import gridplot\n",
    "\n",
    "x = list(range(11))\n",
    "y0, y1, y2 = x, [10-i for i in x], [abs(i-5) for i in x]\n",
    "\n",
    "plot_options = dict(width=250, plot_height=250, tools='pan,wheel_zoom')\n",
    "\n",
    "# create a new plot\n",
    "s1 = figure(**plot_options)\n",
    "s1.circle(x, y0, size=10, color=\"navy\")\n",
    "\n",
    "# create a new plot and share both ranges\n",
    "s2 = figure(x_range=s1.x_range, y_range=s1.y_range, **plot_options)\n",
    "s2.triangle(x, y1, size=10, color=\"firebrick\")\n",
    "\n",
    "# create a new plot and share only one range\n",
    "s3 = figure(x_range=s1.x_range, **plot_options)\n",
    "s3.square(x, y2, size=10, color=\"olive\")\n",
    "\n",
    "p = gridplot([[s1, s2, s3]])\n",
    "\n",
    "# show the results\n",
    "show(p)"
   ]
  },
  {
   "cell_type": "code",
   "execution_count": 5,
   "metadata": {},
   "outputs": [
    {
     "data": {
      "text/html": [
       "\n",
       "\n",
       "\n",
       "\n",
       "\n",
       "\n",
       "  <div class=\"bk-root\" id=\"b74e9d84-2135-42c3-a549-9bec2628d948\" data-root-id=\"1674\"></div>\n"
      ]
     },
     "metadata": {},
     "output_type": "display_data"
    },
    {
     "data": {
      "application/javascript": [
       "(function(root) {\n",
       "  function embed_document(root) {\n",
       "    \n",
       "  var docs_json = {\"7012ce0c-b314-46af-b4cd-4a2e7481529e\":{\"defs\":[{\"extends\":null,\"module\":null,\"name\":\"DataModel\",\"overrides\":[],\"properties\":[]}],\"roots\":{\"references\":[{\"attributes\":{\"children\":[{\"id\":\"1673\"},{\"id\":\"1671\"}]},\"id\":\"1674\",\"type\":\"Column\"},{\"attributes\":{\"data_source\":{\"id\":\"1644\"},\"glyph\":{\"id\":\"1645\"},\"hover_glyph\":null,\"muted_glyph\":null,\"nonselection_glyph\":{\"id\":\"1646\"},\"view\":{\"id\":\"1648\"}},\"id\":\"1647\",\"type\":\"GlyphRenderer\"},{\"attributes\":{},\"id\":\"1664\",\"type\":\"AllLabels\"},{\"attributes\":{},\"id\":\"1639\",\"type\":\"PanTool\"},{\"attributes\":{},\"id\":\"1656\",\"type\":\"AllLabels\"},{\"attributes\":{},\"id\":\"1665\",\"type\":\"BasicTickFormatter\"},{\"attributes\":{},\"id\":\"1640\",\"type\":\"WheelZoomTool\"},{\"attributes\":{},\"id\":\"1650\",\"type\":\"Title\"},{\"attributes\":{\"axis\":{\"id\":\"1635\"},\"dimension\":1,\"ticker\":null},\"id\":\"1638\",\"type\":\"Grid\"},{\"attributes\":{\"angle\":{\"value\":-2},\"length\":{\"field\":\"length\"},\"line_color\":{\"value\":\"firebrick\"},\"x\":{\"field\":\"x\"},\"y\":{\"field\":\"y\"}},\"id\":\"1645\",\"type\":\"Ray\"},{\"attributes\":{},\"id\":\"1667\",\"type\":\"AllLabels\"},{\"attributes\":{\"toolbar\":{\"id\":\"1672\"},\"toolbar_location\":\"above\"},\"id\":\"1673\",\"type\":\"ToolbarBox\"},{\"attributes\":{},\"id\":\"1636\",\"type\":\"BasicTicker\"},{\"attributes\":{},\"id\":\"1653\",\"type\":\"AllLabels\"},{\"attributes\":{},\"id\":\"1661\",\"type\":\"Title\"},{\"attributes\":{\"source\":{\"id\":\"1619\"}},\"id\":\"1623\",\"type\":\"CDSView\"},{\"attributes\":{},\"id\":\"1598\",\"type\":\"DataRange1d\"},{\"attributes\":{\"axis\":{\"id\":\"1631\"},\"ticker\":null},\"id\":\"1634\",\"type\":\"Grid\"},{\"attributes\":{\"fill_alpha\":{\"value\":0.1},\"fill_color\":{\"value\":\"navy\"},\"line_alpha\":{\"value\":0.1},\"line_color\":{\"value\":\"navy\"},\"size\":{\"value\":10},\"x\":{\"field\":\"x\"},\"y\":{\"field\":\"y\"}},\"id\":\"1621\",\"type\":\"Circle\"},{\"attributes\":{\"data\":{\"x\":[0,1,2,3,4,5,6,7,8,9,10],\"y\":[0,1,2,3,4,5,6,7,8,9,10]},\"selected\":{\"id\":\"1658\"},\"selection_policy\":{\"id\":\"1657\"}},\"id\":\"1619\",\"type\":\"ColumnDataSource\"},{\"attributes\":{\"data_source\":{\"id\":\"1619\"},\"glyph\":{\"id\":\"1620\"},\"hover_glyph\":null,\"muted_glyph\":null,\"nonselection_glyph\":{\"id\":\"1621\"},\"view\":{\"id\":\"1623\"}},\"id\":\"1622\",\"type\":\"GlyphRenderer\"},{\"attributes\":{\"below\":[{\"id\":\"1631\"}],\"center\":[{\"id\":\"1634\"},{\"id\":\"1638\"}],\"height\":250,\"left\":[{\"id\":\"1635\"}],\"renderers\":[{\"id\":\"1647\"}],\"title\":{\"id\":\"1661\"},\"toolbar\":{\"id\":\"1641\"},\"toolbar_location\":null,\"width\":250,\"x_range\":{\"id\":\"1598\"},\"x_scale\":{\"id\":\"1627\"},\"y_range\":{\"id\":\"1600\"},\"y_scale\":{\"id\":\"1629\"}},\"id\":\"1624\",\"subtype\":\"Figure\",\"type\":\"Plot\"},{\"attributes\":{\"formatter\":{\"id\":\"1654\"},\"major_label_policy\":{\"id\":\"1656\"},\"ticker\":{\"id\":\"1611\"}},\"id\":\"1610\",\"type\":\"LinearAxis\"},{\"attributes\":{},\"id\":\"1654\",\"type\":\"BasicTickFormatter\"},{\"attributes\":{\"angle\":{\"value\":-2},\"length\":{\"field\":\"length\"},\"line_alpha\":{\"value\":0.1},\"line_color\":{\"value\":\"firebrick\"},\"x\":{\"field\":\"x\"},\"y\":{\"field\":\"y\"}},\"id\":\"1646\",\"type\":\"Ray\"},{\"attributes\":{},\"id\":\"1604\",\"type\":\"LinearScale\"},{\"attributes\":{\"formatter\":{\"id\":\"1651\"},\"major_label_policy\":{\"id\":\"1653\"},\"ticker\":{\"id\":\"1607\"}},\"id\":\"1606\",\"type\":\"LinearAxis\"},{\"attributes\":{\"source\":{\"id\":\"1644\"}},\"id\":\"1648\",\"type\":\"CDSView\"},{\"attributes\":{},\"id\":\"1607\",\"type\":\"BasicTicker\"},{\"attributes\":{},\"id\":\"1668\",\"type\":\"UnionRenderers\"},{\"attributes\":{},\"id\":\"1602\",\"type\":\"LinearScale\"},{\"attributes\":{},\"id\":\"1669\",\"type\":\"Selection\"},{\"attributes\":{\"children\":[[{\"id\":\"1597\"},0,0],[{\"id\":\"1624\"},0,1]]},\"id\":\"1671\",\"type\":\"GridBox\"},{\"attributes\":{\"toolbars\":[{\"id\":\"1616\"},{\"id\":\"1641\"}],\"tools\":[{\"id\":\"1614\"},{\"id\":\"1615\"},{\"id\":\"1639\"},{\"id\":\"1640\"}]},\"id\":\"1672\",\"type\":\"ProxyToolbar\"},{\"attributes\":{},\"id\":\"1657\",\"type\":\"UnionRenderers\"},{\"attributes\":{\"axis\":{\"id\":\"1606\"},\"ticker\":null},\"id\":\"1609\",\"type\":\"Grid\"},{\"attributes\":{},\"id\":\"1658\",\"type\":\"Selection\"},{\"attributes\":{\"axis\":{\"id\":\"1610\"},\"dimension\":1,\"ticker\":null},\"id\":\"1613\",\"type\":\"Grid\"},{\"attributes\":{},\"id\":\"1611\",\"type\":\"BasicTicker\"},{\"attributes\":{},\"id\":\"1600\",\"type\":\"DataRange1d\"},{\"attributes\":{\"data\":{\"length\":[0,1,2,3,4,5,6,7,8,9,10],\"x\":[0,1,2,3,4,5,6,7,8,9,10],\"y\":[0,1,4,9,16,25,36,49,64,81,100]},\"selected\":{\"id\":\"1669\"},\"selection_policy\":{\"id\":\"1668\"}},\"id\":\"1644\",\"type\":\"ColumnDataSource\"},{\"attributes\":{},\"id\":\"1615\",\"type\":\"WheelZoomTool\"},{\"attributes\":{},\"id\":\"1614\",\"type\":\"PanTool\"},{\"attributes\":{\"formatter\":{\"id\":\"1662\"},\"major_label_policy\":{\"id\":\"1664\"},\"ticker\":{\"id\":\"1632\"}},\"id\":\"1631\",\"type\":\"LinearAxis\"},{\"attributes\":{\"below\":[{\"id\":\"1606\"}],\"center\":[{\"id\":\"1609\"},{\"id\":\"1613\"}],\"height\":250,\"left\":[{\"id\":\"1610\"}],\"renderers\":[{\"id\":\"1622\"}],\"title\":{\"id\":\"1650\"},\"toolbar\":{\"id\":\"1616\"},\"toolbar_location\":null,\"width\":250,\"x_range\":{\"id\":\"1598\"},\"x_scale\":{\"id\":\"1602\"},\"y_range\":{\"id\":\"1600\"},\"y_scale\":{\"id\":\"1604\"}},\"id\":\"1597\",\"subtype\":\"Figure\",\"type\":\"Plot\"},{\"attributes\":{},\"id\":\"1651\",\"type\":\"BasicTickFormatter\"},{\"attributes\":{\"fill_color\":{\"value\":\"navy\"},\"line_color\":{\"value\":\"navy\"},\"size\":{\"value\":10},\"x\":{\"field\":\"x\"},\"y\":{\"field\":\"y\"}},\"id\":\"1620\",\"type\":\"Circle\"},{\"attributes\":{\"active_multi\":null,\"tools\":[{\"id\":\"1614\"},{\"id\":\"1615\"}]},\"id\":\"1616\",\"type\":\"Toolbar\"},{\"attributes\":{},\"id\":\"1629\",\"type\":\"LinearScale\"},{\"attributes\":{},\"id\":\"1662\",\"type\":\"BasicTickFormatter\"},{\"attributes\":{\"formatter\":{\"id\":\"1665\"},\"major_label_policy\":{\"id\":\"1667\"},\"ticker\":{\"id\":\"1636\"}},\"id\":\"1635\",\"type\":\"LinearAxis\"},{\"attributes\":{},\"id\":\"1627\",\"type\":\"LinearScale\"},{\"attributes\":{\"active_multi\":null,\"tools\":[{\"id\":\"1639\"},{\"id\":\"1640\"}]},\"id\":\"1641\",\"type\":\"Toolbar\"},{\"attributes\":{},\"id\":\"1632\",\"type\":\"BasicTicker\"}],\"root_ids\":[\"1674\"]},\"title\":\"Bokeh Application\",\"version\":\"2.3.0\"}};\n",
       "  var render_items = [{\"docid\":\"7012ce0c-b314-46af-b4cd-4a2e7481529e\",\"root_ids\":[\"1674\"],\"roots\":{\"1674\":\"b74e9d84-2135-42c3-a549-9bec2628d948\"}}];\n",
       "  root.Bokeh.embed.embed_items_notebook(docs_json, render_items);\n",
       "\n",
       "  }\n",
       "  if (root.Bokeh !== undefined) {\n",
       "    embed_document(root);\n",
       "  } else {\n",
       "    var attempts = 0;\n",
       "    var timer = setInterval(function(root) {\n",
       "      if (root.Bokeh !== undefined) {\n",
       "        clearInterval(timer);\n",
       "        embed_document(root);\n",
       "      } else {\n",
       "        attempts++;\n",
       "        if (attempts > 100) {\n",
       "          clearInterval(timer);\n",
       "          console.log(\"Bokeh: ERROR: Unable to run BokehJS code because BokehJS library is missing\");\n",
       "        }\n",
       "      }\n",
       "    }, 10, root)\n",
       "  }\n",
       "})(window);"
      ],
      "application/vnd.bokehjs_exec.v0+json": ""
     },
     "metadata": {
      "application/vnd.bokehjs_exec.v0+json": {
       "id": "1674"
      }
     },
     "output_type": "display_data"
    }
   ],
   "source": [
    "# EXERCISE: create two plots in a gridplot, and link their ranges\n",
    "from bokeh.layouts import gridplot\n",
    "\n",
    "x = list(range(11))\n",
    "y0, y1, y2 = x, [i*i for i in x], [abs(i-5) for i in x]\n",
    "l = y2\n",
    "\n",
    "plot_options = dict(width=250, plot_height=250, tools='pan,wheel_zoom')\n",
    "\n",
    "# create a new plot\n",
    "s1 = figure(**plot_options)\n",
    "s1.circle(x, y0, size=10, color=\"navy\")\n",
    "\n",
    "# create a new plot and share both ranges\n",
    "s2 = figure(x_range=s1.x_range, y_range=s1.y_range, **plot_options)\n",
    "s2.ray(x, y1, x, angle=-2, line_color=\"firebrick\")\n",
    "\n",
    "p = gridplot([[s1, s2]])\n",
    "\n",
    "# show the results\n",
    "show(p)"
   ]
  },
  {
   "cell_type": "markdown",
   "metadata": {},
   "source": [
    "## Linked brushing\n",
    "\n",
    "Linking selections is accomplished in a similar way, by sharing data sources between plots. Note that normally with ``bokeh.plotting`` and ``bokeh.charts`` creating a default data source for simple plots is handled automatically. However to share a data source, we must create them by hand and pass them explicitly. This is illustrated in the example below:"
   ]
  },
  {
   "cell_type": "code",
   "execution_count": 6,
   "metadata": {},
   "outputs": [
    {
     "data": {
      "text/html": [
       "\n",
       "\n",
       "\n",
       "\n",
       "\n",
       "\n",
       "  <div class=\"bk-root\" id=\"3ea50374-7044-4c21-88ca-1957c0ec3fb9\" data-root-id=\"1947\"></div>\n"
      ]
     },
     "metadata": {},
     "output_type": "display_data"
    },
    {
     "data": {
      "application/javascript": [
       "(function(root) {\n",
       "  function embed_document(root) {\n",
       "    \n",
       "  var docs_json = {\"97b9e1d9-09a6-47ad-8cb6-6e91848ceb3e\":{\"defs\":[{\"extends\":null,\"module\":null,\"name\":\"DataModel\",\"overrides\":[],\"properties\":[]}],\"roots\":{\"references\":[{\"attributes\":{\"children\":[{\"id\":\"1946\"},{\"id\":\"1944\"}]},\"id\":\"1947\",\"type\":\"Column\"},{\"attributes\":{},\"id\":\"1901\",\"type\":\"BasicTicker\"},{\"attributes\":{},\"id\":\"1919\",\"type\":\"Title\"},{\"attributes\":{},\"id\":\"1935\",\"type\":\"AllLabels\"},{\"attributes\":{},\"id\":\"1906\",\"type\":\"HelpTool\"},{\"attributes\":{\"source\":{\"id\":\"1855\"}},\"id\":\"1886\",\"type\":\"CDSView\"},{\"attributes\":{\"overlay\":{\"id\":\"1908\"}},\"id\":\"1905\",\"type\":\"LassoSelectTool\"},{\"attributes\":{\"toolbar\":{\"id\":\"1945\"},\"toolbar_location\":\"above\"},\"id\":\"1946\",\"type\":\"ToolbarBox\"},{\"attributes\":{},\"id\":\"1861\",\"type\":\"LinearScale\"},{\"attributes\":{},\"id\":\"1932\",\"type\":\"Title\"},{\"attributes\":{\"below\":[{\"id\":\"1896\"}],\"center\":[{\"id\":\"1899\"},{\"id\":\"1903\"}],\"height\":300,\"left\":[{\"id\":\"1900\"}],\"renderers\":[{\"id\":\"1916\"}],\"title\":{\"id\":\"1932\"},\"toolbar\":{\"id\":\"1909\"},\"toolbar_location\":null,\"width\":300,\"x_range\":{\"id\":\"1888\"},\"x_scale\":{\"id\":\"1892\"},\"y_range\":{\"id\":\"1890\"},\"y_scale\":{\"id\":\"1894\"}},\"id\":\"1887\",\"subtype\":\"Figure\",\"type\":\"Plot\"},{\"attributes\":{\"fill_alpha\":{\"value\":0.1},\"fill_color\":{\"value\":\"#1f77b4\"},\"line_alpha\":{\"value\":0.1},\"line_color\":{\"value\":\"#1f77b4\"},\"x\":{\"field\":\"x\"},\"y\":{\"field\":\"y0\"}},\"id\":\"1884\",\"type\":\"Circle\"},{\"attributes\":{\"overlay\":{\"id\":\"1877\"}},\"id\":\"1874\",\"type\":\"LassoSelectTool\"},{\"attributes\":{},\"id\":\"1875\",\"type\":\"HelpTool\"},{\"attributes\":{\"data_source\":{\"id\":\"1855\"},\"glyph\":{\"id\":\"1883\"},\"hover_glyph\":null,\"muted_glyph\":null,\"nonselection_glyph\":{\"id\":\"1884\"},\"view\":{\"id\":\"1886\"}},\"id\":\"1885\",\"type\":\"GlyphRenderer\"},{\"attributes\":{\"bottom_units\":\"screen\",\"fill_alpha\":0.5,\"fill_color\":\"lightgrey\",\"left_units\":\"screen\",\"level\":\"overlay\",\"line_alpha\":1.0,\"line_color\":\"black\",\"line_dash\":[4,4],\"line_width\":2,\"right_units\":\"screen\",\"syncable\":false,\"top_units\":\"screen\"},\"id\":\"1876\",\"type\":\"BoxAnnotation\"},{\"attributes\":{},\"id\":\"1866\",\"type\":\"BasicTicker\"},{\"attributes\":{},\"id\":\"1938\",\"type\":\"AllLabels\"},{\"attributes\":{},\"id\":\"1936\",\"type\":\"BasicTickFormatter\"},{\"attributes\":{},\"id\":\"1928\",\"type\":\"UnionRenderers\"},{\"attributes\":{\"source\":{\"id\":\"1855\"}},\"id\":\"1917\",\"type\":\"CDSView\"},{\"attributes\":{\"fill_alpha\":{\"value\":0.1},\"fill_color\":{\"value\":\"#1f77b4\"},\"line_alpha\":{\"value\":0.1},\"line_color\":{\"value\":\"#1f77b4\"},\"x\":{\"field\":\"x\"},\"y\":{\"field\":\"y1\"}},\"id\":\"1915\",\"type\":\"Circle\"},{\"attributes\":{},\"id\":\"1929\",\"type\":\"Selection\"},{\"attributes\":{\"formatter\":{\"id\":\"1933\"},\"major_label_policy\":{\"id\":\"1935\"},\"ticker\":{\"id\":\"1897\"}},\"id\":\"1896\",\"type\":\"LinearAxis\"},{\"attributes\":{\"fill_color\":{\"value\":\"#1f77b4\"},\"line_color\":{\"value\":\"#1f77b4\"},\"x\":{\"field\":\"x\"},\"y\":{\"field\":\"y0\"}},\"id\":\"1883\",\"type\":\"Circle\"},{\"attributes\":{\"active_multi\":null,\"tools\":[{\"id\":\"1873\"},{\"id\":\"1874\"},{\"id\":\"1875\"}]},\"id\":\"1878\",\"type\":\"Toolbar\"},{\"attributes\":{\"axis\":{\"id\":\"1865\"},\"ticker\":null},\"id\":\"1868\",\"type\":\"Grid\"},{\"attributes\":{\"data\":{\"x\":[-20,-19,-18,-17,-16,-15,-14,-13,-12,-11,-10,-9,-8,-7,-6,-5,-4,-3,-2,-1,0,1,2,3,4,5,6,7,8,9,10,11,12,13,14,15,16,17,18,19,20],\"y0\":[20,19,18,17,16,15,14,13,12,11,10,9,8,7,6,5,4,3,2,1,0,1,2,3,4,5,6,7,8,9,10,11,12,13,14,15,16,17,18,19,20],\"y1\":[400,361,324,289,256,225,196,169,144,121,100,81,64,49,36,25,16,9,4,1,0,1,4,9,16,25,36,49,64,81,100,121,144,169,196,225,256,289,324,361,400]},\"selected\":{\"id\":\"1929\"},\"selection_policy\":{\"id\":\"1928\"}},\"id\":\"1855\",\"type\":\"ColumnDataSource\"},{\"attributes\":{},\"id\":\"1857\",\"type\":\"DataRange1d\"},{\"attributes\":{\"fill_alpha\":0.5,\"fill_color\":\"lightgrey\",\"level\":\"overlay\",\"line_alpha\":1.0,\"line_color\":\"black\",\"line_dash\":[4,4],\"line_width\":2,\"syncable\":false,\"xs_units\":\"screen\",\"ys_units\":\"screen\"},\"id\":\"1877\",\"type\":\"PolyAnnotation\"},{\"attributes\":{},\"id\":\"1863\",\"type\":\"LinearScale\"},{\"attributes\":{},\"id\":\"1920\",\"type\":\"BasicTickFormatter\"},{\"attributes\":{\"bottom_units\":\"screen\",\"fill_alpha\":0.5,\"fill_color\":\"lightgrey\",\"left_units\":\"screen\",\"level\":\"overlay\",\"line_alpha\":1.0,\"line_color\":\"black\",\"line_dash\":[4,4],\"line_width\":2,\"right_units\":\"screen\",\"syncable\":false,\"top_units\":\"screen\"},\"id\":\"1907\",\"type\":\"BoxAnnotation\"},{\"attributes\":{\"fill_color\":{\"value\":\"#1f77b4\"},\"line_color\":{\"value\":\"#1f77b4\"},\"x\":{\"field\":\"x\"},\"y\":{\"field\":\"y1\"}},\"id\":\"1914\",\"type\":\"Circle\"},{\"attributes\":{\"children\":[[{\"id\":\"1856\"},0,0],[{\"id\":\"1887\"},0,1]]},\"id\":\"1944\",\"type\":\"GridBox\"},{\"attributes\":{\"overlay\":{\"id\":\"1907\"}},\"id\":\"1904\",\"type\":\"BoxSelectTool\"},{\"attributes\":{\"formatter\":{\"id\":\"1920\"},\"major_label_policy\":{\"id\":\"1922\"},\"ticker\":{\"id\":\"1866\"}},\"id\":\"1865\",\"type\":\"LinearAxis\"},{\"attributes\":{},\"id\":\"1888\",\"type\":\"DataRange1d\"},{\"attributes\":{\"formatter\":{\"id\":\"1936\"},\"major_label_policy\":{\"id\":\"1938\"},\"ticker\":{\"id\":\"1901\"}},\"id\":\"1900\",\"type\":\"LinearAxis\"},{\"attributes\":{\"active_multi\":null,\"tools\":[{\"id\":\"1904\"},{\"id\":\"1905\"},{\"id\":\"1906\"}]},\"id\":\"1909\",\"type\":\"Toolbar\"},{\"attributes\":{},\"id\":\"1922\",\"type\":\"AllLabels\"},{\"attributes\":{},\"id\":\"1892\",\"type\":\"LinearScale\"},{\"attributes\":{\"axis\":{\"id\":\"1869\"},\"dimension\":1,\"ticker\":null},\"id\":\"1872\",\"type\":\"Grid\"},{\"attributes\":{},\"id\":\"1923\",\"type\":\"BasicTickFormatter\"},{\"attributes\":{\"toolbars\":[{\"id\":\"1878\"},{\"id\":\"1909\"}],\"tools\":[{\"id\":\"1873\"},{\"id\":\"1874\"},{\"id\":\"1875\"},{\"id\":\"1904\"},{\"id\":\"1905\"},{\"id\":\"1906\"}]},\"id\":\"1945\",\"type\":\"ProxyToolbar\"},{\"attributes\":{},\"id\":\"1890\",\"type\":\"DataRange1d\"},{\"attributes\":{\"below\":[{\"id\":\"1865\"}],\"center\":[{\"id\":\"1868\"},{\"id\":\"1872\"}],\"height\":300,\"left\":[{\"id\":\"1869\"}],\"renderers\":[{\"id\":\"1885\"}],\"title\":{\"id\":\"1919\"},\"toolbar\":{\"id\":\"1878\"},\"toolbar_location\":null,\"width\":300,\"x_range\":{\"id\":\"1857\"},\"x_scale\":{\"id\":\"1861\"},\"y_range\":{\"id\":\"1859\"},\"y_scale\":{\"id\":\"1863\"}},\"id\":\"1856\",\"subtype\":\"Figure\",\"type\":\"Plot\"},{\"attributes\":{},\"id\":\"1870\",\"type\":\"BasicTicker\"},{\"attributes\":{},\"id\":\"1894\",\"type\":\"LinearScale\"},{\"attributes\":{\"fill_alpha\":0.5,\"fill_color\":\"lightgrey\",\"level\":\"overlay\",\"line_alpha\":1.0,\"line_color\":\"black\",\"line_dash\":[4,4],\"line_width\":2,\"syncable\":false,\"xs_units\":\"screen\",\"ys_units\":\"screen\"},\"id\":\"1908\",\"type\":\"PolyAnnotation\"},{\"attributes\":{},\"id\":\"1925\",\"type\":\"AllLabels\"},{\"attributes\":{\"formatter\":{\"id\":\"1923\"},\"major_label_policy\":{\"id\":\"1925\"},\"ticker\":{\"id\":\"1870\"}},\"id\":\"1869\",\"type\":\"LinearAxis\"},{\"attributes\":{\"data_source\":{\"id\":\"1855\"},\"glyph\":{\"id\":\"1914\"},\"hover_glyph\":null,\"muted_glyph\":null,\"nonselection_glyph\":{\"id\":\"1915\"},\"view\":{\"id\":\"1917\"}},\"id\":\"1916\",\"type\":\"GlyphRenderer\"},{\"attributes\":{\"axis\":{\"id\":\"1896\"},\"ticker\":null},\"id\":\"1899\",\"type\":\"Grid\"},{\"attributes\":{\"overlay\":{\"id\":\"1876\"}},\"id\":\"1873\",\"type\":\"BoxSelectTool\"},{\"attributes\":{},\"id\":\"1897\",\"type\":\"BasicTicker\"},{\"attributes\":{},\"id\":\"1859\",\"type\":\"DataRange1d\"},{\"attributes\":{},\"id\":\"1933\",\"type\":\"BasicTickFormatter\"},{\"attributes\":{\"axis\":{\"id\":\"1900\"},\"dimension\":1,\"ticker\":null},\"id\":\"1903\",\"type\":\"Grid\"}],\"root_ids\":[\"1947\"]},\"title\":\"Bokeh Application\",\"version\":\"2.3.0\"}};\n",
       "  var render_items = [{\"docid\":\"97b9e1d9-09a6-47ad-8cb6-6e91848ceb3e\",\"root_ids\":[\"1947\"],\"roots\":{\"1947\":\"3ea50374-7044-4c21-88ca-1957c0ec3fb9\"}}];\n",
       "  root.Bokeh.embed.embed_items_notebook(docs_json, render_items);\n",
       "\n",
       "  }\n",
       "  if (root.Bokeh !== undefined) {\n",
       "    embed_document(root);\n",
       "  } else {\n",
       "    var attempts = 0;\n",
       "    var timer = setInterval(function(root) {\n",
       "      if (root.Bokeh !== undefined) {\n",
       "        clearInterval(timer);\n",
       "        embed_document(root);\n",
       "      } else {\n",
       "        attempts++;\n",
       "        if (attempts > 100) {\n",
       "          clearInterval(timer);\n",
       "          console.log(\"Bokeh: ERROR: Unable to run BokehJS code because BokehJS library is missing\");\n",
       "        }\n",
       "      }\n",
       "    }, 10, root)\n",
       "  }\n",
       "})(window);"
      ],
      "application/vnd.bokehjs_exec.v0+json": ""
     },
     "metadata": {
      "application/vnd.bokehjs_exec.v0+json": {
       "id": "1947"
      }
     },
     "output_type": "display_data"
    }
   ],
   "source": [
    "from bokeh.models import ColumnDataSource\n",
    "\n",
    "x = list(range(-20, 21))\n",
    "y0, y1 = [abs(xx) for xx in x], [xx**2 for xx in x]\n",
    "\n",
    "# create a column data source for the plots to share\n",
    "source = ColumnDataSource(data=dict(x=x, y0=y0, y1=y1))\n",
    "\n",
    "TOOLS = \"box_select,lasso_select,help\"\n",
    "\n",
    "# create a new plot and add a renderer\n",
    "left = figure(tools=TOOLS, width=300, height=300)\n",
    "left.circle('x', 'y0', source=source)\n",
    "\n",
    "# create another new plot and add a renderer\n",
    "right = figure(tools=TOOLS, width=300, height=300)\n",
    "right.circle('x', 'y1', source=source)\n",
    "\n",
    "p = gridplot([[left, right]])\n",
    "\n",
    "show(p)"
   ]
  },
  {
   "cell_type": "code",
   "execution_count": 9,
   "metadata": {},
   "outputs": [
    {
     "data": {
      "text/html": [
       "\n",
       "\n",
       "\n",
       "\n",
       "\n",
       "\n",
       "  <div class=\"bk-root\" id=\"18ab3644-81f3-472e-85c5-fa0597136bc3\" data-root-id=\"2932\"></div>\n"
      ]
     },
     "metadata": {},
     "output_type": "display_data"
    },
    {
     "data": {
      "application/javascript": [
       "(function(root) {\n",
       "  function embed_document(root) {\n",
       "    \n",
       "  var docs_json = {\"7225719b-20bb-416d-b159-b586b2b9813e\":{\"defs\":[{\"extends\":null,\"module\":null,\"name\":\"DataModel\",\"overrides\":[],\"properties\":[]}],\"roots\":{\"references\":[{\"attributes\":{\"children\":[{\"id\":\"2931\"},{\"id\":\"2929\"}]},\"id\":\"2932\",\"type\":\"Column\"},{\"attributes\":{\"fill_alpha\":0.5,\"fill_color\":\"lightgrey\",\"level\":\"overlay\",\"line_alpha\":1.0,\"line_color\":\"black\",\"line_dash\":[4,4],\"line_width\":2,\"syncable\":false,\"xs_units\":\"screen\",\"ys_units\":\"screen\"},\"id\":\"2859\",\"type\":\"PolyAnnotation\"},{\"attributes\":{},\"id\":\"2890\",\"type\":\"HelpTool\"},{\"attributes\":{},\"id\":\"2910\",\"type\":\"AllLabels\"},{\"attributes\":{\"callback\":null},\"id\":\"2889\",\"type\":\"TapTool\"},{\"attributes\":{},\"id\":\"2880\",\"type\":\"BasicTicker\"},{\"attributes\":{\"fill_alpha\":{\"value\":0.1},\"fill_color\":{\"value\":\"#1f77b4\"},\"line_alpha\":{\"value\":0.1},\"line_color\":{\"value\":\"#1f77b4\"},\"marker\":{\"value\":\"square\"},\"x\":{\"field\":\"y0\"},\"y\":{\"field\":\"y1\"}},\"id\":\"2900\",\"type\":\"Scatter\"},{\"attributes\":{\"toolbar\":{\"id\":\"2930\"},\"toolbar_location\":\"above\"},\"id\":\"2931\",\"type\":\"ToolbarBox\"},{\"attributes\":{\"source\":{\"id\":\"2836\"}},\"id\":\"2902\",\"type\":\"CDSView\"},{\"attributes\":{},\"id\":\"2875\",\"type\":\"LinearScale\"},{\"attributes\":{\"data\":{\"x\":[-20,-19,-18,-17,-16,-15,-14,-13,-12,-11,-10,-9,-8,-7,-6,-5,-4,-3,-2,-1,0,1,2,3,4,5,6,7,8,9,10,11,12,13,14,15,16,17,18,19,20],\"y0\":[20,19,18,17,16,15,14,13,12,11,10,9,8,7,6,5,4,3,2,1,0,1,2,3,4,5,6,7,8,9,10,11,12,13,14,15,16,17,18,19,20],\"y1\":[400,361,324,289,256,225,196,169,144,121,100,81,64,49,36,25,16,9,4,1,0,1,4,9,16,25,36,49,64,81,100,121,144,169,196,225,256,289,324,361,400]},\"selected\":{\"id\":\"2914\"},\"selection_policy\":{\"id\":\"2913\"}},\"id\":\"2836\",\"type\":\"ColumnDataSource\"},{\"attributes\":{},\"id\":\"2838\",\"type\":\"DataRange1d\"},{\"attributes\":{\"data_source\":{\"id\":\"2836\"},\"glyph\":{\"id\":\"2899\"},\"hover_glyph\":null,\"muted_glyph\":null,\"nonselection_glyph\":{\"id\":\"2900\"},\"view\":{\"id\":\"2902\"}},\"id\":\"2901\",\"type\":\"GlyphRenderer\"},{\"attributes\":{},\"id\":\"2877\",\"type\":\"LinearScale\"},{\"attributes\":{},\"id\":\"2904\",\"type\":\"Title\"},{\"attributes\":{\"fill_color\":{\"value\":\"#1f77b4\"},\"line_color\":{\"value\":\"#1f77b4\"},\"x\":{\"field\":\"x\"},\"y\":{\"field\":\"y0\"}},\"id\":\"2866\",\"type\":\"Circle\"},{\"attributes\":{},\"id\":\"2842\",\"type\":\"LinearScale\"},{\"attributes\":{\"axis\":{\"id\":\"2879\"},\"ticker\":null},\"id\":\"2882\",\"type\":\"Grid\"},{\"attributes\":{\"data_source\":{\"id\":\"2836\"},\"glyph\":{\"id\":\"2866\"},\"hover_glyph\":null,\"muted_glyph\":null,\"nonselection_glyph\":{\"id\":\"2867\"},\"view\":{\"id\":\"2869\"}},\"id\":\"2868\",\"type\":\"GlyphRenderer\"},{\"attributes\":{\"formatter\":{\"id\":\"2905\"},\"major_label_policy\":{\"id\":\"2907\"},\"ticker\":{\"id\":\"2847\"}},\"id\":\"2846\",\"type\":\"LinearAxis\"},{\"attributes\":{},\"id\":\"2918\",\"type\":\"BasicTickFormatter\"},{\"attributes\":{\"below\":[{\"id\":\"2879\"}],\"center\":[{\"id\":\"2882\"},{\"id\":\"2886\"}],\"height\":300,\"left\":[{\"id\":\"2883\"}],\"renderers\":[{\"id\":\"2901\"}],\"title\":{\"id\":\"2917\"},\"toolbar\":{\"id\":\"2893\"},\"toolbar_location\":null,\"width\":300,\"x_range\":{\"id\":\"2871\"},\"x_scale\":{\"id\":\"2875\"},\"y_range\":{\"id\":\"2873\"},\"y_scale\":{\"id\":\"2877\"}},\"id\":\"2870\",\"subtype\":\"Figure\",\"type\":\"Plot\"},{\"attributes\":{},\"id\":\"2873\",\"type\":\"DataRange1d\"},{\"attributes\":{\"toolbars\":[{\"id\":\"2860\"},{\"id\":\"2893\"}],\"tools\":[{\"id\":\"2854\"},{\"id\":\"2855\"},{\"id\":\"2856\"},{\"id\":\"2857\"},{\"id\":\"2887\"},{\"id\":\"2888\"},{\"id\":\"2889\"},{\"id\":\"2890\"}]},\"id\":\"2930\",\"type\":\"ProxyToolbar\"},{\"attributes\":{\"formatter\":{\"id\":\"2908\"},\"major_label_policy\":{\"id\":\"2910\"},\"ticker\":{\"id\":\"2851\"}},\"id\":\"2850\",\"type\":\"LinearAxis\"},{\"attributes\":{},\"id\":\"2840\",\"type\":\"DataRange1d\"},{\"attributes\":{\"formatter\":{\"id\":\"2921\"},\"major_label_policy\":{\"id\":\"2923\"},\"ticker\":{\"id\":\"2884\"}},\"id\":\"2883\",\"type\":\"LinearAxis\"},{\"attributes\":{},\"id\":\"2844\",\"type\":\"LinearScale\"},{\"attributes\":{\"formatter\":{\"id\":\"2918\"},\"major_label_policy\":{\"id\":\"2920\"},\"ticker\":{\"id\":\"2880\"}},\"id\":\"2879\",\"type\":\"LinearAxis\"},{\"attributes\":{},\"id\":\"2920\",\"type\":\"AllLabels\"},{\"attributes\":{\"overlay\":{\"id\":\"2859\"}},\"id\":\"2855\",\"type\":\"LassoSelectTool\"},{\"attributes\":{\"fill_color\":{\"value\":\"#1f77b4\"},\"line_color\":{\"value\":\"#1f77b4\"},\"marker\":{\"value\":\"square\"},\"x\":{\"field\":\"y0\"},\"y\":{\"field\":\"y1\"}},\"id\":\"2899\",\"type\":\"Scatter\"},{\"attributes\":{},\"id\":\"2921\",\"type\":\"BasicTickFormatter\"},{\"attributes\":{\"below\":[{\"id\":\"2846\"}],\"center\":[{\"id\":\"2849\"},{\"id\":\"2853\"}],\"height\":300,\"left\":[{\"id\":\"2850\"}],\"renderers\":[{\"id\":\"2868\"}],\"title\":{\"id\":\"2904\"},\"toolbar\":{\"id\":\"2860\"},\"toolbar_location\":null,\"width\":300,\"x_range\":{\"id\":\"2838\"},\"x_scale\":{\"id\":\"2842\"},\"y_range\":{\"id\":\"2840\"},\"y_scale\":{\"id\":\"2844\"}},\"id\":\"2837\",\"subtype\":\"Figure\",\"type\":\"Plot\"},{\"attributes\":{\"overlay\":{\"id\":\"2891\"}},\"id\":\"2887\",\"type\":\"BoxSelectTool\"},{\"attributes\":{},\"id\":\"2847\",\"type\":\"BasicTicker\"},{\"attributes\":{},\"id\":\"2923\",\"type\":\"AllLabels\"},{\"attributes\":{\"axis\":{\"id\":\"2846\"},\"ticker\":null},\"id\":\"2849\",\"type\":\"Grid\"},{\"attributes\":{},\"id\":\"2884\",\"type\":\"BasicTicker\"},{\"attributes\":{},\"id\":\"2857\",\"type\":\"HelpTool\"},{\"attributes\":{\"axis\":{\"id\":\"2850\"},\"dimension\":1,\"ticker\":null},\"id\":\"2853\",\"type\":\"Grid\"},{\"attributes\":{\"children\":[[{\"id\":\"2837\"},0,0],[{\"id\":\"2870\"},0,1]]},\"id\":\"2929\",\"type\":\"GridBox\"},{\"attributes\":{\"overlay\":{\"id\":\"2892\"}},\"id\":\"2888\",\"type\":\"LassoSelectTool\"},{\"attributes\":{\"bottom_units\":\"screen\",\"fill_alpha\":0.5,\"fill_color\":\"lightgrey\",\"left_units\":\"screen\",\"level\":\"overlay\",\"line_alpha\":1.0,\"line_color\":\"black\",\"line_dash\":[4,4],\"line_width\":2,\"right_units\":\"screen\",\"syncable\":false,\"top_units\":\"screen\"},\"id\":\"2891\",\"type\":\"BoxAnnotation\"},{\"attributes\":{},\"id\":\"2907\",\"type\":\"AllLabels\"},{\"attributes\":{\"callback\":null},\"id\":\"2856\",\"type\":\"TapTool\"},{\"attributes\":{},\"id\":\"2913\",\"type\":\"UnionRenderers\"},{\"attributes\":{},\"id\":\"2871\",\"type\":\"DataRange1d\"},{\"attributes\":{},\"id\":\"2851\",\"type\":\"BasicTicker\"},{\"attributes\":{},\"id\":\"2914\",\"type\":\"Selection\"},{\"attributes\":{\"active_multi\":null,\"tools\":[{\"id\":\"2854\"},{\"id\":\"2855\"},{\"id\":\"2856\"},{\"id\":\"2857\"}]},\"id\":\"2860\",\"type\":\"Toolbar\"},{\"attributes\":{},\"id\":\"2917\",\"type\":\"Title\"},{\"attributes\":{},\"id\":\"2908\",\"type\":\"BasicTickFormatter\"},{\"attributes\":{\"fill_alpha\":{\"value\":0.1},\"fill_color\":{\"value\":\"#1f77b4\"},\"line_alpha\":{\"value\":0.1},\"line_color\":{\"value\":\"#1f77b4\"},\"x\":{\"field\":\"x\"},\"y\":{\"field\":\"y0\"}},\"id\":\"2867\",\"type\":\"Circle\"},{\"attributes\":{\"bottom_units\":\"screen\",\"fill_alpha\":0.5,\"fill_color\":\"lightgrey\",\"left_units\":\"screen\",\"level\":\"overlay\",\"line_alpha\":1.0,\"line_color\":\"black\",\"line_dash\":[4,4],\"line_width\":2,\"right_units\":\"screen\",\"syncable\":false,\"top_units\":\"screen\"},\"id\":\"2858\",\"type\":\"BoxAnnotation\"},{\"attributes\":{\"fill_alpha\":0.5,\"fill_color\":\"lightgrey\",\"level\":\"overlay\",\"line_alpha\":1.0,\"line_color\":\"black\",\"line_dash\":[4,4],\"line_width\":2,\"syncable\":false,\"xs_units\":\"screen\",\"ys_units\":\"screen\"},\"id\":\"2892\",\"type\":\"PolyAnnotation\"},{\"attributes\":{\"overlay\":{\"id\":\"2858\"}},\"id\":\"2854\",\"type\":\"BoxSelectTool\"},{\"attributes\":{\"active_multi\":null,\"tools\":[{\"id\":\"2887\"},{\"id\":\"2888\"},{\"id\":\"2889\"},{\"id\":\"2890\"}]},\"id\":\"2893\",\"type\":\"Toolbar\"},{\"attributes\":{},\"id\":\"2905\",\"type\":\"BasicTickFormatter\"},{\"attributes\":{\"axis\":{\"id\":\"2883\"},\"dimension\":1,\"ticker\":null},\"id\":\"2886\",\"type\":\"Grid\"},{\"attributes\":{\"source\":{\"id\":\"2836\"}},\"id\":\"2869\",\"type\":\"CDSView\"}],\"root_ids\":[\"2932\"]},\"title\":\"Bokeh Application\",\"version\":\"2.3.0\"}};\n",
       "  var render_items = [{\"docid\":\"7225719b-20bb-416d-b159-b586b2b9813e\",\"root_ids\":[\"2932\"],\"roots\":{\"2932\":\"18ab3644-81f3-472e-85c5-fa0597136bc3\"}}];\n",
       "  root.Bokeh.embed.embed_items_notebook(docs_json, render_items);\n",
       "\n",
       "  }\n",
       "  if (root.Bokeh !== undefined) {\n",
       "    embed_document(root);\n",
       "  } else {\n",
       "    var attempts = 0;\n",
       "    var timer = setInterval(function(root) {\n",
       "      if (root.Bokeh !== undefined) {\n",
       "        clearInterval(timer);\n",
       "        embed_document(root);\n",
       "      } else {\n",
       "        attempts++;\n",
       "        if (attempts > 100) {\n",
       "          clearInterval(timer);\n",
       "          console.log(\"Bokeh: ERROR: Unable to run BokehJS code because BokehJS library is missing\");\n",
       "        }\n",
       "      }\n",
       "    }, 10, root)\n",
       "  }\n",
       "})(window);"
      ],
      "application/vnd.bokehjs_exec.v0+json": ""
     },
     "metadata": {
      "application/vnd.bokehjs_exec.v0+json": {
       "id": "2932"
      }
     },
     "output_type": "display_data"
    }
   ],
   "source": [
    "# EXERCISE: create two plots in a gridplot, and link their data sources\n",
    "from bokeh.models import ColumnDataSource\n",
    "\n",
    "x = list(range(-20, 21))\n",
    "y0, y1 = [abs(xx) for xx in x], [xx**2 for xx in x]\n",
    "\n",
    "# create a column data source for the plots to share\n",
    "source = ColumnDataSource(data=dict(x=x, y0=y0, y1=y1))\n",
    "\n",
    "TOOLS = \"box_select,lasso_select,tap,help\"\n",
    "\n",
    "# create a new plot and add a renderer\n",
    "left = figure(tools=TOOLS, width=300, height=300)\n",
    "left.circle('x', 'y0', source=source)\n",
    "\n",
    "# create another new plot and add a renderer\n",
    "right = figure(tools=TOOLS, width=300, height=300)\n",
    "right.square('y0', 'y1', source=source)\n",
    "\n",
    "p = gridplot([[left, right]])\n",
    "\n",
    "show(p)\n"
   ]
  },
  {
   "cell_type": "markdown",
   "metadata": {},
   "source": [
    "# Hover Tools\n",
    "\n",
    "Bokeh has a Hover Tool that allows additional information to be displayed in a popup whenever the user hovers over a specific glyph. Basic hover tool configuration amounts to providing a list of ``(name, format)`` tuples. The full details can be found in the User's Guide [here](https://bokeh.pydata.org/en/latest/docs/user_guide/tools.html#hovertool).\n",
    "\n",
    "The example below shows some basic usage of the Hover tool with a circle glyph, using hover information defined in utils.py:"
   ]
  },
  {
   "cell_type": "code",
   "execution_count": 10,
   "metadata": {},
   "outputs": [
    {
     "data": {
      "text/html": [
       "\n",
       "\n",
       "\n",
       "\n",
       "\n",
       "\n",
       "  <div class=\"bk-root\" id=\"43554ff6-7a52-475b-930c-81af116dc92e\" data-root-id=\"3213\"></div>\n"
      ]
     },
     "metadata": {},
     "output_type": "display_data"
    },
    {
     "data": {
      "application/javascript": [
       "(function(root) {\n",
       "  function embed_document(root) {\n",
       "    \n",
       "  var docs_json = {\"8cbce828-a20d-47d5-94c5-df61f393f7a1\":{\"defs\":[{\"extends\":null,\"module\":null,\"name\":\"DataModel\",\"overrides\":[],\"properties\":[]}],\"roots\":{\"references\":[{\"attributes\":{\"below\":[{\"id\":\"3224\"}],\"center\":[{\"id\":\"3227\"},{\"id\":\"3231\"}],\"height\":300,\"left\":[{\"id\":\"3228\"}],\"renderers\":[{\"id\":\"3237\"}],\"title\":{\"id\":\"3214\"},\"toolbar\":{\"id\":\"3232\"},\"width\":300,\"x_range\":{\"id\":\"3216\"},\"x_scale\":{\"id\":\"3220\"},\"y_range\":{\"id\":\"3218\"},\"y_scale\":{\"id\":\"3222\"}},\"id\":\"3213\",\"subtype\":\"Figure\",\"type\":\"Plot\"},{\"attributes\":{},\"id\":\"3414\",\"type\":\"UnionRenderers\"},{\"attributes\":{\"source\":{\"id\":\"3211\"}},\"id\":\"3238\",\"type\":\"CDSView\"},{\"attributes\":{},\"id\":\"3415\",\"type\":\"Selection\"},{\"attributes\":{\"formatter\":{\"id\":\"3408\"},\"major_label_policy\":{\"id\":\"3410\"},\"ticker\":{\"id\":\"3225\"}},\"id\":\"3224\",\"type\":\"LinearAxis\"},{\"attributes\":{\"data_source\":{\"id\":\"3211\"},\"glyph\":{\"id\":\"3235\"},\"hover_glyph\":null,\"muted_glyph\":null,\"nonselection_glyph\":{\"id\":\"3236\"},\"view\":{\"id\":\"3238\"}},\"id\":\"3237\",\"type\":\"GlyphRenderer\"},{\"attributes\":{\"fill_alpha\":{\"value\":0.1},\"fill_color\":{\"value\":\"#1f77b4\"},\"line_alpha\":{\"value\":0.1},\"line_color\":{\"value\":\"#1f77b4\"},\"size\":{\"value\":20},\"x\":{\"field\":\"x\"},\"y\":{\"field\":\"y\"}},\"id\":\"3236\",\"type\":\"Circle\"},{\"attributes\":{},\"id\":\"3222\",\"type\":\"LinearScale\"},{\"attributes\":{\"axis\":{\"id\":\"3224\"},\"ticker\":null},\"id\":\"3227\",\"type\":\"Grid\"},{\"attributes\":{\"formatter\":{\"id\":\"3411\"},\"major_label_policy\":{\"id\":\"3413\"},\"ticker\":{\"id\":\"3229\"}},\"id\":\"3228\",\"type\":\"LinearAxis\"},{\"attributes\":{},\"id\":\"3220\",\"type\":\"LinearScale\"},{\"attributes\":{},\"id\":\"3410\",\"type\":\"AllLabels\"},{\"attributes\":{},\"id\":\"3411\",\"type\":\"BasicTickFormatter\"},{\"attributes\":{},\"id\":\"3216\",\"type\":\"DataRange1d\"},{\"attributes\":{},\"id\":\"3225\",\"type\":\"BasicTicker\"},{\"attributes\":{\"text\":\"Mouse over the dots\"},\"id\":\"3214\",\"type\":\"Title\"},{\"attributes\":{},\"id\":\"3413\",\"type\":\"AllLabels\"},{\"attributes\":{},\"id\":\"3408\",\"type\":\"BasicTickFormatter\"},{\"attributes\":{\"axis\":{\"id\":\"3228\"},\"dimension\":1,\"ticker\":null},\"id\":\"3231\",\"type\":\"Grid\"},{\"attributes\":{},\"id\":\"3229\",\"type\":\"BasicTicker\"},{\"attributes\":{\"active_multi\":null,\"tools\":[{\"id\":\"3212\"}]},\"id\":\"3232\",\"type\":\"Toolbar\"},{\"attributes\":{\"data\":{\"desc\":[\"A\",\"b\",\"C\",\"d\",\"E\"],\"x\":[1,2,3,4,5],\"y\":[2,5,8,2,7]},\"selected\":{\"id\":\"3415\"},\"selection_policy\":{\"id\":\"3414\"}},\"id\":\"3211\",\"type\":\"ColumnDataSource\"},{\"attributes\":{},\"id\":\"3218\",\"type\":\"DataRange1d\"},{\"attributes\":{\"callback\":null,\"tooltips\":[[\"index\",\"$index\"],[\"(x,y)\",\"($x, $y)\"],[\"desc\",\"@desc\"]]},\"id\":\"3212\",\"type\":\"HoverTool\"},{\"attributes\":{\"fill_color\":{\"value\":\"#1f77b4\"},\"line_color\":{\"value\":\"#1f77b4\"},\"size\":{\"value\":20},\"x\":{\"field\":\"x\"},\"y\":{\"field\":\"y\"}},\"id\":\"3235\",\"type\":\"Circle\"}],\"root_ids\":[\"3213\"]},\"title\":\"Bokeh Application\",\"version\":\"2.3.0\"}};\n",
       "  var render_items = [{\"docid\":\"8cbce828-a20d-47d5-94c5-df61f393f7a1\",\"root_ids\":[\"3213\"],\"roots\":{\"3213\":\"43554ff6-7a52-475b-930c-81af116dc92e\"}}];\n",
       "  root.Bokeh.embed.embed_items_notebook(docs_json, render_items);\n",
       "\n",
       "  }\n",
       "  if (root.Bokeh !== undefined) {\n",
       "    embed_document(root);\n",
       "  } else {\n",
       "    var attempts = 0;\n",
       "    var timer = setInterval(function(root) {\n",
       "      if (root.Bokeh !== undefined) {\n",
       "        clearInterval(timer);\n",
       "        embed_document(root);\n",
       "      } else {\n",
       "        attempts++;\n",
       "        if (attempts > 100) {\n",
       "          clearInterval(timer);\n",
       "          console.log(\"Bokeh: ERROR: Unable to run BokehJS code because BokehJS library is missing\");\n",
       "        }\n",
       "      }\n",
       "    }, 10, root)\n",
       "  }\n",
       "})(window);"
      ],
      "application/vnd.bokehjs_exec.v0+json": ""
     },
     "metadata": {
      "application/vnd.bokehjs_exec.v0+json": {
       "id": "3213"
      }
     },
     "output_type": "display_data"
    }
   ],
   "source": [
    "from bokeh.models import HoverTool\n",
    "\n",
    "source = ColumnDataSource(\n",
    "        data=dict(\n",
    "            x=[1, 2, 3, 4, 5],\n",
    "            y=[2, 5, 8, 2, 7],\n",
    "            desc=['A', 'b', 'C', 'd', 'E'],\n",
    "        )\n",
    "    )\n",
    "\n",
    "hover = HoverTool(\n",
    "        tooltips=[\n",
    "            (\"index\", \"$index\"),\n",
    "            (\"(x,y)\", \"($x, $y)\"),\n",
    "            (\"desc\", \"@desc\"),\n",
    "        ]\n",
    "    )\n",
    "\n",
    "p = figure(plot_width=300, plot_height=300, tools=[hover], title=\"Mouse over the dots\")\n",
    "\n",
    "p.circle('x', 'y', size=20, source=source)\n",
    "\n",
    "show(p)"
   ]
  },
  {
   "cell_type": "markdown",
   "metadata": {},
   "source": [
    "# Widgets"
   ]
  },
  {
   "cell_type": "markdown",
   "metadata": {},
   "source": [
    "Bokeh supports direct integration with a small basic widget set. These can be used in conjunction with a Bokeh Server, or with ``CustomJS`` models to add more interactive capability to your documents. You can see a complete list, with example code in the [Adding Widgets](https://bokeh.pydata.org/en/latest/docs/user_guide/interaction.html#adding-widgets) section of the User's Guide. \n",
    "\n",
    "\n",
    "\n",
    "*NOTE: In this Tutorial chapter, we will focus on using widgets with JavaScript callbacks. The Tutorial chapter on Bokeh server applications covers using Bokeh widgets with real Python callbacks*\n",
    "\n",
    "\n",
    "\n",
    "\n",
    "To use the widgets, include them in a layout like you would a plot object:"
   ]
  },
  {
   "cell_type": "code",
   "execution_count": 11,
   "metadata": {},
   "outputs": [
    {
     "data": {
      "text/html": [
       "\n",
       "\n",
       "\n",
       "\n",
       "\n",
       "\n",
       "  <div class=\"bk-root\" id=\"a91d27b3-4eec-4285-9252-e901d50e7304\" data-root-id=\"3461\"></div>\n"
      ]
     },
     "metadata": {},
     "output_type": "display_data"
    },
    {
     "data": {
      "application/javascript": [
       "(function(root) {\n",
       "  function embed_document(root) {\n",
       "    \n",
       "  var docs_json = {\"3675fab5-45ef-43c4-a546-f344a68332ab\":{\"defs\":[{\"extends\":null,\"module\":null,\"name\":\"DataModel\",\"overrides\":[],\"properties\":[]}],\"roots\":{\"references\":[{\"attributes\":{\"end\":10,\"start\":0,\"step\":0.1,\"title\":\"foo\",\"value\":1},\"id\":\"3461\",\"type\":\"Slider\"}],\"root_ids\":[\"3461\"]},\"title\":\"Bokeh Application\",\"version\":\"2.3.0\"}};\n",
       "  var render_items = [{\"docid\":\"3675fab5-45ef-43c4-a546-f344a68332ab\",\"root_ids\":[\"3461\"],\"roots\":{\"3461\":\"a91d27b3-4eec-4285-9252-e901d50e7304\"}}];\n",
       "  root.Bokeh.embed.embed_items_notebook(docs_json, render_items);\n",
       "\n",
       "  }\n",
       "  if (root.Bokeh !== undefined) {\n",
       "    embed_document(root);\n",
       "  } else {\n",
       "    var attempts = 0;\n",
       "    var timer = setInterval(function(root) {\n",
       "      if (root.Bokeh !== undefined) {\n",
       "        clearInterval(timer);\n",
       "        embed_document(root);\n",
       "      } else {\n",
       "        attempts++;\n",
       "        if (attempts > 100) {\n",
       "          clearInterval(timer);\n",
       "          console.log(\"Bokeh: ERROR: Unable to run BokehJS code because BokehJS library is missing\");\n",
       "        }\n",
       "      }\n",
       "    }, 10, root)\n",
       "  }\n",
       "})(window);"
      ],
      "application/vnd.bokehjs_exec.v0+json": ""
     },
     "metadata": {
      "application/vnd.bokehjs_exec.v0+json": {
       "id": "3461"
      }
     },
     "output_type": "display_data"
    }
   ],
   "source": [
    "from bokeh.models.widgets import Slider\n",
    "\n",
    "\n",
    "slider = Slider(start=0, end=10, value=1, step=.1, title=\"foo\")\n",
    "\n",
    "show(slider)"
   ]
  },
  {
   "cell_type": "code",
   "execution_count": 13,
   "metadata": {},
   "outputs": [
    {
     "data": {
      "text/html": [
       "\n",
       "\n",
       "\n",
       "\n",
       "\n",
       "\n",
       "  <div class=\"bk-root\" id=\"295c8a68-643b-4271-bd95-efa8be661a88\" data-root-id=\"3818\"></div>\n"
      ]
     },
     "metadata": {},
     "output_type": "display_data"
    },
    {
     "data": {
      "application/javascript": [
       "(function(root) {\n",
       "  function embed_document(root) {\n",
       "    \n",
       "  var docs_json = {\"bf83389a-a867-4839-99df-efdb3d8ea4fc\":{\"defs\":[{\"extends\":null,\"module\":null,\"name\":\"DataModel\",\"overrides\":[],\"properties\":[]}],\"roots\":{\"references\":[{\"attributes\":{\"js_property_callbacks\":{\"change:value\":[{\"id\":\"3819\"}]},\"options\":[\"Toast\",\"Bacon\",\"Eggs\",\"Hashbrowns\"],\"title\":\"Option:\",\"value\":\"Breakfast\"},\"id\":\"3818\",\"type\":\"Select\"},{\"attributes\":{\"code\":\"\\n    console.log('select: value=' + this.value, this.toString())\\n\"},\"id\":\"3819\",\"type\":\"CustomJS\"}],\"root_ids\":[\"3818\"]},\"title\":\"Bokeh Application\",\"version\":\"2.3.0\"}};\n",
       "  var render_items = [{\"docid\":\"bf83389a-a867-4839-99df-efdb3d8ea4fc\",\"root_ids\":[\"3818\"],\"roots\":{\"3818\":\"295c8a68-643b-4271-bd95-efa8be661a88\"}}];\n",
       "  root.Bokeh.embed.embed_items_notebook(docs_json, render_items);\n",
       "\n",
       "  }\n",
       "  if (root.Bokeh !== undefined) {\n",
       "    embed_document(root);\n",
       "  } else {\n",
       "    var attempts = 0;\n",
       "    var timer = setInterval(function(root) {\n",
       "      if (root.Bokeh !== undefined) {\n",
       "        clearInterval(timer);\n",
       "        embed_document(root);\n",
       "      } else {\n",
       "        attempts++;\n",
       "        if (attempts > 100) {\n",
       "          clearInterval(timer);\n",
       "          console.log(\"Bokeh: ERROR: Unable to run BokehJS code because BokehJS library is missing\");\n",
       "        }\n",
       "      }\n",
       "    }, 10, root)\n",
       "  }\n",
       "})(window);"
      ],
      "application/vnd.bokehjs_exec.v0+json": ""
     },
     "metadata": {
      "application/vnd.bokehjs_exec.v0+json": {
       "id": "3818"
      }
     },
     "output_type": "display_data"
    }
   ],
   "source": [
    "# EXERCISE: create and show a Select widget \n",
    "from bokeh.io import show\n",
    "from bokeh.models import CustomJS, Select\n",
    "\n",
    "select = Select(title=\"Option:\", value=\"Breakfast\", options=[\"Toast\", \"Bacon\", \"Eggs\", \"Hashbrowns\"])\n",
    "select.js_on_change(\"value\", CustomJS(code=\"\"\"\n",
    "    console.log('select: value=' + this.value, this.toString())\n",
    "\"\"\"))\n",
    "\n",
    "show(select)"
   ]
  },
  {
   "cell_type": "markdown",
   "metadata": {},
   "source": [
    "# CustomJS Callbacks\n",
    "\n",
    "In order for a widget to be useful, it needs to be able to perform some action. Using the Bokeh server, it is possible to have widgets trigger real Python code. That possibility will be explored in the Bokeh server chapter of the tutorial. Here, we look at how widgets can be configured with `CustomJS` callbacks that execute snippets of JavaScript code. "
   ]
  },
  {
   "cell_type": "code",
   "execution_count": 14,
   "metadata": {},
   "outputs": [
    {
     "data": {
      "text/html": [
       "\n",
       "\n",
       "\n",
       "\n",
       "\n",
       "\n",
       "  <div class=\"bk-root\" id=\"d4e49295-c7e8-4afc-9be0-9e4cf00cb050\" data-root-id=\"3999\"></div>\n"
      ]
     },
     "metadata": {},
     "output_type": "display_data"
    },
    {
     "data": {
      "application/javascript": [
       "(function(root) {\n",
       "  function embed_document(root) {\n",
       "    \n",
       "  var docs_json = {\"bcead84b-433a-4037-a61c-25c06859a06f\":{\"defs\":[{\"extends\":null,\"module\":null,\"name\":\"DataModel\",\"overrides\":[],\"properties\":[]}],\"roots\":{\"references\":[{\"attributes\":{\"below\":[{\"id\":\"4008\"}],\"center\":[{\"id\":\"4011\"},{\"id\":\"4015\"}],\"height\":300,\"left\":[{\"id\":\"4012\"}],\"renderers\":[{\"id\":\"4021\"}],\"title\":{\"id\":\"4201\"},\"toolbar\":{\"id\":\"4016\"},\"x_range\":{\"id\":\"4000\"},\"x_scale\":{\"id\":\"4004\"},\"y_range\":{\"id\":\"4002\"},\"y_scale\":{\"id\":\"4006\"}},\"id\":\"3999\",\"subtype\":\"Figure\",\"type\":\"Plot\"},{\"attributes\":{},\"id\":\"4002\",\"type\":\"DataRange1d\"},{\"attributes\":{},\"id\":\"4004\",\"type\":\"LinearScale\"},{\"attributes\":{},\"id\":\"4006\",\"type\":\"LinearScale\"},{\"attributes\":{},\"id\":\"4204\",\"type\":\"AllLabels\"},{\"attributes\":{\"formatter\":{\"id\":\"4205\"},\"major_label_policy\":{\"id\":\"4207\"},\"ticker\":{\"id\":\"4013\"}},\"id\":\"4012\",\"type\":\"LinearAxis\"},{\"attributes\":{},\"id\":\"4205\",\"type\":\"BasicTickFormatter\"},{\"attributes\":{\"formatter\":{\"id\":\"4202\"},\"major_label_policy\":{\"id\":\"4204\"},\"ticker\":{\"id\":\"4009\"}},\"id\":\"4008\",\"type\":\"LinearAxis\"},{\"attributes\":{\"source\":{\"id\":\"4018\"}},\"id\":\"4022\",\"type\":\"CDSView\"},{\"attributes\":{},\"id\":\"4009\",\"type\":\"BasicTicker\"},{\"attributes\":{\"axis\":{\"id\":\"4008\"},\"ticker\":null},\"id\":\"4011\",\"type\":\"Grid\"},{\"attributes\":{\"fill_alpha\":{\"value\":0.1},\"fill_color\":{\"value\":\"#1f77b4\"},\"line_alpha\":{\"value\":0.1},\"line_color\":{\"value\":\"#1f77b4\"},\"size\":{\"value\":20},\"x\":{\"field\":\"x\"},\"y\":{\"field\":\"y\"}},\"id\":\"4020\",\"type\":\"Circle\"},{\"attributes\":{},\"id\":\"4207\",\"type\":\"AllLabels\"},{\"attributes\":{\"callback\":{\"id\":\"3997\"}},\"id\":\"3998\",\"type\":\"TapTool\"},{\"attributes\":{\"axis\":{\"id\":\"4012\"},\"dimension\":1,\"ticker\":null},\"id\":\"4015\",\"type\":\"Grid\"},{\"attributes\":{\"code\":\"alert('you tapped a circle!')\"},\"id\":\"3997\",\"type\":\"CustomJS\"},{\"attributes\":{},\"id\":\"4013\",\"type\":\"BasicTicker\"},{\"attributes\":{\"active_multi\":null,\"tools\":[{\"id\":\"3998\"}]},\"id\":\"4016\",\"type\":\"Toolbar\"},{\"attributes\":{\"data_source\":{\"id\":\"4018\"},\"glyph\":{\"id\":\"4019\"},\"hover_glyph\":null,\"muted_glyph\":null,\"nonselection_glyph\":{\"id\":\"4020\"},\"view\":{\"id\":\"4022\"}},\"id\":\"4021\",\"type\":\"GlyphRenderer\"},{\"attributes\":{},\"id\":\"4000\",\"type\":\"DataRange1d\"},{\"attributes\":{},\"id\":\"4202\",\"type\":\"BasicTickFormatter\"},{\"attributes\":{},\"id\":\"4201\",\"type\":\"Title\"},{\"attributes\":{},\"id\":\"4208\",\"type\":\"UnionRenderers\"},{\"attributes\":{},\"id\":\"4209\",\"type\":\"Selection\"},{\"attributes\":{\"fill_color\":{\"value\":\"#1f77b4\"},\"line_color\":{\"value\":\"#1f77b4\"},\"size\":{\"value\":20},\"x\":{\"field\":\"x\"},\"y\":{\"field\":\"y\"}},\"id\":\"4019\",\"type\":\"Circle\"},{\"attributes\":{\"data\":{\"x\":[1,2,3,4,5],\"y\":[2,5,8,2,7]},\"selected\":{\"id\":\"4209\"},\"selection_policy\":{\"id\":\"4208\"}},\"id\":\"4018\",\"type\":\"ColumnDataSource\"}],\"root_ids\":[\"3999\"]},\"title\":\"Bokeh Application\",\"version\":\"2.3.0\"}};\n",
       "  var render_items = [{\"docid\":\"bcead84b-433a-4037-a61c-25c06859a06f\",\"root_ids\":[\"3999\"],\"roots\":{\"3999\":\"d4e49295-c7e8-4afc-9be0-9e4cf00cb050\"}}];\n",
       "  root.Bokeh.embed.embed_items_notebook(docs_json, render_items);\n",
       "\n",
       "  }\n",
       "  if (root.Bokeh !== undefined) {\n",
       "    embed_document(root);\n",
       "  } else {\n",
       "    var attempts = 0;\n",
       "    var timer = setInterval(function(root) {\n",
       "      if (root.Bokeh !== undefined) {\n",
       "        clearInterval(timer);\n",
       "        embed_document(root);\n",
       "      } else {\n",
       "        attempts++;\n",
       "        if (attempts > 100) {\n",
       "          clearInterval(timer);\n",
       "          console.log(\"Bokeh: ERROR: Unable to run BokehJS code because BokehJS library is missing\");\n",
       "        }\n",
       "      }\n",
       "    }, 10, root)\n",
       "  }\n",
       "})(window);"
      ],
      "application/vnd.bokehjs_exec.v0+json": ""
     },
     "metadata": {
      "application/vnd.bokehjs_exec.v0+json": {
       "id": "3999"
      }
     },
     "output_type": "display_data"
    }
   ],
   "source": [
    "from bokeh.models import TapTool, CustomJS, ColumnDataSource\n",
    "\n",
    "callback = CustomJS(code=\"alert('you tapped a circle!')\")\n",
    "tap = TapTool(callback=callback)\n",
    "\n",
    "p = figure(plot_width=600, plot_height=300, tools=[tap])\n",
    "\n",
    "p.circle(x=[1, 2, 3, 4, 5], y=[2, 5, 8, 2, 7], size=20)\n",
    "\n",
    "show(p)"
   ]
  },
  {
   "cell_type": "markdown",
   "metadata": {},
   "source": [
    "## CustomJS for Property changes\n",
    "\n",
    "Bokeh objects that have values associated can have small JavaScript actions attached to them using the `js_on_change` method. These actions (also referred to as \"callbacks\") are executed whenever the widget's value is changed. In order to make it easier to refer to specific Bokeh models (e.g., a data source, or a glyph) from JavaScript, the ``CustomJS`` object also accepts a dictionary of \"args\" that map names to Python Bokeh models. The corresponding JavaScript models are made available automatically to the ``CustomJS`` code:\n",
    "\n",
    "```python\n",
    "CustomJS(args=dict(source=source, slider=slider), code=\"\"\"\n",
    "    // easily refer to BokehJS source and slider objects in this JS code\n",
    "    var data = source.data;\n",
    "    var f = slider.value;\n",
    "\"\"\")\n",
    "```"
   ]
  },
  {
   "cell_type": "markdown",
   "metadata": {},
   "source": [
    "### Slider widget example\n",
    "\n",
    "The example below shows an action attached to a slider that updates a data source whenever the slider is moved.  "
   ]
  },
  {
   "cell_type": "code",
   "execution_count": 15,
   "metadata": {},
   "outputs": [
    {
     "data": {
      "text/html": [
       "\n",
       "\n",
       "\n",
       "\n",
       "\n",
       "\n",
       "  <div class=\"bk-root\" id=\"a3405910-c712-4d8d-a3e7-817699a8aaa8\" data-root-id=\"4299\"></div>\n"
      ]
     },
     "metadata": {},
     "output_type": "display_data"
    },
    {
     "data": {
      "application/javascript": [
       "(function(root) {\n",
       "  function embed_document(root) {\n",
       "    \n",
       "  var docs_json = {\"ce356e5e-5f3f-48ca-8b74-09c65da2580d\":{\"defs\":[{\"extends\":null,\"module\":null,\"name\":\"DataModel\",\"overrides\":[],\"properties\":[]}],\"roots\":{\"references\":[{\"attributes\":{\"children\":[{\"id\":\"4297\"},{\"id\":\"4261\"}]},\"id\":\"4299\",\"type\":\"Column\"},{\"attributes\":{},\"id\":\"4283\",\"type\":\"HelpTool\"},{\"attributes\":{\"active_multi\":null,\"tools\":[{\"id\":\"4278\"},{\"id\":\"4279\"},{\"id\":\"4280\"},{\"id\":\"4281\"},{\"id\":\"4282\"},{\"id\":\"4283\"}]},\"id\":\"4285\",\"type\":\"Toolbar\"},{\"attributes\":{},\"id\":\"4279\",\"type\":\"WheelZoomTool\"},{\"attributes\":{},\"id\":\"4278\",\"type\":\"PanTool\"},{\"attributes\":{\"overlay\":{\"id\":\"4284\"}},\"id\":\"4280\",\"type\":\"BoxZoomTool\"},{\"attributes\":{},\"id\":\"4281\",\"type\":\"SaveTool\"},{\"attributes\":{},\"id\":\"4282\",\"type\":\"ResetTool\"},{\"attributes\":{\"line_alpha\":0.1,\"line_color\":\"#1f77b4\",\"line_width\":3,\"x\":{\"field\":\"x\"},\"y\":{\"field\":\"y\"}},\"id\":\"4294\",\"type\":\"Line\"},{\"attributes\":{\"line_alpha\":0.6,\"line_color\":\"#1f77b4\",\"line_width\":3,\"x\":{\"field\":\"x\"},\"y\":{\"field\":\"y\"}},\"id\":\"4293\",\"type\":\"Line\"},{\"attributes\":{\"args\":{\"slider\":{\"id\":\"4297\"},\"source\":{\"id\":\"4260\"}},\"code\":\"\\n    var data = source.data;\\n    var f = slider.value;\\n    var x = data['x']\\n    var y = data['y']\\n    for (var i = 0; i < x.length; i++) {\\n        y[i] = Math.pow(x[i], f)\\n    }\\n    \\n    // necessary becasue we mutated source.data in-place\\n    source.change.emit();\\n\"},\"id\":\"4298\",\"type\":\"CustomJS\"},{\"attributes\":{\"source\":{\"id\":\"4260\"}},\"id\":\"4296\",\"type\":\"CDSView\"},{\"attributes\":{\"axis\":{\"id\":\"4270\"},\"ticker\":null},\"id\":\"4273\",\"type\":\"Grid\"},{\"attributes\":{},\"id\":\"4489\",\"type\":\"BasicTickFormatter\"},{\"attributes\":{},\"id\":\"4491\",\"type\":\"AllLabels\"},{\"attributes\":{},\"id\":\"4492\",\"type\":\"BasicTickFormatter\"},{\"attributes\":{\"data_source\":{\"id\":\"4260\"},\"glyph\":{\"id\":\"4293\"},\"hover_glyph\":null,\"muted_glyph\":null,\"nonselection_glyph\":{\"id\":\"4294\"},\"view\":{\"id\":\"4296\"}},\"id\":\"4295\",\"type\":\"GlyphRenderer\"},{\"attributes\":{\"end\":6,\"js_property_callbacks\":{\"change:value\":[{\"id\":\"4298\"}]},\"start\":0.1,\"step\":0.1,\"title\":\"power\",\"value\":1},\"id\":\"4297\",\"type\":\"Slider\"},{\"attributes\":{},\"id\":\"4494\",\"type\":\"AllLabels\"},{\"attributes\":{},\"id\":\"4271\",\"type\":\"BasicTicker\"},{\"attributes\":{\"bottom_units\":\"screen\",\"fill_alpha\":0.5,\"fill_color\":\"lightgrey\",\"left_units\":\"screen\",\"level\":\"overlay\",\"line_alpha\":1.0,\"line_color\":\"black\",\"line_dash\":[4,4],\"line_width\":2,\"right_units\":\"screen\",\"syncable\":false,\"top_units\":\"screen\"},\"id\":\"4284\",\"type\":\"BoxAnnotation\"},{\"attributes\":{},\"id\":\"4488\",\"type\":\"Title\"},{\"attributes\":{},\"id\":\"4275\",\"type\":\"BasicTicker\"},{\"attributes\":{\"data\":{\"x\":[0.0,0.005,0.01,0.015,0.02,0.025,0.03,0.035,0.04,0.045,0.05,0.055,0.06,0.065,0.07,0.075,0.08,0.085,0.09,0.095,0.1,0.105,0.11,0.115,0.12,0.125,0.13,0.135,0.14,0.145,0.15,0.155,0.16,0.165,0.17,0.17500000000000002,0.18,0.185,0.19,0.195,0.2,0.20500000000000002,0.21,0.215,0.22,0.225,0.23,0.23500000000000001,0.24,0.245,0.25,0.255,0.26,0.265,0.27,0.275,0.28,0.28500000000000003,0.29,0.295,0.3,0.305,0.31,0.315,0.32,0.325,0.33,0.335,0.34,0.34500000000000003,0.35000000000000003,0.355,0.36,0.365,0.37,0.375,0.38,0.385,0.39,0.395,0.4,0.405,0.41000000000000003,0.41500000000000004,0.42,0.425,0.43,0.435,0.44,0.445,0.45,0.455,0.46,0.465,0.47000000000000003,0.47500000000000003,0.48,0.485,0.49,0.495,0.5,0.505,0.51,0.515,0.52,0.525,0.53,0.535,0.54,0.545,0.55,0.555,0.56,0.5650000000000001,0.5700000000000001,0.5750000000000001,0.58,0.585,0.59,0.595,0.6,0.605,0.61,0.615,0.62,0.625,0.63,0.635,0.64,0.645,0.65,0.655,0.66,0.665,0.67,0.675,0.68,0.685,0.6900000000000001,0.6950000000000001,0.7000000000000001,0.705,0.71,0.715,0.72,0.725,0.73,0.735,0.74,0.745,0.75,0.755,0.76,0.765,0.77,0.775,0.78,0.785,0.79,0.795,0.8,0.805,0.81,0.8150000000000001,0.8200000000000001,0.8250000000000001,0.8300000000000001,0.835,0.84,0.845,0.85,0.855,0.86,0.865,0.87,0.875,0.88,0.885,0.89,0.895,0.9,0.905,0.91,0.915,0.92,0.925,0.93,0.935,0.9400000000000001,0.9450000000000001,0.9500000000000001,0.9550000000000001,0.96,0.965,0.97,0.975,0.98,0.985,0.99,0.995,1.0],\"y\":[0.0,0.005,0.01,0.015,0.02,0.025,0.03,0.035,0.04,0.045,0.05,0.055,0.06,0.065,0.07,0.075,0.08,0.085,0.09,0.095,0.1,0.105,0.11,0.115,0.12,0.125,0.13,0.135,0.14,0.145,0.15,0.155,0.16,0.165,0.17,0.17500000000000002,0.18,0.185,0.19,0.195,0.2,0.20500000000000002,0.21,0.215,0.22,0.225,0.23,0.23500000000000001,0.24,0.245,0.25,0.255,0.26,0.265,0.27,0.275,0.28,0.28500000000000003,0.29,0.295,0.3,0.305,0.31,0.315,0.32,0.325,0.33,0.335,0.34,0.34500000000000003,0.35000000000000003,0.355,0.36,0.365,0.37,0.375,0.38,0.385,0.39,0.395,0.4,0.405,0.41000000000000003,0.41500000000000004,0.42,0.425,0.43,0.435,0.44,0.445,0.45,0.455,0.46,0.465,0.47000000000000003,0.47500000000000003,0.48,0.485,0.49,0.495,0.5,0.505,0.51,0.515,0.52,0.525,0.53,0.535,0.54,0.545,0.55,0.555,0.56,0.5650000000000001,0.5700000000000001,0.5750000000000001,0.58,0.585,0.59,0.595,0.6,0.605,0.61,0.615,0.62,0.625,0.63,0.635,0.64,0.645,0.65,0.655,0.66,0.665,0.67,0.675,0.68,0.685,0.6900000000000001,0.6950000000000001,0.7000000000000001,0.705,0.71,0.715,0.72,0.725,0.73,0.735,0.74,0.745,0.75,0.755,0.76,0.765,0.77,0.775,0.78,0.785,0.79,0.795,0.8,0.805,0.81,0.8150000000000001,0.8200000000000001,0.8250000000000001,0.8300000000000001,0.835,0.84,0.845,0.85,0.855,0.86,0.865,0.87,0.875,0.88,0.885,0.89,0.895,0.9,0.905,0.91,0.915,0.92,0.925,0.93,0.935,0.9400000000000001,0.9450000000000001,0.9500000000000001,0.9550000000000001,0.96,0.965,0.97,0.975,0.98,0.985,0.99,0.995,1.0]},\"selected\":{\"id\":\"4496\"},\"selection_policy\":{\"id\":\"4495\"}},\"id\":\"4260\",\"type\":\"ColumnDataSource\"},{\"attributes\":{\"below\":[{\"id\":\"4270\"}],\"center\":[{\"id\":\"4273\"},{\"id\":\"4277\"}],\"height\":400,\"left\":[{\"id\":\"4274\"}],\"renderers\":[{\"id\":\"4295\"}],\"title\":{\"id\":\"4488\"},\"toolbar\":{\"id\":\"4285\"},\"width\":400,\"x_range\":{\"id\":\"4262\"},\"x_scale\":{\"id\":\"4266\"},\"y_range\":{\"id\":\"4264\"},\"y_scale\":{\"id\":\"4268\"}},\"id\":\"4261\",\"subtype\":\"Figure\",\"type\":\"Plot\"},{\"attributes\":{\"formatter\":{\"id\":\"4492\"},\"major_label_policy\":{\"id\":\"4494\"},\"ticker\":{\"id\":\"4275\"}},\"id\":\"4274\",\"type\":\"LinearAxis\"},{\"attributes\":{\"axis\":{\"id\":\"4274\"},\"dimension\":1,\"ticker\":null},\"id\":\"4277\",\"type\":\"Grid\"},{\"attributes\":{\"formatter\":{\"id\":\"4489\"},\"major_label_policy\":{\"id\":\"4491\"},\"ticker\":{\"id\":\"4271\"}},\"id\":\"4270\",\"type\":\"LinearAxis\"},{\"attributes\":{},\"id\":\"4495\",\"type\":\"UnionRenderers\"},{\"attributes\":{},\"id\":\"4262\",\"type\":\"DataRange1d\"},{\"attributes\":{},\"id\":\"4496\",\"type\":\"Selection\"},{\"attributes\":{},\"id\":\"4264\",\"type\":\"DataRange1d\"},{\"attributes\":{},\"id\":\"4268\",\"type\":\"LinearScale\"},{\"attributes\":{},\"id\":\"4266\",\"type\":\"LinearScale\"}],\"root_ids\":[\"4299\"]},\"title\":\"Bokeh Application\",\"version\":\"2.3.0\"}};\n",
       "  var render_items = [{\"docid\":\"ce356e5e-5f3f-48ca-8b74-09c65da2580d\",\"root_ids\":[\"4299\"],\"roots\":{\"4299\":\"a3405910-c712-4d8d-a3e7-817699a8aaa8\"}}];\n",
       "  root.Bokeh.embed.embed_items_notebook(docs_json, render_items);\n",
       "\n",
       "  }\n",
       "  if (root.Bokeh !== undefined) {\n",
       "    embed_document(root);\n",
       "  } else {\n",
       "    var attempts = 0;\n",
       "    var timer = setInterval(function(root) {\n",
       "      if (root.Bokeh !== undefined) {\n",
       "        clearInterval(timer);\n",
       "        embed_document(root);\n",
       "      } else {\n",
       "        attempts++;\n",
       "        if (attempts > 100) {\n",
       "          clearInterval(timer);\n",
       "          console.log(\"Bokeh: ERROR: Unable to run BokehJS code because BokehJS library is missing\");\n",
       "        }\n",
       "      }\n",
       "    }, 10, root)\n",
       "  }\n",
       "})(window);"
      ],
      "application/vnd.bokehjs_exec.v0+json": ""
     },
     "metadata": {
      "application/vnd.bokehjs_exec.v0+json": {
       "id": "4299"
      }
     },
     "output_type": "display_data"
    }
   ],
   "source": [
    "from bokeh.layouts import column\n",
    "from bokeh.models import CustomJS, ColumnDataSource, Slider\n",
    "\n",
    "x = [x*0.005 for x in range(0, 201)]\n",
    "\n",
    "source = ColumnDataSource(data=dict(x=x, y=x))\n",
    "\n",
    "plot = figure(plot_width=400, plot_height=400)\n",
    "plot.line('x', 'y', source=source, line_width=3, line_alpha=0.6)\n",
    "\n",
    "slider = Slider(start=0.1, end=6, value=1, step=.1, title=\"power\")\n",
    "\n",
    "update_curve = CustomJS(args=dict(source=source, slider=slider), code=\"\"\"\n",
    "    var data = source.data;\n",
    "    var f = slider.value;\n",
    "    var x = data['x']\n",
    "    var y = data['y']\n",
    "    for (var i = 0; i < x.length; i++) {\n",
    "        y[i] = Math.pow(x[i], f)\n",
    "    }\n",
    "    \n",
    "    // necessary becasue we mutated source.data in-place\n",
    "    source.change.emit();\n",
    "\"\"\")\n",
    "slider.js_on_change('value', update_curve)\n",
    "\n",
    "\n",
    "show(column(slider, plot))"
   ]
  },
  {
   "cell_type": "code",
   "execution_count": 20,
   "metadata": {},
   "outputs": [
    {
     "data": {
      "text/html": [
       "\n",
       "\n",
       "\n",
       "\n",
       "\n",
       "\n",
       "  <div class=\"bk-root\" id=\"177c847a-4133-455b-b354-a47fd97e79f6\" data-root-id=\"5874\"></div>\n"
      ]
     },
     "metadata": {},
     "output_type": "display_data"
    },
    {
     "data": {
      "application/javascript": [
       "(function(root) {\n",
       "  function embed_document(root) {\n",
       "    \n",
       "  var docs_json = {\"b795f1ff-1253-4788-9909-aefc5c2513aa\":{\"defs\":[{\"extends\":null,\"module\":null,\"name\":\"DataModel\",\"overrides\":[],\"properties\":[]}],\"roots\":{\"references\":[{\"attributes\":{\"children\":[{\"id\":\"5872\"},{\"id\":\"5836\"}]},\"id\":\"5874\",\"type\":\"Column\"},{\"attributes\":{\"bottom_units\":\"screen\",\"fill_alpha\":0.5,\"fill_color\":\"lightgrey\",\"left_units\":\"screen\",\"level\":\"overlay\",\"line_alpha\":1.0,\"line_color\":\"black\",\"line_dash\":[4,4],\"line_width\":2,\"right_units\":\"screen\",\"syncable\":false,\"top_units\":\"screen\"},\"id\":\"5859\",\"type\":\"BoxAnnotation\"},{\"attributes\":{},\"id\":\"6125\",\"type\":\"UnionRenderers\"},{\"attributes\":{},\"id\":\"6126\",\"type\":\"Selection\"},{\"attributes\":{\"data\":{\"x\":[0.0,0.005,0.01,0.015,0.02,0.025,0.03,0.035,0.04,0.045,0.05,0.055,0.06,0.065,0.07,0.075,0.08,0.085,0.09,0.095,0.1,0.105,0.11,0.115,0.12,0.125,0.13,0.135,0.14,0.145,0.15,0.155,0.16,0.165,0.17,0.17500000000000002,0.18,0.185,0.19,0.195,0.2,0.20500000000000002,0.21,0.215,0.22,0.225,0.23,0.23500000000000001,0.24,0.245,0.25,0.255,0.26,0.265,0.27,0.275,0.28,0.28500000000000003,0.29,0.295,0.3,0.305,0.31,0.315,0.32,0.325,0.33,0.335,0.34,0.34500000000000003,0.35000000000000003,0.355,0.36,0.365,0.37,0.375,0.38,0.385,0.39,0.395,0.4,0.405,0.41000000000000003,0.41500000000000004,0.42,0.425,0.43,0.435,0.44,0.445,0.45,0.455,0.46,0.465,0.47000000000000003,0.47500000000000003,0.48,0.485,0.49,0.495,0.5,0.505,0.51,0.515,0.52,0.525,0.53,0.535,0.54,0.545,0.55,0.555,0.56,0.5650000000000001,0.5700000000000001,0.5750000000000001,0.58,0.585,0.59,0.595,0.6,0.605,0.61,0.615,0.62,0.625,0.63,0.635,0.64,0.645,0.65,0.655,0.66,0.665,0.67,0.675,0.68,0.685,0.6900000000000001,0.6950000000000001,0.7000000000000001,0.705,0.71,0.715,0.72,0.725,0.73,0.735,0.74,0.745,0.75,0.755,0.76,0.765,0.77,0.775,0.78,0.785,0.79,0.795,0.8,0.805,0.81,0.8150000000000001,0.8200000000000001,0.8250000000000001,0.8300000000000001,0.835,0.84,0.845,0.85,0.855,0.86,0.865,0.87,0.875,0.88,0.885,0.89,0.895,0.9,0.905,0.91,0.915,0.92,0.925,0.93,0.935,0.9400000000000001,0.9450000000000001,0.9500000000000001,0.9550000000000001,0.96,0.965,0.97,0.975,0.98,0.985,0.99,0.995,1.0],\"y\":[0.0,0.005,0.01,0.015,0.02,0.025,0.03,0.035,0.04,0.045,0.05,0.055,0.06,0.065,0.07,0.075,0.08,0.085,0.09,0.095,0.1,0.105,0.11,0.115,0.12,0.125,0.13,0.135,0.14,0.145,0.15,0.155,0.16,0.165,0.17,0.17500000000000002,0.18,0.185,0.19,0.195,0.2,0.20500000000000002,0.21,0.215,0.22,0.225,0.23,0.23500000000000001,0.24,0.245,0.25,0.255,0.26,0.265,0.27,0.275,0.28,0.28500000000000003,0.29,0.295,0.3,0.305,0.31,0.315,0.32,0.325,0.33,0.335,0.34,0.34500000000000003,0.35000000000000003,0.355,0.36,0.365,0.37,0.375,0.38,0.385,0.39,0.395,0.4,0.405,0.41000000000000003,0.41500000000000004,0.42,0.425,0.43,0.435,0.44,0.445,0.45,0.455,0.46,0.465,0.47000000000000003,0.47500000000000003,0.48,0.485,0.49,0.495,0.5,0.505,0.51,0.515,0.52,0.525,0.53,0.535,0.54,0.545,0.55,0.555,0.56,0.5650000000000001,0.5700000000000001,0.5750000000000001,0.58,0.585,0.59,0.595,0.6,0.605,0.61,0.615,0.62,0.625,0.63,0.635,0.64,0.645,0.65,0.655,0.66,0.665,0.67,0.675,0.68,0.685,0.6900000000000001,0.6950000000000001,0.7000000000000001,0.705,0.71,0.715,0.72,0.725,0.73,0.735,0.74,0.745,0.75,0.755,0.76,0.765,0.77,0.775,0.78,0.785,0.79,0.795,0.8,0.805,0.81,0.8150000000000001,0.8200000000000001,0.8250000000000001,0.8300000000000001,0.835,0.84,0.845,0.85,0.855,0.86,0.865,0.87,0.875,0.88,0.885,0.89,0.895,0.9,0.905,0.91,0.915,0.92,0.925,0.93,0.935,0.9400000000000001,0.9450000000000001,0.9500000000000001,0.9550000000000001,0.96,0.965,0.97,0.975,0.98,0.985,0.99,0.995,1.0]},\"selected\":{\"id\":\"6126\"},\"selection_policy\":{\"id\":\"6125\"}},\"id\":\"5835\",\"type\":\"ColumnDataSource\"},{\"attributes\":{\"below\":[{\"id\":\"5845\"}],\"center\":[{\"id\":\"5848\"},{\"id\":\"5852\"}],\"height\":400,\"left\":[{\"id\":\"5849\"}],\"renderers\":[{\"id\":\"5870\"}],\"title\":{\"id\":\"6118\"},\"toolbar\":{\"id\":\"5860\"},\"width\":400,\"x_range\":{\"id\":\"5837\"},\"x_scale\":{\"id\":\"5841\"},\"y_range\":{\"id\":\"5839\"},\"y_scale\":{\"id\":\"5843\"}},\"id\":\"5836\",\"subtype\":\"Figure\",\"type\":\"Plot\"},{\"attributes\":{\"formatter\":{\"id\":\"6122\"},\"major_label_policy\":{\"id\":\"6124\"},\"ticker\":{\"id\":\"5850\"}},\"id\":\"5849\",\"type\":\"LinearAxis\"},{\"attributes\":{\"formatter\":{\"id\":\"6119\"},\"major_label_policy\":{\"id\":\"6121\"},\"ticker\":{\"id\":\"5846\"}},\"id\":\"5845\",\"type\":\"LinearAxis\"},{\"attributes\":{},\"id\":\"5837\",\"type\":\"DataRange1d\"},{\"attributes\":{},\"id\":\"5839\",\"type\":\"DataRange1d\"},{\"attributes\":{\"end\":6,\"js_property_callbacks\":{\"change:value\":[{\"id\":\"5873\"}]},\"start\":0.1,\"step\":0.1,\"title\":\"power\",\"value\":1},\"id\":\"5872\",\"type\":\"Slider\"},{\"attributes\":{},\"id\":\"5843\",\"type\":\"LinearScale\"},{\"attributes\":{},\"id\":\"5841\",\"type\":\"LinearScale\"},{\"attributes\":{\"args\":{\"slider\":{\"id\":\"5872\"},\"source\":{\"id\":\"5835\"}},\"code\":\"\\n    var data = source.data;\\n    var f = slider.value;\\n    var x = data['x']\\n    var y = data['y']\\n    for (var i = 0; i < x.length; i++) {\\n        x[i] = Math.pow(y[i], f)\\n    }\\n    \\n    // necessary becasue we mutated source.data in-place\\n    source.change.emit();\\n\"},\"id\":\"5873\",\"type\":\"CustomJS\"},{\"attributes\":{\"data_source\":{\"id\":\"5835\"},\"glyph\":{\"id\":\"5868\"},\"hover_glyph\":null,\"muted_glyph\":null,\"nonselection_glyph\":{\"id\":\"5869\"},\"view\":{\"id\":\"5871\"}},\"id\":\"5870\",\"type\":\"GlyphRenderer\"},{\"attributes\":{},\"id\":\"5846\",\"type\":\"BasicTicker\"},{\"attributes\":{\"line_alpha\":0.1,\"line_color\":\"#1f77b4\",\"line_width\":3,\"x\":{\"field\":\"x\"},\"y\":{\"field\":\"y\"}},\"id\":\"5869\",\"type\":\"Line\"},{\"attributes\":{\"axis\":{\"id\":\"5845\"},\"ticker\":null},\"id\":\"5848\",\"type\":\"Grid\"},{\"attributes\":{\"line_alpha\":0.6,\"line_color\":\"#1f77b4\",\"line_width\":3,\"x\":{\"field\":\"x\"},\"y\":{\"field\":\"y\"}},\"id\":\"5868\",\"type\":\"Line\"},{\"attributes\":{\"source\":{\"id\":\"5835\"}},\"id\":\"5871\",\"type\":\"CDSView\"},{\"attributes\":{},\"id\":\"5850\",\"type\":\"BasicTicker\"},{\"attributes\":{\"axis\":{\"id\":\"5849\"},\"dimension\":1,\"ticker\":null},\"id\":\"5852\",\"type\":\"Grid\"},{\"attributes\":{},\"id\":\"6119\",\"type\":\"BasicTickFormatter\"},{\"attributes\":{\"active_multi\":null,\"tools\":[{\"id\":\"5853\"},{\"id\":\"5854\"},{\"id\":\"5855\"},{\"id\":\"5856\"},{\"id\":\"5857\"},{\"id\":\"5858\"}]},\"id\":\"5860\",\"type\":\"Toolbar\"},{\"attributes\":{},\"id\":\"5854\",\"type\":\"WheelZoomTool\"},{\"attributes\":{},\"id\":\"5853\",\"type\":\"PanTool\"},{\"attributes\":{},\"id\":\"6121\",\"type\":\"AllLabels\"},{\"attributes\":{\"overlay\":{\"id\":\"5859\"}},\"id\":\"5855\",\"type\":\"BoxZoomTool\"},{\"attributes\":{},\"id\":\"6122\",\"type\":\"BasicTickFormatter\"},{\"attributes\":{},\"id\":\"5856\",\"type\":\"SaveTool\"},{\"attributes\":{},\"id\":\"5857\",\"type\":\"ResetTool\"},{\"attributes\":{},\"id\":\"6124\",\"type\":\"AllLabels\"},{\"attributes\":{},\"id\":\"6118\",\"type\":\"Title\"},{\"attributes\":{},\"id\":\"5858\",\"type\":\"HelpTool\"}],\"root_ids\":[\"5874\"]},\"title\":\"Bokeh Application\",\"version\":\"2.3.0\"}};\n",
       "  var render_items = [{\"docid\":\"b795f1ff-1253-4788-9909-aefc5c2513aa\",\"root_ids\":[\"5874\"],\"roots\":{\"5874\":\"177c847a-4133-455b-b354-a47fd97e79f6\"}}];\n",
       "  root.Bokeh.embed.embed_items_notebook(docs_json, render_items);\n",
       "\n",
       "  }\n",
       "  if (root.Bokeh !== undefined) {\n",
       "    embed_document(root);\n",
       "  } else {\n",
       "    var attempts = 0;\n",
       "    var timer = setInterval(function(root) {\n",
       "      if (root.Bokeh !== undefined) {\n",
       "        clearInterval(timer);\n",
       "        embed_document(root);\n",
       "      } else {\n",
       "        attempts++;\n",
       "        if (attempts > 100) {\n",
       "          clearInterval(timer);\n",
       "          console.log(\"Bokeh: ERROR: Unable to run BokehJS code because BokehJS library is missing\");\n",
       "        }\n",
       "      }\n",
       "    }, 10, root)\n",
       "  }\n",
       "})(window);"
      ],
      "application/vnd.bokehjs_exec.v0+json": ""
     },
     "metadata": {
      "application/vnd.bokehjs_exec.v0+json": {
       "id": "5874"
      }
     },
     "output_type": "display_data"
    }
   ],
   "source": [
    "# Exercise: Create a plot that updates based on a Select widget\n",
    "from bokeh.layouts import column\n",
    "from bokeh.models import CustomJS, ColumnDataSource, Slider\n",
    "\n",
    "x = [x*0.005 for x in range(0, 201)]\n",
    "\n",
    "source = ColumnDataSource(data=dict(x=x, y=x))\n",
    "\n",
    "plot = figure(plot_width=400, plot_height=400)\n",
    "plot.line('x', 'y', source=source, line_width=3, line_alpha=0.6)\n",
    "\n",
    "slider = Slider(start=0.1, end=6, value=1, step=.1, title=\"power\")\n",
    "\n",
    "update_curve = CustomJS(args=dict(source=source, slider=slider), code=\"\"\"\n",
    "    var data = source.data;\n",
    "    var f = slider.value;\n",
    "    var x = data['x']\n",
    "    var y = data['y']\n",
    "    for (var i = 0; i < x.length; i++) {\n",
    "        x[i] = Math.pow(y[i], f)\n",
    "    }\n",
    "    \n",
    "    // necessary becasue we mutated source.data in-place\n",
    "    source.change.emit();\n",
    "\"\"\")\n",
    "slider.js_on_change('value', update_curve)\n",
    "\n",
    "\n",
    "show(column(slider, plot))\n"
   ]
  },
  {
   "cell_type": "markdown",
   "metadata": {},
   "source": [
    "### Data selection example\n",
    "\n",
    "It's also possible to make JavaScript actions that execute whenever a user selection (e.g., box, point, lasso) changes. This is done by attaching the same kind of CustomJS object to whatever data source the selection is made on.\n",
    "\n",
    "The example below is a bit more sophisticated, and demonstrates updating one glyph's data source in response to another glyph's selection: "
   ]
  },
  {
   "cell_type": "code",
   "execution_count": 21,
   "metadata": {},
   "outputs": [
    {
     "data": {
      "text/html": [
       "\n",
       "\n",
       "\n",
       "\n",
       "\n",
       "\n",
       "  <div class=\"bk-root\" id=\"6fe897e2-3593-4566-b222-cbc9909daab2\" data-root-id=\"6184\"></div>\n"
      ]
     },
     "metadata": {},
     "output_type": "display_data"
    },
    {
     "data": {
      "application/javascript": [
       "(function(root) {\n",
       "  function embed_document(root) {\n",
       "    \n",
       "  var docs_json = {\"752259f1-431b-415f-9791-30e81e799f0a\":{\"defs\":[{\"extends\":null,\"module\":null,\"name\":\"DataModel\",\"overrides\":[],\"properties\":[]}],\"roots\":{\"references\":[{\"attributes\":{\"below\":[{\"id\":\"6195\"}],\"center\":[{\"id\":\"6198\"},{\"id\":\"6202\"}],\"height\":400,\"left\":[{\"id\":\"6199\"}],\"renderers\":[{\"id\":\"6211\"},{\"id\":\"6217\"}],\"title\":{\"id\":\"6185\"},\"toolbar\":{\"id\":\"6205\"},\"width\":400,\"x_range\":{\"id\":\"6187\"},\"x_scale\":{\"id\":\"6191\"},\"y_range\":{\"id\":\"6189\"},\"y_scale\":{\"id\":\"6193\"}},\"id\":\"6184\",\"subtype\":\"Figure\",\"type\":\"Plot\"},{\"attributes\":{\"data\":{\"xm\":[0,1],\"ym\":[0.5,0.5]},\"selected\":{\"id\":\"6485\"},\"selection_policy\":{\"id\":\"6484\"}},\"id\":\"6213\",\"type\":\"ColumnDataSource\"},{\"attributes\":{\"data\":{\"color\":[\"navy\",\"navy\",\"navy\",\"navy\",\"navy\",\"navy\",\"navy\",\"navy\",\"navy\",\"navy\",\"navy\",\"navy\",\"navy\",\"navy\",\"navy\",\"navy\",\"navy\",\"navy\",\"navy\",\"navy\",\"navy\",\"navy\",\"navy\",\"navy\",\"navy\",\"navy\",\"navy\",\"navy\",\"navy\",\"navy\",\"navy\",\"navy\",\"navy\",\"navy\",\"navy\",\"navy\",\"navy\",\"navy\",\"navy\",\"navy\",\"navy\",\"navy\",\"navy\",\"navy\",\"navy\",\"navy\",\"navy\",\"navy\",\"navy\",\"navy\",\"navy\",\"navy\",\"navy\",\"navy\",\"navy\",\"navy\",\"navy\",\"navy\",\"navy\",\"navy\",\"navy\",\"navy\",\"navy\",\"navy\",\"navy\",\"navy\",\"navy\",\"navy\",\"navy\",\"navy\",\"navy\",\"navy\",\"navy\",\"navy\",\"navy\",\"navy\",\"navy\",\"navy\",\"navy\",\"navy\",\"navy\",\"navy\",\"navy\",\"navy\",\"navy\",\"navy\",\"navy\",\"navy\",\"navy\",\"navy\",\"navy\",\"navy\",\"navy\",\"navy\",\"navy\",\"navy\",\"navy\",\"navy\",\"navy\",\"navy\",\"navy\",\"navy\",\"navy\",\"navy\",\"navy\",\"navy\",\"navy\",\"navy\",\"navy\",\"navy\",\"navy\",\"navy\",\"navy\",\"navy\",\"navy\",\"navy\",\"navy\",\"navy\",\"navy\",\"navy\",\"navy\",\"navy\",\"navy\",\"navy\",\"navy\",\"navy\",\"navy\",\"navy\",\"navy\",\"navy\",\"navy\",\"navy\",\"navy\",\"navy\",\"navy\",\"navy\",\"navy\",\"navy\",\"navy\",\"navy\",\"navy\",\"navy\",\"navy\",\"navy\",\"navy\",\"navy\",\"navy\",\"navy\",\"navy\",\"navy\",\"navy\",\"navy\",\"navy\",\"navy\",\"navy\",\"navy\",\"navy\",\"navy\",\"navy\",\"navy\",\"navy\",\"navy\",\"navy\",\"navy\",\"navy\",\"navy\",\"navy\",\"navy\",\"navy\",\"navy\",\"navy\",\"navy\",\"navy\",\"navy\",\"navy\",\"navy\",\"navy\",\"navy\",\"navy\",\"navy\",\"navy\",\"navy\",\"navy\",\"navy\",\"navy\",\"navy\",\"navy\",\"navy\",\"navy\",\"navy\",\"navy\",\"navy\",\"navy\",\"navy\",\"navy\",\"navy\",\"navy\",\"navy\",\"navy\",\"navy\",\"navy\",\"navy\",\"navy\",\"navy\",\"navy\",\"navy\",\"navy\",\"navy\",\"navy\",\"navy\",\"navy\",\"navy\",\"navy\",\"navy\",\"navy\",\"navy\",\"navy\",\"navy\",\"navy\",\"navy\",\"navy\",\"navy\",\"navy\",\"navy\",\"navy\",\"navy\",\"navy\",\"navy\",\"navy\",\"navy\",\"navy\",\"navy\",\"navy\",\"navy\",\"navy\",\"navy\",\"navy\",\"navy\",\"navy\",\"navy\",\"navy\",\"navy\",\"navy\",\"navy\",\"navy\",\"navy\",\"navy\",\"navy\",\"navy\",\"navy\",\"navy\",\"navy\",\"navy\",\"navy\",\"navy\",\"navy\",\"navy\",\"navy\",\"navy\",\"navy\",\"navy\",\"navy\",\"navy\",\"navy\",\"navy\",\"navy\",\"navy\",\"navy\",\"navy\",\"navy\",\"navy\",\"navy\",\"navy\",\"navy\",\"navy\",\"navy\",\"navy\",\"navy\",\"navy\",\"navy\",\"navy\",\"navy\",\"navy\",\"navy\",\"navy\",\"navy\",\"navy\",\"navy\",\"navy\",\"navy\",\"navy\",\"navy\",\"navy\",\"navy\",\"navy\",\"navy\",\"navy\",\"navy\",\"navy\",\"navy\",\"navy\",\"navy\",\"navy\",\"navy\",\"navy\",\"navy\",\"navy\",\"navy\",\"navy\",\"navy\",\"navy\",\"navy\",\"navy\",\"navy\",\"navy\",\"navy\",\"navy\",\"navy\",\"navy\",\"navy\",\"navy\",\"navy\",\"navy\",\"navy\",\"navy\",\"navy\",\"navy\",\"navy\",\"navy\",\"navy\",\"navy\",\"navy\",\"navy\",\"navy\",\"navy\",\"navy\",\"navy\",\"navy\",\"navy\",\"navy\",\"navy\",\"navy\",\"navy\",\"navy\",\"navy\",\"navy\",\"navy\",\"navy\",\"navy\",\"navy\",\"navy\",\"navy\",\"navy\",\"navy\",\"navy\",\"navy\",\"navy\",\"navy\",\"navy\",\"navy\",\"navy\",\"navy\",\"navy\",\"navy\",\"navy\",\"navy\",\"navy\",\"navy\",\"navy\",\"navy\",\"navy\",\"navy\",\"navy\",\"navy\",\"navy\",\"navy\",\"navy\",\"navy\",\"navy\",\"navy\",\"navy\",\"navy\",\"navy\",\"navy\",\"navy\",\"navy\",\"navy\",\"navy\",\"navy\",\"navy\",\"navy\",\"navy\",\"navy\",\"navy\",\"navy\",\"navy\",\"navy\",\"navy\",\"navy\",\"navy\",\"navy\",\"navy\",\"navy\",\"navy\",\"navy\",\"navy\",\"navy\",\"navy\",\"navy\",\"navy\",\"navy\",\"navy\",\"navy\",\"navy\",\"navy\",\"navy\",\"navy\",\"navy\",\"navy\",\"navy\",\"navy\",\"navy\",\"navy\",\"navy\",\"navy\",\"navy\",\"navy\",\"navy\",\"navy\",\"navy\",\"navy\",\"navy\",\"navy\",\"navy\",\"navy\",\"navy\",\"navy\",\"navy\",\"navy\",\"navy\",\"navy\",\"navy\",\"navy\",\"navy\",\"navy\",\"navy\",\"navy\",\"navy\",\"navy\",\"navy\",\"navy\",\"navy\",\"navy\",\"navy\",\"navy\",\"navy\",\"navy\",\"navy\",\"navy\",\"navy\",\"navy\",\"navy\",\"navy\",\"navy\",\"navy\",\"navy\",\"navy\",\"navy\",\"navy\",\"navy\",\"navy\",\"navy\",\"navy\",\"navy\",\"navy\",\"navy\",\"navy\",\"navy\",\"navy\",\"navy\",\"navy\",\"navy\",\"navy\",\"navy\",\"navy\",\"navy\",\"navy\",\"navy\",\"navy\",\"navy\",\"navy\",\"navy\",\"navy\",\"navy\",\"navy\",\"navy\",\"navy\",\"navy\",\"navy\",\"navy\"],\"x\":[0.15124398842422526,0.6342172141735861,0.43934117814120544,0.7628911204962602,0.19223373493756768,0.5792865413221897,0.8767906260482081,0.9269459013848788,0.2675914617463644,0.3206555294578044,0.42344880416585484,0.2407023063261733,0.025488160963769935,0.889084333858969,0.7472808921684356,0.5428206283521663,0.1272809722017828,0.2723117227759805,0.05990708164361114,0.8174893767661688,0.630035240584594,0.7498979708691568,0.3484105383598649,0.6342371872189214,0.6361449544527996,0.3438237403784289,0.8786248609086844,0.35073214441915535,0.42612045289238476,0.04365370682517333,0.008716292555961624,0.8246812320919121,0.021303849958661747,0.8044991368990062,0.3292197611528541,0.04923976787868356,0.07323489740047828,0.04904760519365714,0.174264551379973,0.7821840468413641,0.4072004183104948,0.4398307048389487,0.37689210420212926,0.1507539164198044,0.394823121600264,0.8013962865313684,0.09676122423539713,0.1771269577634953,0.27585337994217285,0.6306412961283603,0.8207661243972317,0.8060665761450867,0.41113889538112924,0.5995195775719795,0.27899725323918223,0.25081850244278636,0.8963603183374761,0.8461451990856221,0.3851456623009576,0.16756203475928622,0.5154266566032908,0.31606293005903396,0.2564057657375697,0.5442760074104707,0.6961015021105796,0.1401256672805572,0.6491965280598982,0.10465679587134336,0.8419168418505703,0.6823875186045455,0.39476172511809626,0.32720580531064425,0.3151479041312504,0.7050900523470631,0.07863424973492272,0.9752009883056462,0.13705209363157322,0.5421728345956067,0.8324539779816122,0.5741750766302701,0.8035428579746142,0.548695919988053,0.44445151283162443,0.32582567116649785,0.602265971085266,0.09215267761005974,0.7983032104239386,0.9898679216925407,0.5509656843344973,0.271055996012982,0.8384937810329379,0.5175210068301807,0.5457736544883449,0.6686621501050932,0.5137143787768349,0.4223397405899115,0.10912704070309354,0.6187603626805921,0.2365429155236568,0.1727646661419402,0.5182256719120214,0.2823476185774818,0.16462459212979696,0.4101815676314713,0.6498893784056496,0.29331456894416097,0.6317648180177076,0.31761919945837636,0.6977622480150291,0.9243042439367367,0.8979316208072117,0.7872310486662693,0.5955236883434779,0.6112657474008588,0.7250370308342137,0.5786474971523291,0.7808619451484562,0.11314886018542525,0.4297042968694186,0.989297897906884,0.031884932801737986,0.7397975264068044,0.5182994333541785,0.7992310182985122,0.7945670908450968,0.41619566227084603,0.7682041463365545,0.23792551224129588,0.41834441821832324,0.5825078670735057,0.4882645791350244,0.6054144593591669,0.8587147541460838,0.563856751057112,0.7502761855059094,0.357271152456466,0.6766537497614664,0.20970149215828238,0.49190747019533954,0.577753326873586,0.6587518920096127,0.21973968398261334,0.15365329849901266,0.15211480748264816,0.07376848721821039,0.49133139574311147,0.9878840116788234,0.06393720941503533,0.15462497814457254,0.8640770026896472,0.11106478161049005,0.20685116054028352,0.4146130761609609,0.7845577004536851,0.7030201285229646,0.05535934663986963,0.2834948937066255,0.04743903525385451,0.9975512362129899,0.15748294706435007,0.5548743530629331,0.5329587382781387,0.49169460929329245,0.9922052213393143,0.034521130358569074,0.4118149769055025,0.5612654147811582,0.17721783628585153,0.7991960939915348,0.24696564225612183,0.8000000246703407,0.286036813315271,0.10148353763969997,0.15813769633972352,0.9174986942232188,0.793834496811846,0.5978403597311815,0.3529780994851628,0.6395268692557641,0.500807326043985,0.3216546721179001,0.44357473997039465,0.04421790326219943,0.5858917656955941,0.6479719889943985,0.9073856330108975,0.07523185172613245,0.026422062507727828,0.4487144812616408,0.23482024142237168,0.9901110259163584,0.6850088082261785,0.15562114040932762,0.19541569206134846,0.6655527023400526,0.7483775106974611,0.669063482490175,0.7174839169605035,0.6280398915520222,0.45256748062283925,0.9587867720076169,0.20378236683247108,0.26608702047652,0.8756902055537643,0.007041591585470686,0.3594262603089444,0.7107067748020226,0.46930581059372756,0.14486135314237614,0.7231895232521773,0.41168380065430865,0.7398589784151115,0.09115346786785561,0.9893248232938533,0.3658135335295646,0.45271160349445283,0.4914770915725112,0.48075149813792284,0.19704615714024143,0.17934487697844237,0.7351781523172588,0.8801469598413131,0.853516984332352,0.129696674528485,0.926555170119456,0.49912329953793766,0.6116838661664769,0.8705108055372763,0.49051162876554233,0.23368577367618115,0.7537726029522853,0.4948131971158177,0.37949751430635903,0.9203937988138783,0.18703218982088576,0.6673893425871176,0.7147567321040332,0.6750809037794854,0.0737067233108385,0.8428215083755721,0.3887654882534751,0.5573006204960047,0.04169364369134421,0.006757427185031029,0.712690817803206,0.17319671788101776,0.9265547911439844,0.768387522528121,0.9750668151223983,0.6053676166744868,0.8239111751539279,0.27895515503911616,0.7728049624204342,0.7921035478871216,0.32757031724282726,0.08689728947666431,0.3987353028475751,0.6486195681220499,0.7112442479875111,0.40975152785323576,0.17863365638049322,0.00499573785705143,0.9155982015150103,0.24009131829099462,0.05296164792940228,0.42317053197369536,0.5325059948398778,0.05233533371222454,0.14343793941300997,0.30575612625420956,0.9815312258410469,0.31898540644699214,0.5946764323720322,0.13240031969553934,0.2670176251620354,0.3777514904446747,0.9571483057091549,0.7556109874107677,0.3975552038342618,0.7229120557130366,0.5181926038251683,0.5320123442029002,0.6793388245393718,0.8455624070605186,0.3424650634549119,0.004861715694804425,0.5400519184158052,0.11983438137615621,0.9226749354222771,0.9576074321942581,0.9240178897540906,0.5970287330877859,0.05796649336428783,0.7474174677727328,0.37854482365381426,0.3180087882607716,0.8542434021676837,0.026161372801382754,0.35862950969294005,0.30424866219890856,0.2888540230386897,0.1072756155374377,0.4242328310722352,0.699441057937902,0.48711640624258223,0.9179021622455067,0.8466484909306506,0.14791316711216584,0.04977197077002182,0.09829745771686005,0.2361361114074998,0.5489263719942936,0.48986826065889355,0.41844184759587866,0.6041785002756553,0.40730741616182076,0.3802687430885694,0.3774176777539393,0.7060450707828698,0.483547194765793,0.9539123810400552,0.5954568466457325,0.4353607457863018,0.21277532576861258,0.3899219848523825,0.24066533615625552,0.1595508568620596,0.6000807296423706,0.7901471194277931,0.34108744139814173,0.4150862199209503,0.7025165947705877,0.40257982335305875,0.12057383814069433,0.6722167218707618,0.05801647113030439,0.06545938539930363,0.13762398175324786,0.3704970446546342,0.03821684179274132,0.9630890866011602,0.9260941949102027,0.20696836382470407,0.057164761181190626,0.39085394988831834,0.1957115004604163,0.6575082547276215,0.19761206560681277,0.029699857114488193,0.254932623548058,0.8958060878982848,0.9872521095194364,0.1289845664439746,0.1704972049698006,0.771569224954035,0.6935501413923283,0.9101509114411211,0.057256916421455695,0.17769238607416382,0.026546281941075778,0.7828710688740602,0.6807920213223287,0.8906098170902504,0.023165427958616425,0.34895792832881156,0.5701279789679395,0.832245298588006,0.9699961736015573,0.7159788139459334,0.885978403507756,0.5229640204952898,0.611783225012524,0.751966212466599,0.5189129110775511,0.2384489380101945,0.35529594355127825,0.03751766778556764,0.1257175232777391,0.583378746989759,0.4288655321418997,0.9127205155782538,0.0796355339287601,0.3221506025415587,0.060151549823952766,0.446789047196936,0.5236348874692301,0.3523632361527468,0.9982588342508573,0.11981730614063157,0.4892955426454336,0.7718581809436307,0.8552344850103517,0.21247093057328847,0.9571404140640207,0.6763854215562362,0.16119249382731726,0.29843954980711884,0.8215246006637978,0.9511074622001271,0.6256329555555366,0.35096890128760205,0.07288783471263915,0.9914037822016907,0.48820596301159647,0.9691881654400583,0.631565638383918,0.10445127007870136,0.6110934684759401,0.39578745156645356,0.21056136805751746,0.964219824293319,0.45916970563922466,0.5860644093289489,0.5606046678634793,0.8761614856770792,0.19037129665520758,0.7630797810036908,0.09425842868315326,0.005760157513634567,0.5369303216074313,0.9067969922376842,0.8457001244487208,0.32398395203941377,0.5535719464142952,0.4806175068672045,0.3177335671093988,0.47280217543678615,0.4540364264733985,0.38658355464808924,0.7519283454337535,0.45757437897539677,0.5407167337942062,0.5003879731915192,0.819234592747331,0.9127321216718571,0.7278590216858164,0.42707810241856003,0.9769706786078103,0.5416459285390237,0.04032686111075323,0.6707829866430981,0.5367412051292747,0.6400460819139533,0.5572026749659124,0.16001601396074772,0.3581557086132581,0.4019744260297464,0.7285430649073235,0.2770487852170238,0.6947487564160583,0.6733077683699716,0.5054719185729704,0.853951854138249,0.14228867970332126,0.4433788090176871,0.8637445743971308,0.9048179682610202,0.4235021278947224,0.8985040323208018,0.027016251621393206,0.637597004915845,0.4679486879506375,0.4901693515811506,0.0684154099576384,0.2935858922849143,0.38096447399536204,0.41618028218937975,0.49856660505072425,0.46826755697289446,0.12119942980574472,0.4698281340147702,0.7094422393538958,0.8297278845248945,0.09995233894138911,0.9323870916020758,0.3090979632651021,0.4064811337479398,0.5831079031886572,0.030950237501990552,0.22280258914894913,0.12506967472495234,0.7076982976390215,0.1994172583141819,0.7450427573622631,0.8878523193506253,0.6249214842899848,0.9061769366585295,0.8402248707322864,0.16368631554329416,0.1600045637573918,0.8378484557105471,0.554944458456255,0.42764461795179676,0.338571746669316,0.6690978071607138,0.5257774250796579,0.5768737243234737,0.6070745293224743,0.6508499350458786,0.44947947730937976],\"y\":[0.042664390389918205,0.09644350701468696,0.5161984817922012,0.3304784782520943,0.839037165562269,0.8956142740878236,0.029489598776985204,0.037350154336258545,0.6951668268241098,0.08275793561780953,0.7716703430362354,0.6558454475374704,0.4561021905116651,0.8053136046661228,0.4900619226058588,0.8167643884952438,0.3555670500120538,0.40437991600824164,0.6349572437478187,0.31324020910118877,0.4284845179254374,0.20520231463155658,0.6261910088255591,0.8990841233452354,0.31126696682561494,0.529360691886697,0.36208366663030156,0.02090923421807478,0.1702076635122194,0.37292856080895587,0.2607331034533408,0.16330824856261716,0.267883764266841,0.572159053718801,0.2338757419304759,0.09767053310594875,0.23527565997375122,0.12033777884270502,0.2961878625575527,0.2741839357667304,0.42456659966919386,0.9580333170928177,0.13354911325458185,0.8887376859049319,0.11084776931446505,0.7538492473281729,0.9690088662098484,0.23132687846289945,0.6752223918426496,0.49977214038429885,0.9100750855146702,0.8800556715930898,0.285804511989438,0.7179029598278187,0.8508176508895221,0.5811240483995208,0.8981101175980725,0.661745595213769,0.11054275569670957,0.5418858421745708,0.0059787856242823345,0.0884783748401643,0.7063870664071179,0.2665490210120679,0.28767155439697956,0.601121682302955,0.8125661394017504,0.2828516810353513,0.5507904792510638,0.25370807234200565,0.17329824208657207,0.5616000848576793,0.5281630916415401,0.1770498868552145,0.496623544521159,0.11349910993315959,0.6889673239966158,0.4336529410009651,0.7415499214624937,0.2935681724129695,0.43354925641498576,0.2626644546851483,0.3291748546642137,0.4678021104870109,0.12012545561098409,0.0794141768136627,0.3783464677122199,0.5960137137075472,0.35583462836293034,0.5076032195389832,0.6340325648868945,0.6303734638683429,0.4901332457135782,0.6241798192561075,0.8771032017459349,0.5546980297241829,0.9665840718177761,0.4304298351060283,0.18044478569466416,0.8257497793915212,0.09807427646017353,0.2715430527711479,0.004768286838087499,0.3451753269353065,0.4872554042862195,0.41215301541116967,0.26057442944161824,0.5756003545133338,0.9750531422473453,0.41433611819586835,0.3986590372646336,0.3691827079640212,0.3568515604743019,0.34976667072450507,0.43778210994204025,0.3388890731609362,0.454650081885012,0.4796116369762967,0.18924599611752702,0.7008075943945635,0.07433426393179443,0.6213666373567575,0.45628943427367374,0.16882950780827155,0.7813677796833994,0.05466540815315679,0.5688604075480391,0.3758785976236594,0.6044411938918572,0.7185011102450625,0.6154136167420851,0.7711036096434216,0.3283497052687534,0.2787517125480984,0.17386631555312138,0.925917376419009,0.30487123747710043,0.9340356940470422,0.30023073167656944,0.21669649655940992,0.0658819808465384,0.6886113174073663,0.7724414494757824,0.36709856994782575,0.9605130811309452,0.8987244887642671,0.633279296790015,0.26229307427576387,0.9183113412856181,0.9231002111256388,0.9812788965376779,0.6261642424159837,0.46137380335211464,0.13911107170316395,0.499694642591779,0.5916176729482618,0.9565097456929146,0.6131334327392013,0.7291083451756536,0.29799191662671043,0.5503845764384319,0.938154986718938,0.8853825417802139,0.13264438310587978,0.07212106933052198,0.6389129982705399,0.4496254288424022,0.28231819386111057,0.22434447736447893,0.9941561181731235,0.6905991551651298,0.08057583826167225,0.9704338912640236,0.6270156474660248,0.1641844961739677,0.4417860153419766,0.9220475297914077,0.27503221014605417,0.34563156136440487,0.3977623352798858,0.405406229603521,0.10177809135479832,0.23941639912778212,0.20849769859697587,0.3201262944675498,0.3961108215823754,0.16206255871026098,0.24509203144601166,0.6056786034259718,0.49714294469197007,0.8297863685590916,0.9388380119934739,0.6488218677850871,0.794351807865027,0.6883601908956397,0.6171708165748425,0.5298409863864493,0.044116018302896465,0.6994018537389892,0.43428110388175833,0.7008204243678107,0.8597925646789948,0.03246834576468505,0.5746381680712164,0.7071114341655768,0.2611223608259756,0.3049246959502274,0.06041424039563248,0.42087313882786925,0.6431708507769185,0.43656626193813197,0.5598614178627066,0.8325519616136925,0.2527679313455118,0.335357767904471,0.3796457360020514,0.5169753709945089,0.042158605639333824,0.0711164733689319,0.07094511135597459,0.3965871154006315,0.8509063228052433,0.12995036246220026,0.5545002568537175,0.09387023973034259,0.33108254347171007,0.41678118163284295,0.9396349316825886,0.5910090696941058,0.5926063759851492,0.5848472751991609,0.33192289083174376,0.23144684999890264,0.9661895216591788,0.20941114328709576,0.004661926313359266,0.4483929271086444,0.5681332385267319,0.9085157998707152,0.9270751153480792,0.6932725566454647,0.028125196412457698,0.4329400308092711,0.7979112001636701,0.4692527283571045,0.368445153843991,0.5638145044284986,0.0713210101509959,0.5401416804826846,0.11060266501867722,0.4132944509310291,0.3868333619096498,0.5569800598821356,0.9909452355135708,0.9826231425507396,0.5874131188948594,0.8361073329909121,0.15823694472604,0.8373815993558299,0.8484493011319351,0.500682092948009,0.38265824582508057,0.8447416327233714,0.22776281568356838,0.5515402851258104,0.08818074943237308,0.06555322062522118,0.7534304708623805,0.25518368150423143,0.7053114889755822,0.90701705729043,0.5094506652627603,0.4239110296549544,0.04296111775739342,0.3090930951975692,0.7906650138229375,0.8901874335164336,0.7272335222638782,0.9006131228549128,0.6345373506184891,0.11030076275510492,0.3227681527850088,0.44520194047756256,0.08806525272885868,0.3129338830269748,0.9314349973358339,0.8605626796963023,0.27846663876582567,0.8836025675653061,0.08393290982826018,0.07474544972026598,0.6608428066291681,0.45758387789069144,0.7047141443471079,0.4883809654482465,0.6888868165055413,0.6923992194099614,0.7331029879905935,0.6862672873666545,0.7020249189706266,0.7914146623696742,0.1953385101366113,0.7404713839518287,0.8350757965600515,0.45069882297693753,0.027526504467676238,0.2989159304261313,0.41907883301267246,0.38677087026903034,0.8572026093286645,0.5841627913379882,0.027026891562100808,0.9173091309203241,0.847638178364605,0.48943135711820274,0.31107480088367223,0.22732701108538222,0.672059488192744,0.3759226561524548,0.8327920966962303,0.16186610926448453,0.9708685810164883,0.12050022660912052,0.13549622912578563,0.8792580618377536,0.36650374568331434,0.031821616819580956,0.980358940560977,0.22060927681993026,0.2234962009960103,0.5838094525203487,0.32610924116082085,0.27102927435369595,0.568526255617352,0.4736157329184192,0.8292069403827045,0.07358032390446168,0.9478539520445126,0.35007765469602337,0.3925746940030177,0.7304500963097968,0.1585823965520209,0.34676829431827993,0.6685740663627586,0.16676810077437942,0.8397219518215999,0.884705730586461,0.9331748887193441,0.6263399360717303,0.08470010534811323,0.32397129739220965,0.08696443455567038,0.9074592988449723,0.6127130812174495,0.8074631202500937,0.5556720257723352,0.14726950355026136,0.9028690622161413,0.7001233284808177,0.6272894727185014,0.9004497911256012,0.11009767382526792,0.5306736242823553,0.9906067465444176,0.9290803196071978,0.6372881249805218,0.10082387344425037,0.3859792476291293,0.2223902081658904,0.6072747308271171,0.7327042200869509,0.4831491493073149,0.6335525848046507,0.7920291775493783,0.4823539447455689,0.3892731826349647,0.16627345180234587,0.0836233642345603,0.2642753445231909,0.8568200196201309,0.9592187094172256,0.9513476730042272,0.34149003098606623,0.34842693141183123,0.7633409995542723,0.8641150170910306,0.06788399151642932,0.06684561117199661,0.33096277165544796,0.3340883729111491,0.14790121668094558,0.15812346518144516,0.17753851636892837,0.19700812637327614,0.28011806108670656,0.6443273801108773,0.0768246383185015,0.6073968665408336,0.8521065666385128,0.2629244329444649,0.997522563652606,0.5308166503831973,0.6850186614510657,0.6346637221965654,0.9272162521092335,0.23200303387799592,0.7810096847104999,0.055107574172468365,0.6972141940740457,0.33960349471543005,0.3136722542465725,0.20658676230139805,0.31813741562868203,0.8353893722575346,0.9649406209345579,0.8077418997340611,0.7119343166914255,0.06580752457638761,0.9097358946426235,0.4904502282257853,0.8779421130602693,0.6306877267261978,0.1256462155699375,0.20613116200723458,0.8139089042306338,0.9845927978112081,0.014762861178662323,0.689396781880901,0.0897524737985762,0.5430125237001064,0.07930707416719895,0.44148280806969764,0.0958961155230772,0.341836299420032,0.4507839248950014,0.7955197317183729,0.14189000844515232,0.4962283408773237,0.5312166911155859,0.9351561024854976,0.9653941822989799,0.6723050793081948,0.00790054409749319,0.7721449298452154,0.4327088633247306,0.12332192912254747,0.4152409369221095,0.8197235632519113,0.6796910641614701,0.11726966984609588,0.2017846134506054,0.2369760029268443,0.8686379820657818,0.35810778725348125,0.09536786725613522,0.7490777163884547,0.9627370754200889,0.38888816224155864,0.884603005543749,0.4084343830828949,0.768115259682693,0.7791743422976328,0.5607300542513038,0.6311425185080679,0.7027324623871618,0.9082608855483112,0.2521321305482789,0.5535867627118363,0.8749713121643623,0.5606158464935385,0.31890437265807836,0.00377467019869393,0.26975915326608024,0.9018792906989467,0.987469571597972,0.9774888778939037,0.521411163711969,0.08586127602491067,0.4903089329185639,0.26929323986965503,0.8168384536797726,0.8046363750720066,0.06557348324172463,0.7250883417699724,0.506019824934548,0.5884767631581885,0.27074949221827893,0.6919013287411595,0.4342626183546896,0.04757109421894923,0.6687995800925942,0.23358248684620375,0.04296240337815749,0.0909153491912974,0.7657503562590872,0.7004722093641607,0.6141183249209302,0.7148044834930245,0.9773361450773315,0.2872855907442322]},\"selected\":{\"id\":\"6220\"},\"selection_policy\":{\"id\":\"6482\"}},\"id\":\"6183\",\"type\":\"ColumnDataSource\"},{\"attributes\":{},\"id\":\"6480\",\"type\":\"AllLabels\"},{\"attributes\":{\"fill_alpha\":0.5,\"fill_color\":\"lightgrey\",\"level\":\"overlay\",\"line_alpha\":1.0,\"line_color\":\"black\",\"line_dash\":[4,4],\"line_width\":2,\"syncable\":false,\"xs_units\":\"screen\",\"ys_units\":\"screen\"},\"id\":\"6204\",\"type\":\"PolyAnnotation\"},{\"attributes\":{},\"id\":\"6193\",\"type\":\"LinearScale\"},{\"attributes\":{\"data_source\":{\"id\":\"6213\"},\"glyph\":{\"id\":\"6215\"},\"hover_glyph\":null,\"muted_glyph\":null,\"nonselection_glyph\":{\"id\":\"6216\"},\"view\":{\"id\":\"6218\"}},\"id\":\"6217\",\"type\":\"GlyphRenderer\"},{\"attributes\":{\"source\":{\"id\":\"6183\"}},\"id\":\"6212\",\"type\":\"CDSView\"},{\"attributes\":{\"fill_alpha\":{\"value\":0.1},\"fill_color\":{\"field\":\"color\"},\"line_alpha\":{\"value\":0.1},\"line_color\":{\"field\":\"color\"},\"size\":{\"value\":8},\"x\":{\"field\":\"x\"},\"y\":{\"field\":\"y\"}},\"id\":\"6209\",\"type\":\"Circle\"},{\"attributes\":{\"data_source\":{\"id\":\"6183\"},\"glyph\":{\"id\":\"6208\"},\"hover_glyph\":null,\"muted_glyph\":null,\"nonselection_glyph\":{\"id\":\"6209\"},\"selection_glyph\":{\"id\":\"6210\"},\"view\":{\"id\":\"6212\"}},\"id\":\"6211\",\"type\":\"GlyphRenderer\"},{\"attributes\":{\"text\":\"Select Here\"},\"id\":\"6185\",\"type\":\"Title\"},{\"attributes\":{},\"id\":\"6187\",\"type\":\"DataRange1d\"},{\"attributes\":{\"fill_alpha\":{\"value\":0.4},\"fill_color\":{\"value\":\"firebrick\"},\"line_alpha\":{\"value\":0.4},\"line_color\":{\"value\":\"firebrick\"},\"size\":{\"value\":8},\"x\":{\"field\":\"x\"},\"y\":{\"field\":\"y\"}},\"id\":\"6210\",\"type\":\"Circle\"},{\"attributes\":{},\"id\":\"6189\",\"type\":\"DataRange1d\"},{\"attributes\":{\"formatter\":{\"id\":\"6478\"},\"major_label_policy\":{\"id\":\"6480\"},\"ticker\":{\"id\":\"6200\"}},\"id\":\"6199\",\"type\":\"LinearAxis\"},{\"attributes\":{\"fill_alpha\":{\"value\":0.4},\"fill_color\":{\"field\":\"color\"},\"line_alpha\":{\"value\":0.4},\"line_color\":{\"field\":\"color\"},\"size\":{\"value\":8},\"x\":{\"field\":\"x\"},\"y\":{\"field\":\"y\"}},\"id\":\"6208\",\"type\":\"Circle\"},{\"attributes\":{\"js_property_callbacks\":{\"change:indices\":[{\"id\":\"6219\"}]}},\"id\":\"6220\",\"type\":\"Selection\"},{\"attributes\":{},\"id\":\"6484\",\"type\":\"UnionRenderers\"},{\"attributes\":{},\"id\":\"6191\",\"type\":\"LinearScale\"},{\"attributes\":{\"line_alpha\":0.6,\"line_color\":\"orange\",\"line_width\":5,\"x\":{\"field\":\"xm\"},\"y\":{\"field\":\"ym\"}},\"id\":\"6215\",\"type\":\"Line\"},{\"attributes\":{\"formatter\":{\"id\":\"6475\"},\"major_label_policy\":{\"id\":\"6477\"},\"ticker\":{\"id\":\"6196\"}},\"id\":\"6195\",\"type\":\"LinearAxis\"},{\"attributes\":{\"line_alpha\":0.1,\"line_color\":\"orange\",\"line_width\":5,\"x\":{\"field\":\"xm\"},\"y\":{\"field\":\"ym\"}},\"id\":\"6216\",\"type\":\"Line\"},{\"attributes\":{},\"id\":\"6196\",\"type\":\"BasicTicker\"},{\"attributes\":{\"axis\":{\"id\":\"6195\"},\"ticker\":null},\"id\":\"6198\",\"type\":\"Grid\"},{\"attributes\":{\"source\":{\"id\":\"6213\"}},\"id\":\"6218\",\"type\":\"CDSView\"},{\"attributes\":{},\"id\":\"6475\",\"type\":\"BasicTickFormatter\"},{\"attributes\":{\"axis\":{\"id\":\"6199\"},\"dimension\":1,\"ticker\":null},\"id\":\"6202\",\"type\":\"Grid\"},{\"attributes\":{},\"id\":\"6200\",\"type\":\"BasicTicker\"},{\"attributes\":{\"args\":{\"s1\":{\"id\":\"6183\"},\"s2\":{\"id\":\"6213\"}},\"code\":\"\\n    var inds = s1.selected.indices;\\n    if (inds.length == 0)\\n        return;\\n\\n    var ym = 0\\n    for (var i = 0; i < inds.length; i++) {\\n        ym += s1.data.y[inds[i]]\\n    }\\n    \\n    ym /= inds.length\\n    s2.data.ym = [ym, ym]\\n\\n    // necessary becasue we mutated source.data in-place\\n    s2.change.emit();  \\n\"},\"id\":\"6219\",\"type\":\"CustomJS\"},{\"attributes\":{\"active_multi\":null,\"tools\":[{\"id\":\"6203\"}]},\"id\":\"6205\",\"type\":\"Toolbar\"},{\"attributes\":{},\"id\":\"6477\",\"type\":\"AllLabels\"},{\"attributes\":{},\"id\":\"6478\",\"type\":\"BasicTickFormatter\"},{\"attributes\":{\"overlay\":{\"id\":\"6204\"}},\"id\":\"6203\",\"type\":\"LassoSelectTool\"},{\"attributes\":{},\"id\":\"6482\",\"type\":\"UnionRenderers\"},{\"attributes\":{},\"id\":\"6485\",\"type\":\"Selection\"}],\"root_ids\":[\"6184\"]},\"title\":\"Bokeh Application\",\"version\":\"2.3.0\"}};\n",
       "  var render_items = [{\"docid\":\"752259f1-431b-415f-9791-30e81e799f0a\",\"root_ids\":[\"6184\"],\"roots\":{\"6184\":\"6fe897e2-3593-4566-b222-cbc9909daab2\"}}];\n",
       "  root.Bokeh.embed.embed_items_notebook(docs_json, render_items);\n",
       "\n",
       "  }\n",
       "  if (root.Bokeh !== undefined) {\n",
       "    embed_document(root);\n",
       "  } else {\n",
       "    var attempts = 0;\n",
       "    var timer = setInterval(function(root) {\n",
       "      if (root.Bokeh !== undefined) {\n",
       "        clearInterval(timer);\n",
       "        embed_document(root);\n",
       "      } else {\n",
       "        attempts++;\n",
       "        if (attempts > 100) {\n",
       "          clearInterval(timer);\n",
       "          console.log(\"Bokeh: ERROR: Unable to run BokehJS code because BokehJS library is missing\");\n",
       "        }\n",
       "      }\n",
       "    }, 10, root)\n",
       "  }\n",
       "})(window);"
      ],
      "application/vnd.bokehjs_exec.v0+json": ""
     },
     "metadata": {
      "application/vnd.bokehjs_exec.v0+json": {
       "id": "6184"
      }
     },
     "output_type": "display_data"
    }
   ],
   "source": [
    "from random import random\n",
    "\n",
    "x = [random() for x in range(500)]\n",
    "y = [random() for y in range(500)]\n",
    "color = [\"navy\"] * len(x)\n",
    "\n",
    "s1 = ColumnDataSource(data=dict(x=x, y=y, color=color))\n",
    "p = figure(plot_width=400, plot_height=400, tools=\"lasso_select\", title=\"Select Here\")\n",
    "p.circle('x', 'y', color='color', size=8, alpha=0.4, source=s1, \n",
    "         selection_color=\"firebrick\", selection_alpha=0.4)\n",
    "\n",
    "s2 = ColumnDataSource(data=dict(xm=[0,1],ym=[0.5, 0.5]))\n",
    "p.line(x='xm', y='ym', color=\"orange\", line_width=5, alpha=0.6, source=s2)\n",
    "\n",
    "callback = CustomJS(args=dict(s1=s1, s2=s2), code=\"\"\"\n",
    "    var inds = s1.selected.indices;\n",
    "    if (inds.length == 0)\n",
    "        return;\n",
    "\n",
    "    var ym = 0\n",
    "    for (var i = 0; i < inds.length; i++) {\n",
    "        ym += s1.data.y[inds[i]]\n",
    "    }\n",
    "    \n",
    "    ym /= inds.length\n",
    "    s2.data.ym = [ym, ym]\n",
    "\n",
    "    // necessary becasue we mutated source.data in-place\n",
    "    s2.change.emit();  \n",
    "\"\"\")\n",
    "\n",
    "s1.selected.js_on_change('indices', callback)\n",
    "\n",
    "show(p)"
   ]
  },
  {
   "cell_type": "code",
   "execution_count": 28,
   "metadata": {},
   "outputs": [
    {
     "data": {
      "text/html": [
       "\n",
       "\n",
       "\n",
       "\n",
       "\n",
       "\n",
       "  <div class=\"bk-root\" id=\"3be36ef6-6efa-4549-9027-56156692a479\" data-root-id=\"8989\"></div>\n"
      ]
     },
     "metadata": {},
     "output_type": "display_data"
    },
    {
     "data": {
      "application/javascript": [
       "(function(root) {\n",
       "  function embed_document(root) {\n",
       "    \n",
       "  var docs_json = {\"24750939-7e0e-46c3-a56a-5184807948c7\":{\"defs\":[{\"extends\":null,\"module\":null,\"name\":\"DataModel\",\"overrides\":[],\"properties\":[]}],\"roots\":{\"references\":[{\"attributes\":{\"below\":[{\"id\":\"9000\"}],\"center\":[{\"id\":\"9003\"},{\"id\":\"9007\"}],\"height\":400,\"left\":[{\"id\":\"9004\"}],\"renderers\":[{\"id\":\"9018\"},{\"id\":\"9024\"}],\"title\":{\"id\":\"8990\"},\"toolbar\":{\"id\":\"9011\"},\"width\":400,\"x_range\":{\"id\":\"8992\"},\"x_scale\":{\"id\":\"8996\"},\"y_range\":{\"id\":\"8994\"},\"y_scale\":{\"id\":\"8998\"}},\"id\":\"8989\",\"subtype\":\"Figure\",\"type\":\"Plot\"},{\"attributes\":{},\"id\":\"9005\",\"type\":\"BasicTicker\"},{\"attributes\":{\"source\":{\"id\":\"8988\"}},\"id\":\"9019\",\"type\":\"CDSView\"},{\"attributes\":{\"data_source\":{\"id\":\"9020\"},\"glyph\":{\"id\":\"9022\"},\"hover_glyph\":null,\"muted_glyph\":null,\"nonselection_glyph\":{\"id\":\"9023\"},\"view\":{\"id\":\"9025\"}},\"id\":\"9024\",\"type\":\"GlyphRenderer\"},{\"attributes\":{\"fill_alpha\":{\"value\":0.1},\"fill_color\":{\"field\":\"color\"},\"line_alpha\":{\"value\":0.1},\"line_color\":{\"field\":\"color\"},\"size\":{\"value\":8},\"x\":{\"field\":\"x\"},\"y\":{\"field\":\"y\"}},\"id\":\"9016\",\"type\":\"Circle\"},{\"attributes\":{\"text\":\"Select Here\"},\"id\":\"8990\",\"type\":\"Title\"},{\"attributes\":{\"data_source\":{\"id\":\"8988\"},\"glyph\":{\"id\":\"9015\"},\"hover_glyph\":null,\"muted_glyph\":null,\"nonselection_glyph\":{\"id\":\"9016\"},\"selection_glyph\":{\"id\":\"9017\"},\"view\":{\"id\":\"9019\"}},\"id\":\"9018\",\"type\":\"GlyphRenderer\"},{\"attributes\":{},\"id\":\"9366\",\"type\":\"BasicTickFormatter\"},{\"attributes\":{},\"id\":\"8992\",\"type\":\"DataRange1d\"},{\"attributes\":{\"fill_alpha\":{\"value\":0.4},\"fill_color\":{\"value\":\"firebrick\"},\"line_alpha\":{\"value\":0.4},\"line_color\":{\"value\":\"firebrick\"},\"size\":{\"value\":8},\"x\":{\"field\":\"x\"},\"y\":{\"field\":\"y\"}},\"id\":\"9017\",\"type\":\"Circle\"},{\"attributes\":{},\"id\":\"8994\",\"type\":\"DataRange1d\"},{\"attributes\":{\"data\":{\"color\":[\"green\",\"green\",\"green\",\"green\",\"green\",\"green\",\"green\",\"green\",\"green\",\"green\",\"green\",\"green\",\"green\",\"green\",\"green\",\"green\",\"green\",\"green\",\"green\",\"green\",\"green\",\"green\",\"green\",\"green\",\"green\",\"green\",\"green\",\"green\",\"green\",\"green\",\"green\",\"green\",\"green\",\"green\",\"green\",\"green\",\"green\",\"green\",\"green\",\"green\",\"green\",\"green\",\"green\",\"green\",\"green\",\"green\",\"green\",\"green\",\"green\",\"green\",\"green\",\"green\",\"green\",\"green\",\"green\",\"green\",\"green\",\"green\",\"green\",\"green\",\"green\",\"green\",\"green\",\"green\",\"green\",\"green\",\"green\",\"green\",\"green\",\"green\",\"green\",\"green\",\"green\",\"green\",\"green\",\"green\",\"green\",\"green\",\"green\",\"green\",\"green\",\"green\",\"green\",\"green\",\"green\",\"green\",\"green\",\"green\",\"green\",\"green\",\"green\",\"green\",\"green\",\"green\",\"green\",\"green\",\"green\",\"green\",\"green\",\"green\",\"green\",\"green\",\"green\",\"green\",\"green\",\"green\",\"green\",\"green\",\"green\",\"green\",\"green\",\"green\",\"green\",\"green\",\"green\",\"green\",\"green\",\"green\",\"green\",\"green\",\"green\",\"green\",\"green\",\"green\",\"green\",\"green\",\"green\",\"green\",\"green\",\"green\",\"green\",\"green\",\"green\",\"green\",\"green\",\"green\",\"green\",\"green\",\"green\",\"green\",\"green\",\"green\",\"green\",\"green\",\"green\",\"green\",\"green\",\"green\",\"green\",\"green\",\"green\",\"green\",\"green\",\"green\",\"green\",\"green\",\"green\",\"green\",\"green\",\"green\",\"green\",\"green\",\"green\",\"green\",\"green\",\"green\",\"green\",\"green\",\"green\",\"green\",\"green\",\"green\",\"green\",\"green\",\"green\",\"green\",\"green\",\"green\",\"green\",\"green\",\"green\",\"green\",\"green\",\"green\",\"green\",\"green\",\"green\",\"green\",\"green\",\"green\",\"green\",\"green\",\"green\",\"green\",\"green\",\"green\",\"green\",\"green\",\"green\",\"green\",\"green\",\"green\",\"green\",\"green\",\"green\",\"green\",\"green\",\"green\",\"green\",\"green\",\"green\",\"green\",\"green\",\"green\",\"green\",\"green\",\"green\",\"green\",\"green\",\"green\",\"green\",\"green\",\"green\",\"green\",\"green\",\"green\",\"green\",\"green\",\"green\",\"green\",\"green\",\"green\",\"green\",\"green\",\"green\",\"green\",\"green\",\"green\",\"green\",\"green\",\"green\",\"green\",\"green\",\"green\",\"green\",\"green\",\"green\",\"green\",\"green\",\"green\",\"green\",\"green\",\"green\",\"green\",\"green\",\"green\",\"green\",\"green\",\"green\",\"green\",\"green\",\"green\",\"green\",\"green\",\"green\",\"green\",\"green\",\"green\",\"green\",\"green\",\"green\",\"green\",\"green\",\"green\",\"green\",\"green\",\"green\",\"green\",\"green\",\"green\",\"green\",\"green\",\"green\",\"green\",\"green\",\"green\",\"green\",\"green\",\"green\",\"green\",\"green\",\"green\",\"green\",\"green\",\"green\",\"green\",\"green\",\"green\",\"green\",\"green\",\"green\",\"green\",\"green\",\"green\",\"green\",\"green\",\"green\",\"green\",\"green\",\"green\",\"green\",\"green\",\"green\",\"green\",\"green\",\"green\",\"green\",\"green\",\"green\",\"green\",\"green\",\"green\",\"green\",\"green\",\"green\",\"green\",\"green\",\"green\",\"green\",\"green\",\"green\",\"green\",\"green\",\"green\",\"green\",\"green\",\"green\",\"green\",\"green\",\"green\",\"green\",\"green\",\"green\",\"green\",\"green\",\"green\",\"green\",\"green\",\"green\",\"green\",\"green\",\"green\",\"green\",\"green\",\"green\",\"green\",\"green\",\"green\",\"green\",\"green\",\"green\",\"green\",\"green\",\"green\",\"green\",\"green\",\"green\",\"green\",\"green\",\"green\",\"green\",\"green\",\"green\",\"green\",\"green\",\"green\",\"green\",\"green\",\"green\",\"green\",\"green\",\"green\",\"green\",\"green\",\"green\",\"green\",\"green\",\"green\",\"green\",\"green\",\"green\",\"green\",\"green\",\"green\",\"green\",\"green\",\"green\",\"green\",\"green\",\"green\",\"green\",\"green\",\"green\",\"green\",\"green\",\"green\",\"green\",\"green\",\"green\",\"green\",\"green\",\"green\",\"green\",\"green\",\"green\",\"green\",\"green\",\"green\",\"green\",\"green\",\"green\",\"green\",\"green\",\"green\",\"green\",\"green\",\"green\",\"green\",\"green\",\"green\",\"green\",\"green\",\"green\",\"green\",\"green\",\"green\",\"green\",\"green\",\"green\",\"green\",\"green\",\"green\",\"green\",\"green\",\"green\",\"green\",\"green\",\"green\",\"green\",\"green\",\"green\",\"green\",\"green\",\"green\",\"green\",\"green\",\"green\",\"green\",\"green\",\"green\",\"green\",\"green\",\"green\",\"green\",\"green\",\"green\",\"green\",\"green\",\"green\",\"green\",\"green\",\"green\",\"green\",\"green\",\"green\",\"green\",\"green\",\"green\",\"green\",\"green\",\"green\",\"green\",\"green\",\"green\",\"green\",\"green\",\"green\",\"green\",\"green\",\"green\",\"green\",\"green\",\"green\",\"green\",\"green\",\"green\",\"green\",\"green\",\"green\",\"green\"],\"x\":[0.9670191635248245,0.5124741289389292,0.08176294850101407,0.6550297383061773,0.7321642759775288,0.03413930347274119,0.1822567282105314,0.02585645609539078,0.329337621283332,0.38214335272842026,0.1599928638109921,0.7141612947955448,0.361517281264232,0.5262832122587355,0.7230679943115546,0.07291777431678292,0.47911765313942123,0.15594722622650548,0.7163345840194658,0.11461263503436447,0.3944519142779872,0.55523705064673,0.2588809640034082,0.23722931382212142,0.2961338461225399,0.20168520271668589,0.8556127599268636,0.024861024106545004,0.011021117246208134,0.8487014955664787,0.8816146566231586,0.42687026731042743,0.4916997857085045,0.26047668952336966,0.7171476889886542,0.880006442942152,0.18574751004151235,0.6860914024811021,0.5413234183096165,0.14236562681339937,0.8690946695612041,0.5068918053210094,0.5865679651264292,0.01190898907008342,0.21569494717927606,0.5912453718199455,0.8726589163899873,0.2996423286045705,0.9003530433239738,0.6973256984248428,0.1826244900231273,0.12367630865646628,0.11066871980814341,0.5799805970910548,0.44216307366086605,0.33616630483950394,0.6988076495344882,0.05173144862725754,0.9913477709666572,0.8401493234266866,0.8391532548271693,0.9478767873464998,0.22298918659725986,0.20985205834288123,0.5065371432897969,0.7637596921644045,0.5563114736097973,0.728888348569127,0.009576024269414174,0.2675591509339377,0.3313354319286962,0.7759673839123206,0.48729041365464276,0.9849095867233956,0.9641865056821597,0.06885141918991866,0.07303485219137618,0.5156750601864942,0.0679356909327381,0.970694243320496,0.3861175161882928,0.46032734225208727,0.6875839142889808,0.16754667402346957,0.4623201255560282,0.5041891703295861,0.21212881556076668,0.095817599269305,0.5234510247007647,0.12378107177339004,0.9752751214454558,0.3768712568986907,0.06611952137416321,0.31079199214699504,0.6722636222480781,0.8429025545527413,0.6532820724234395,0.5719122677647323,0.8825364437675848,0.832056688180628,0.4790759176425594,0.7449632700030046,0.35495720599033875,0.9296291939412734,0.25311514959936077,0.1908892521860278,0.44001481144764076,0.29937339692654075,0.8500944898874124,0.8194331084978681,0.07132730843069257,0.3340077533425966,0.6228969276945535,0.7616550550137086,0.5897893318154835,0.39376850183637746,0.5344992273674767,0.563479421412194,0.6383450373587193,0.5189296538480926,0.29727102842342745,0.33804722294894984,0.8080698958815563,0.964156258866024,0.7394925818563977,0.28289269843681075,0.4777135389990669,0.8481330257032043,0.588360099425873,0.3763735047332615,0.548699830037187,0.09363200101953029,0.39510027429835104,0.4974061049740621,0.20902672851386717,0.039983856188468336,0.24485679639015012,0.3383753959953255,0.5455312540716395,0.008330325076305267,0.6614469378305421,0.11903054951984626,0.27626855501047065,0.10758787121937874,0.8510667026494783,0.7177911557620894,0.7510903615101171,0.2929248552067958,0.1970910239092475,0.4941797712297902,0.025392120363082915,0.5644596662383397,0.565463501785951,0.2979331455433609,0.32718764391114197,0.22829596092474336,0.7133824925427121,0.37019671885533967,0.6723823222014723,0.9213520182455637,0.25796990663752695,0.45799427693069417,0.17567074393283744,0.7536288689568227,0.16292765050449098,0.8161232174808515,0.36406663411519635,0.08722138538203206,0.9585139264500226,0.6364158245997988,0.2677135802577122,0.5114180716720871,0.5550170993085581,0.2269024270025728,0.22695926255569532,0.04536568382341388,0.45219069429053294,0.6322587065753066,0.41401195600783447,0.044728731119863974,0.30188951011961673,0.6848406809411323,0.9510347283578184,0.029646019578117744,0.09779586783002991,0.12553073360734723,0.1855801600018986,0.952935559125287,0.7002619703446442,0.030687518654083368,0.8405428103886677,0.9223648143101097,0.01513025766046261,0.671478793608402,0.9896129472544012,0.08178586412265976,0.6035315944391703,0.03037501011015853,0.1853718846720913,0.7574409924228416,0.6026903056510626,0.7055552691185665,0.7601315034886905,0.7798596958570249,0.609175345899691,0.04170506253279005,0.3263819777874214,0.7286026263670835,0.7803145171651351,0.9597787495441162,0.862785887522686,0.7412050330968111,0.03685311526261903,0.9727964475793901,0.6473977998998709,0.4903016205023817,0.5529899925536924,0.5569030318407523,0.6046765642197095,0.9881502963962029,0.7665667970317376,0.25196109420855595,0.11687203533240309,0.968975326042416,0.03169626288350236,0.1945850737306628,0.11270133845079999,0.005025391362628917,0.9276828128265606,0.46377941818566026,0.6406671224483725,0.17330987482605875,0.2526533331743519,0.5966946837557545,0.23247377454250628,0.9276414773775252,0.7536446124741362,0.996377774440768,0.5570459589935381,0.5216448701221372,0.28843667642363235,0.9921688617841419,0.9783705127523717,0.060645772657930364,0.16547157805603796,0.5435849229260827,0.1893451135682117,0.5438165744324116,0.3958535141376005,0.8525289221246377,0.3530370628689615,0.7043273485043158,0.7320026629429371,0.592692950183969,0.43941081280642724,0.5750245950346704,0.06421727943128941,0.6887338333780196,0.14430501522765704,0.16838740022721033,0.6635954795728634,0.24766799865300582,0.3470964611502084,0.25950323928930763,0.31409975244178046,0.7164411651616202,0.8472887553616536,0.7153093040576184,0.6190472278190193,0.10350478259293316,0.23636862296765815,0.4445371855223055,0.7493181188708239,0.7026325530636791,0.29766299250789363,0.4871930008482285,0.7547165326743464,0.16976684583551804,0.6972552782922702,0.8988087372710656,0.9138669410983434,0.8914817454826773,0.2363764387032702,0.39394385251295017,0.45394399533575047,0.6412610843912913,0.6634512725541875,0.4257174993364199,0.022043924630744782,0.30139358832456886,0.46931373896400375,0.7611102062005066,0.5982902111608662,0.5021366137794868,0.8395786245322026,0.7018358173426129,0.8466158283084948,0.6050350650327131,0.7103793831730161,0.5123046670242004,0.9671151145411219,0.7671994145930447,0.7150705945141017,0.9867215135770384,0.22442367021567755,0.8829122074310053,0.5554179513545217,0.1745743748482811,0.6443645262744077,0.42133791718517566,0.5646278750299649,0.8092851306757712,0.1912853441228859,0.05932046159459936,0.5100624171027021,0.672861684836823,0.3176797377657967,0.9107755856897811,0.9353583907117635,0.7024680533559405,0.19139292411338737,0.31121732147859926,0.7923834350188823,0.9681548121057538,0.6542958802607077,0.2799429916182077,0.9178956936164088,0.8222491585121011,0.02224521890603104,0.6944595386788001,0.26857958512334357,0.8475966914255468,0.11906496045108539,0.29987095212132187,0.601977302323713,0.5939105998727005,0.45008593090539406,0.8560237226376464,0.7169087779663796,0.30356949396019484,0.47875496328540823,0.829194591921387,0.5032329522066338,0.7570555645147491,0.5413338982819044,0.16995791526465376,0.6319040506851719,0.11122997935211798,0.24480154327571213,0.9521015143091555,0.5228430906729644,0.982335327588741,0.8709915481026658,0.8397126497577917,0.3263659424971539,0.8752317177670808,0.2412133894895876,0.7957566326142765,0.6639233297318307,0.31849400319582755,0.22076711312660335,0.38438853133129547,0.21732144265302367,0.22849051710975632,0.28743091982265356,0.23279998533949242,0.7295588348664044,0.8317943738534797,0.7555990584547904,0.8118263498912424,0.229357045204026,0.954398015633887,0.18004868531877094,0.5418937253091372,0.9806955583274443,0.1137067255847325,0.8595043927985407,0.38586758001488575,0.3963469324319038,0.3711874427407882,0.1695817279227262,0.9285949755828417,0.2638510978040426,0.7020322788275002,0.19284542272327365,0.26571806433537304,0.7220135748886888,0.7944115615551713,0.6784027311442871,0.39333288444726466,0.259590044964885,0.9848781812582073,0.652777807393771,0.6636423049874345,0.1342390779427397,0.2585075475543773,0.6984322178986865,0.8586490110350329,0.6212232689916146,0.5636534201449934,0.8991720127589551,0.7761428271703888,0.23004888116639322,0.14904974949716343,0.25859806739713764,0.6333237495128857,0.8003744116945724,0.3681366247410176,0.96039868774671,0.8361048309829971,0.4632171167680593,0.7982201190244668,0.4935484214589214,0.7015297354207174,0.867633829283008,0.7833690141799691,0.9677003691958728,0.6724272173295389,0.594758549171735,0.043565429118882504,0.0055808832123875884,0.3620172488922211,0.11664090608740718,0.7940634433277828,0.08897453826228696,0.6727291965057502,0.49819757286028454,0.23475803353946523,0.004875615684325707,0.09505650281791067,0.4375418242439819,0.12344175410600977,0.258997360802138,0.6048436859813315,0.3086011393445869,0.1612106999819275,0.03431953707178359,0.06344320161532113,0.20093886382814252,0.5802702456832279,0.2589295713110745,0.6172326222459622,0.08018202751797754,0.8576104483482292,0.44486824050149476,0.8905289334717401,0.21474615878116265,0.43709316847737967,0.5979571003077084,0.7006185443172667,0.24595030493492165,0.13083639765702437,0.06459831950168071,0.12320052806257775,0.2933833393323818,0.0761183126722409,0.9282013635048558,0.0940799214065613,0.5609716606624443,0.48530778975044175,0.4230016845621869,0.5866586653447077,0.20883851044635204,0.536587379622391,0.5745736907676237,0.7063769755956619,0.7796674996921344,0.34491614817559024,0.8218521387859967,0.6071254916340967,0.21755712067928978,0.5741585059695361,0.05937666546253306,0.033857106879835674,0.06642263584917052,0.9088489687796593,0.22559632839473753,0.19954221675664574,0.058023218838412216,0.5945583981634661,0.7448753994916428,0.22767887663881314,0.9625912381619307,0.8224016891775587,0.08484447598154421,0.25317128032559577,0.27607792859504354,0.23521418479030864,0.8025160149480642,0.4290469438451464,0.10465934081585415,0.8796291129768361,0.36150431359358537,0.9578844907795784,0.30911936064567813,0.5703622365342751,0.31821810499511827,0.9647695433519592,0.7723488662761094,0.3626692127672956],\"y\":[0.20813230209179956,0.5798601197875048,0.7813691399145078,0.8104608634938536,0.7389189584879687,0.5866280642845254,0.7465403887298846,0.5391230027892916,0.5505239024647083,0.28345668839548765,0.14698998279706776,0.8652753916526216,0.39155007946989573,0.8329547584642358,0.8353797186599048,0.8859901810590227,0.7939415397242535,0.34194987626740503,0.5276780027374877,0.06497905140170357,0.022195850816056906,0.29859614387036526,0.9840548154205109,0.40377814914576327,0.9394610336679187,0.7699933364813764,0.8003753011945699,0.25214261927706805,0.6361764423399008,0.3869595463965626,0.4178188417790717,0.08810644812996393,0.6154283180989285,0.9792695283430025,0.5447022781019654,0.12803454927225133,0.5346393928446388,0.6260599484438044,0.2083812274146699,0.768137137439096,0.3614274387991607,0.9034413525947347,0.8738532895117387,0.23164932037616837,0.2578766169581205,0.6540780815792218,0.6883353343659758,0.34130328468155435,0.6354613824959858,0.6421765276409064,0.8315902025700552,0.8529491320992847,0.3517621318612544,0.0902483983975001,0.0953213396911693,0.023804620899129048,0.3944928041393244,0.5510005588031394,0.17822478561499122,0.4913611316041049,0.8673202614631429,0.3296987982682217,0.9479908456663015,0.5334500783910803,0.7247491802808006,0.9861692509772229,0.8828718452563222,0.4835160751698311,0.1758127357161342,0.6389875612650942,0.21305112391731562,0.3708388434339758,0.833069521624056,0.18584850021247168,0.6418243507324245,0.08554126545283569,0.6549188552714021,0.7714640476577538,0.2507411860469867,0.861727143737803,0.8607149625607929,0.5625035461007996,0.3437920642118,0.6866970800289722,0.8739628977506517,0.4312373646183493,0.5371279764605235,0.43384833629677344,0.11228186996609324,0.12300941869911763,0.690124153290329,0.9066366127139516,0.8571840297690704,0.9201006640163365,0.7646246095031095,0.800938731688359,0.0591048379888055,0.526034445485271,0.2378278718975162,0.8013690771231617,0.2925437217092165,0.818471883056266,0.3083819544935994,0.5873368909351586,0.37717096972149844,0.3994332559182324,0.3671182234885816,0.5480325831640094,0.451002292808905,0.7681104591496583,0.5163554940985253,0.5103057081631581,0.008414447515199375,0.6207203627487414,0.18811074577972475,0.363738350062231,0.6984794734982067,0.3226808660942573,0.24045047916242213,0.7929627426942103,0.18134792358397012,0.43619720322932953,0.1898436259762195,0.11487011326099816,0.0630556666686668,0.734099676397657,0.7621393517414643,0.21099939225161113,0.7969753666500139,0.35982723852431886,0.32635447109324345,0.16949049781855852,0.886509626583587,0.06407453971295451,0.16622365062653632,0.8798674792080932,0.7125692157243647,0.07428857089892837,0.05509072316186947,0.7585454794452816,0.6460410190578403,0.21623403799159324,0.7621246206721053,0.40447860906024646,0.33492771245243547,0.04026733634082125,0.16200282392869103,0.9768198514798285,0.5108638205669935,0.13933102117045992,0.4555244949155718,0.09471908599018397,0.2253668621103948,0.5777148461192844,0.03724786370754407,0.0645267862380311,0.5951364112070588,0.11728340341128551,0.5402001270118003,0.5046517887904423,0.04299688711725891,0.16478312188089217,0.6595106462920244,0.4577870362459975,0.42874040944853153,0.8682230664032887,0.9813198526664211,0.4619068845530565,0.7166799037193317,0.08902964449185569,0.6689728902004028,0.7428152863464388,0.3690443183399049,0.81322463802158,0.3688510825119492,0.13196050144369442,0.7689794352476402,0.10167679385654071,0.06976760963102546,0.876772803145022,0.342552758111335,0.4351314883550136,0.18334122897384475,0.5074265053386282,0.7453259528521856,0.2956434230535696,0.8422698053597789,0.4638375313860711,0.10495164170465299,0.6055117879212663,0.4220943924437317,0.31078752493499584,0.46769346205969353,0.5121088360724578,0.8148905123229352,0.24034950771471075,0.7371992280778347,0.4119631372234944,0.9657035934154871,0.49588194455716395,0.49709384682936586,0.49364909402236146,0.4425451284985069,0.1865126417555546,0.20413478281108666,0.645399848478045,0.20891621544925643,0.6995935586575825,0.8812135999829827,0.6541620644899004,0.526390674056674,0.1841840736822915,0.43648227849793375,0.4111540340046045,0.6061398074629397,0.9833334597766311,0.45906452046938895,0.515820161417584,0.33365066528105547,0.7899494350413754,0.8448238174698232,0.07140034195602929,0.43636716322667846,0.5303326722173706,0.023040474681067735,0.6110291743348902,0.5451373066696792,0.10726758421650806,0.22018894575642967,0.5378714014379609,0.5888817430490828,0.2704017078718183,0.7441258990175821,0.07240799365953965,0.33101943870624495,0.010720111513350616,0.30706403501337864,0.09136815553711242,0.48855235419328225,0.39159471622176767,0.005358828407867722,0.5009885799382162,0.9583306734762299,0.8528655110154781,0.392304174234672,0.15726848584669673,0.48997989257558205,0.12163486524988976,0.02269730691807792,0.20857500483330937,0.4951419616964108,0.580172697316655,0.5398769152356654,0.5983852072902952,0.15438292107392337,0.6559749717037188,0.08830434202488457,0.5047446340013633,0.007890748312322948,0.00684573110940867,0.10621168086163812,0.8640884154278211,0.5000160105979644,0.6531912648895193,0.8287889199126215,0.9216224310332042,0.7412078351670264,0.3831279799572995,0.23196425102484552,0.5768410595900714,0.8458468092765987,0.555732087865067,0.9295746088854774,0.05394505591577592,0.7292035303973076,0.20752612315867425,0.0979899339947431,0.2624136612906437,0.5804579736830839,0.1314317221671628,0.8940034810436507,0.4478950396813691,0.3451340588180629,0.9306872998710923,0.04281842943533187,0.7219494226841165,0.2432427897494066,0.9241256758610129,0.38197686863947267,0.4798072046389581,0.6257016141928756,0.6736474192866232,0.2805359772695524,0.5434230342642946,0.47667200036235924,0.26356806532418164,0.9683412441135988,0.23307601222405605,0.019364634799469593,0.3576328429831662,0.1317516094164608,0.8196023106198216,0.8021346829682175,0.10532120900682318,0.7018474272461896,0.9384992307045299,0.7434862297051524,0.12088641395220245,0.5542272776466474,0.4978615030754875,0.19884463853219791,0.4475844796806763,0.509196243778828,0.3063505392870284,0.13459357389916948,0.6554379517120734,0.089642455647301,0.5464666570737474,0.12851745993651842,0.9868150357744357,0.978517086700342,0.9556628241256392,0.9770686916993072,0.9472258960417264,0.6386599269750268,0.9737323442081016,0.9521471983736771,0.8283942849819795,0.6515013254828433,0.7671716390092738,0.196326675604665,0.43254388785010367,0.0544408257401251,0.3981489081596864,0.7617826177241022,0.6902583468745036,0.02084395498634395,0.7138131005437729,0.13666955194444041,0.39131188952712836,0.0727255261102373,0.9610311509965537,0.003711213210437214,0.678148828024899,0.3556224532167729,0.850254658439021,0.8530343113541559,0.24815372330843521,0.2715355247530349,0.14189852151536952,0.7054805661535046,0.927928775998697,0.01141921242971855,0.8456225965217417,0.21510401872020024,0.6453203724849185,0.5609075983369801,0.6622783434926922,0.3050169553407819,0.26689988623802796,0.543193022128224,0.7858159363160664,0.5947389640634613,0.33224837348570513,0.7626359092360971,0.010027348212449216,0.3463884612752679,0.842284454982102,0.6069404929768294,0.3369223034598261,0.39263595022216724,0.8568499332986427,0.04207880485828808,0.769098148621314,0.870242491223912,0.4343170139525443,0.8804969177510816,0.7357973954075224,0.3519006922915461,0.15813527643077918,0.021905817798498983,0.6944157833953507,0.07701902733669252,0.13899054695972912,0.026909928631970836,0.9032039065133604,0.6562032397990992,0.3245529649708093,0.7595137062260829,0.6973763118120507,0.2520707379201341,0.4844247398425022,0.4922560584668404,0.8191221648899368,0.051050055873620215,0.3504734221046676,0.8512941111822837,0.5003927873454547,0.07152891827252561,0.42917570075070155,0.5102435964875444,0.7032262267546749,0.905223856616791,0.43912120450280634,0.7120709348757038,0.0879341973916441,0.4635723895789051,0.4629268697851965,0.7666336277156884,0.756587145652721,0.8812768646550972,0.714828742361614,0.8459429791886168,0.8824505838870413,0.6818336678275618,0.4267296830788895,0.3353712998035062,0.9447167492542342,0.10734151129332525,0.08582636310378333,0.11644002920616003,0.2880025059631811,0.3349471605998696,0.4170433123083215,0.8719495861549942,0.565669163791698,0.8081253930705132,0.8145347354625869,0.29905304867289184,0.4276288624853182,0.8342681528044473,0.36823098973402524,0.4673420034127941,0.8482894538339555,0.7167220927915207,0.8051067479417288,0.1603581762241547,0.17512015054171792,0.33504171218169665,0.05361256572287343,0.7967223709041779,0.9827618457228078,0.31331606967223147,0.3507893535458798,0.6673108920394161,0.8941980952938522,0.493193818799608,0.27648272439822874,0.9213699665691368,0.7373921520214326,0.5127464931893928,0.4980320961283985,0.8125028464344676,0.3683093818926806,0.7540212983646427,0.8950939997434124,0.18822118053719106,0.19064394089862524,0.297389497233964,0.9598413809287947,0.48094573939405616,0.37482411721117204,0.7045176586412523,0.15832249656732167,0.17372413710667822,0.43693780248265757,0.5165783053422109,0.9336873650391596,0.646358613470497,0.30300962161698897,0.03000969607063375,0.8880079314283587,0.07774780461202802,0.8629668812406717,0.24997691922554743,0.49259052630946754,0.4334327912540452,0.7571992809210227,0.8097910208882624,0.27868563880562847,0.3392029943585452,0.30282017989983834,0.7308739653310043,0.936881716411728,0.07673771447397437,0.5552636649740013,0.6181793678100425,0.03455318276374686,0.8914810874465108,0.22667544961904162,0.269785133731703,0.06612794091756391,0.8087503836560835,0.6433184165528193,0.7588023697900984,0.5303806903216511,0.3814254665415926,0.5458911412394273,0.8172124837076342,0.9912072989520739]},\"selected\":{\"id\":\"9027\"},\"selection_policy\":{\"id\":\"9373\"}},\"id\":\"8988\",\"type\":\"ColumnDataSource\"},{\"attributes\":{\"fill_alpha\":{\"value\":0.4},\"fill_color\":{\"field\":\"color\"},\"line_alpha\":{\"value\":0.4},\"line_color\":{\"field\":\"color\"},\"size\":{\"value\":8},\"x\":{\"field\":\"x\"},\"y\":{\"field\":\"y\"}},\"id\":\"9015\",\"type\":\"Circle\"},{\"attributes\":{},\"id\":\"9368\",\"type\":\"AllLabels\"},{\"attributes\":{},\"id\":\"9369\",\"type\":\"BasicTickFormatter\"},{\"attributes\":{},\"id\":\"8996\",\"type\":\"LinearScale\"},{\"attributes\":{\"js_property_callbacks\":{\"change:indices\":[{\"id\":\"9026\"}]}},\"id\":\"9027\",\"type\":\"Selection\"},{\"attributes\":{\"line_alpha\":0.6,\"line_color\":\"orange\",\"line_width\":5,\"x\":{\"field\":\"xm\"},\"y\":{\"field\":\"ym\"}},\"id\":\"9022\",\"type\":\"Line\"},{\"attributes\":{\"axis\":{\"id\":\"9004\"},\"dimension\":1,\"ticker\":null},\"id\":\"9007\",\"type\":\"Grid\"},{\"attributes\":{\"line_alpha\":0.1,\"line_color\":\"orange\",\"line_width\":5,\"x\":{\"field\":\"xm\"},\"y\":{\"field\":\"ym\"}},\"id\":\"9023\",\"type\":\"Line\"},{\"attributes\":{},\"id\":\"9371\",\"type\":\"AllLabels\"},{\"attributes\":{\"args\":{\"s1\":{\"id\":\"8988\"},\"s2\":{\"id\":\"9020\"}},\"code\":\"\\n    var inds = s1.selected.indices;\\n    if (inds.length == 0)\\n        return;\\n\\n    var xm = 0\\n    for (var i = 0; i < inds.length; i++) {\\n        xm += s1.data.x[inds[i]]\\n    }\\n    \\n    xm /= inds.length\\n    s2.data.xm = [xm, xm]\\n\\n    // necessary because we mutated source.data in-place\\n    s2.change.emit();  \\n\"},\"id\":\"9026\",\"type\":\"CustomJS\"},{\"attributes\":{},\"id\":\"9373\",\"type\":\"UnionRenderers\"},{\"attributes\":{\"formatter\":{\"id\":\"9369\"},\"major_label_policy\":{\"id\":\"9371\"},\"ticker\":{\"id\":\"9005\"}},\"id\":\"9004\",\"type\":\"LinearAxis\"},{\"attributes\":{\"source\":{\"id\":\"9020\"}},\"id\":\"9025\",\"type\":\"CDSView\"},{\"attributes\":{\"callback\":null},\"id\":\"9009\",\"type\":\"TapTool\"},{\"attributes\":{\"overlay\":{\"id\":\"9010\"}},\"id\":\"9008\",\"type\":\"LassoSelectTool\"},{\"attributes\":{},\"id\":\"9375\",\"type\":\"UnionRenderers\"},{\"attributes\":{},\"id\":\"9376\",\"type\":\"Selection\"},{\"attributes\":{\"data\":{\"xm\":[0.5,0.5],\"ym\":[0,1]},\"selected\":{\"id\":\"9376\"},\"selection_policy\":{\"id\":\"9375\"}},\"id\":\"9020\",\"type\":\"ColumnDataSource\"},{\"attributes\":{},\"id\":\"8998\",\"type\":\"LinearScale\"},{\"attributes\":{\"axis\":{\"id\":\"9000\"},\"ticker\":null},\"id\":\"9003\",\"type\":\"Grid\"},{\"attributes\":{\"formatter\":{\"id\":\"9366\"},\"major_label_policy\":{\"id\":\"9368\"},\"ticker\":{\"id\":\"9001\"}},\"id\":\"9000\",\"type\":\"LinearAxis\"},{\"attributes\":{},\"id\":\"9001\",\"type\":\"BasicTicker\"},{\"attributes\":{\"fill_alpha\":0.5,\"fill_color\":\"lightgrey\",\"level\":\"overlay\",\"line_alpha\":1.0,\"line_color\":\"black\",\"line_dash\":[4,4],\"line_width\":2,\"syncable\":false,\"xs_units\":\"screen\",\"ys_units\":\"screen\"},\"id\":\"9010\",\"type\":\"PolyAnnotation\"},{\"attributes\":{\"active_multi\":null,\"tools\":[{\"id\":\"9008\"},{\"id\":\"9009\"}]},\"id\":\"9011\",\"type\":\"Toolbar\"}],\"root_ids\":[\"8989\"]},\"title\":\"Bokeh Application\",\"version\":\"2.3.0\"}};\n",
       "  var render_items = [{\"docid\":\"24750939-7e0e-46c3-a56a-5184807948c7\",\"root_ids\":[\"8989\"],\"roots\":{\"8989\":\"3be36ef6-6efa-4549-9027-56156692a479\"}}];\n",
       "  root.Bokeh.embed.embed_items_notebook(docs_json, render_items);\n",
       "\n",
       "  }\n",
       "  if (root.Bokeh !== undefined) {\n",
       "    embed_document(root);\n",
       "  } else {\n",
       "    var attempts = 0;\n",
       "    var timer = setInterval(function(root) {\n",
       "      if (root.Bokeh !== undefined) {\n",
       "        clearInterval(timer);\n",
       "        embed_document(root);\n",
       "      } else {\n",
       "        attempts++;\n",
       "        if (attempts > 100) {\n",
       "          clearInterval(timer);\n",
       "          console.log(\"Bokeh: ERROR: Unable to run BokehJS code because BokehJS library is missing\");\n",
       "        }\n",
       "      }\n",
       "    }, 10, root)\n",
       "  }\n",
       "})(window);"
      ],
      "application/vnd.bokehjs_exec.v0+json": ""
     },
     "metadata": {
      "application/vnd.bokehjs_exec.v0+json": {
       "id": "8989"
      }
     },
     "output_type": "display_data"
    }
   ],
   "source": [
    "# Exercise: Experiment with selection callbacks\n",
    "from random import random\n",
    "\n",
    "x = [random() for x in range(500)]\n",
    "y = [random() for y in range(500)]\n",
    "color = [\"green\"] * len(x)\n",
    "\n",
    "s1 = ColumnDataSource(data=dict(x=x, y=y, color=color))\n",
    "p = figure(plot_width=400, plot_height=400, tools=\"lasso_select,tap\", title=\"Select Here\")\n",
    "p.circle('x', 'y', color='color', size=8, alpha=0.4, source=s1, \n",
    "         selection_color=\"firebrick\", selection_alpha=0.4)\n",
    "\n",
    "s2 = ColumnDataSource(data=dict(xm=[.5,.5],ym=[0, 1]))\n",
    "p.line(x='xm', y='ym', color=\"orange\", line_width=5, alpha=0.6, source=s2)\n",
    "\n",
    "callback = CustomJS(args=dict(s1=s1, s2=s2), code=\"\"\"\n",
    "    var inds = s1.selected.indices;\n",
    "    if (inds.length == 0)\n",
    "        return;\n",
    "\n",
    "    var xm = 0\n",
    "    for (var i = 0; i < inds.length; i++) {\n",
    "        xm += s1.data.x[inds[i]]\n",
    "    }\n",
    "    \n",
    "    xm /= inds.length\n",
    "    s2.data.xm = [xm, xm]\n",
    "\n",
    "    // necessary because we mutated source.data in-place\n",
    "    s2.change.emit();  \n",
    "\"\"\")\n",
    "\n",
    "s1.selected.js_on_change('indices', callback)\n",
    "\n",
    "show(p)\n"
   ]
  },
  {
   "cell_type": "markdown",
   "metadata": {},
   "source": [
    "## CustomJS for UI Events\n",
    "\n",
    "Bokeh also has a general events system\n",
    "\n",
    "All of the available UI events, and their properties, are listed in the Reference Guide section for [bokeh.events](https://bokeh.pydata.org/en/latest/docs/reference/events.html)"
   ]
  },
  {
   "cell_type": "code",
   "execution_count": 29,
   "metadata": {},
   "outputs": [
    {
     "data": {
      "text/html": [
       "\n",
       "\n",
       "\n",
       "\n",
       "\n",
       "\n",
       "  <div class=\"bk-root\" id=\"264f5660-8843-4c8a-87a5-5f829f195831\" data-root-id=\"9466\"></div>\n"
      ]
     },
     "metadata": {},
     "output_type": "display_data"
    },
    {
     "data": {
      "application/javascript": [
       "(function(root) {\n",
       "  function embed_document(root) {\n",
       "    \n",
       "  var docs_json = {\"af7f32e2-06ac-40eb-a0c0-bf13c065d102\":{\"defs\":[{\"extends\":null,\"module\":null,\"name\":\"DataModel\",\"overrides\":[],\"properties\":[]}],\"roots\":{\"references\":[{\"attributes\":{\"children\":[{\"id\":\"9464\"},{\"id\":\"9465\"}]},\"id\":\"9466\",\"type\":\"Column\"},{\"attributes\":{},\"id\":\"9828\",\"type\":\"Selection\"},{\"attributes\":{},\"id\":\"9820\",\"type\":\"BasicTickFormatter\"},{\"attributes\":{\"data\":{\"x\":{\"__ndarray__\":\"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\",\"dtype\":\"float64\",\"order\":\"little\",\"shape\":[2000]},\"y\":{\"__ndarray__\":\"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\",\"dtype\":\"float64\",\"order\":\"little\",\"shape\":[2000]}},\"selected\":{\"id\":\"9828\"},\"selection_policy\":{\"id\":\"9827\"}},\"id\":\"9458\",\"type\":\"ColumnDataSource\"},{\"attributes\":{},\"id\":\"9444\",\"type\":\"LinearScale\"},{\"attributes\":{},\"id\":\"9822\",\"type\":\"AllLabels\"},{\"attributes\":{},\"id\":\"9823\",\"type\":\"BasicTickFormatter\"},{\"attributes\":{\"axis\":{\"id\":\"9450\"},\"dimension\":1,\"ticker\":null},\"id\":\"9453\",\"type\":\"Grid\"},{\"attributes\":{},\"id\":\"9819\",\"type\":\"Title\"},{\"attributes\":{},\"id\":\"9825\",\"type\":\"AllLabels\"},{\"attributes\":{},\"id\":\"9447\",\"type\":\"BasicTicker\"},{\"attributes\":{\"fill_alpha\":{\"value\":0.6},\"fill_color\":{\"value\":\"#1f77b4\"},\"line_color\":{\"value\":null},\"radius\":{\"value\":1},\"x\":{\"field\":\"x\"},\"y\":{\"field\":\"y\"}},\"id\":\"9459\",\"type\":\"Circle\"},{\"attributes\":{\"width\":400},\"id\":\"9463\",\"type\":\"Div\"},{\"attributes\":{\"data_source\":{\"id\":\"9458\"},\"glyph\":{\"id\":\"9459\"},\"hover_glyph\":null,\"muted_glyph\":null,\"nonselection_glyph\":{\"id\":\"9460\"},\"view\":{\"id\":\"9462\"}},\"id\":\"9461\",\"type\":\"GlyphRenderer\"},{\"attributes\":{\"overlay\":{\"id\":\"9455\"}},\"id\":\"9454\",\"type\":\"BoxSelectTool\"},{\"attributes\":{\"below\":[{\"id\":\"9446\"}],\"center\":[{\"id\":\"9449\"},{\"id\":\"9453\"}],\"js_event_callbacks\":{\"selectiongeometry\":[{\"id\":\"9468\"}]},\"left\":[{\"id\":\"9450\"}],\"renderers\":[{\"id\":\"9461\"}],\"title\":{\"id\":\"9819\"},\"toolbar\":{\"id\":\"9456\"},\"x_range\":{\"id\":\"9438\"},\"x_scale\":{\"id\":\"9442\"},\"y_range\":{\"id\":\"9440\"},\"y_scale\":{\"id\":\"9444\"}},\"id\":\"9437\",\"subtype\":\"Figure\",\"type\":\"Plot\"},{\"attributes\":{},\"id\":\"9438\",\"type\":\"DataRange1d\"},{\"attributes\":{\"source\":{\"id\":\"9458\"}},\"id\":\"9462\",\"type\":\"CDSView\"},{\"attributes\":{\"fill_alpha\":{\"value\":0.1},\"fill_color\":{\"value\":\"#1f77b4\"},\"line_alpha\":{\"value\":0.1},\"line_color\":{\"value\":null},\"radius\":{\"value\":1},\"x\":{\"field\":\"x\"},\"y\":{\"field\":\"y\"}},\"id\":\"9460\",\"type\":\"Circle\"},{\"attributes\":{\"active_multi\":null,\"tools\":[{\"id\":\"9454\"}]},\"id\":\"9456\",\"type\":\"Toolbar\"},{\"attributes\":{},\"id\":\"9451\",\"type\":\"BasicTicker\"},{\"attributes\":{\"bottom_units\":\"screen\",\"fill_alpha\":0.5,\"fill_color\":\"lightgrey\",\"left_units\":\"screen\",\"level\":\"overlay\",\"line_alpha\":1.0,\"line_color\":\"black\",\"line_dash\":[4,4],\"line_width\":2,\"right_units\":\"screen\",\"syncable\":false,\"top_units\":\"screen\"},\"id\":\"9455\",\"type\":\"BoxAnnotation\"},{\"attributes\":{\"formatter\":{\"id\":\"9820\"},\"major_label_policy\":{\"id\":\"9822\"},\"ticker\":{\"id\":\"9447\"}},\"id\":\"9446\",\"type\":\"LinearAxis\"},{\"attributes\":{},\"id\":\"9827\",\"type\":\"UnionRenderers\"},{\"attributes\":{\"axis\":{\"id\":\"9446\"},\"ticker\":null},\"id\":\"9449\",\"type\":\"Grid\"},{\"attributes\":{\"children\":[{\"id\":\"9437\"},{\"id\":\"9463\"}]},\"id\":\"9465\",\"type\":\"Row\"},{\"attributes\":{\"icon\":null,\"js_event_callbacks\":{\"button_click\":[{\"id\":\"9467\"}]},\"width\":300},\"id\":\"9464\",\"type\":\"Button\"},{\"attributes\":{\"formatter\":{\"id\":\"9823\"},\"major_label_policy\":{\"id\":\"9825\"},\"ticker\":{\"id\":\"9451\"}},\"id\":\"9450\",\"type\":\"LinearAxis\"},{\"attributes\":{\"args\":{\"div\":{\"id\":\"9463\"}},\"code\":\"\\ndiv.text = \\\"Selection! <p> <p>\\\" + JSON.stringify(cb_obj.geometry, undefined, 2);\\n\"},\"id\":\"9468\",\"type\":\"CustomJS\"},{\"attributes\":{},\"id\":\"9440\",\"type\":\"DataRange1d\"},{\"attributes\":{},\"id\":\"9442\",\"type\":\"LinearScale\"},{\"attributes\":{\"args\":{\"div\":{\"id\":\"9463\"}},\"code\":\"\\ndiv.text = \\\"Button!\\\";\\n\"},\"id\":\"9467\",\"type\":\"CustomJS\"}],\"root_ids\":[\"9466\"]},\"title\":\"Bokeh Application\",\"version\":\"2.3.0\"}};\n",
       "  var render_items = [{\"docid\":\"af7f32e2-06ac-40eb-a0c0-bf13c065d102\",\"root_ids\":[\"9466\"],\"roots\":{\"9466\":\"264f5660-8843-4c8a-87a5-5f829f195831\"}}];\n",
       "  root.Bokeh.embed.embed_items_notebook(docs_json, render_items);\n",
       "\n",
       "  }\n",
       "  if (root.Bokeh !== undefined) {\n",
       "    embed_document(root);\n",
       "  } else {\n",
       "    var attempts = 0;\n",
       "    var timer = setInterval(function(root) {\n",
       "      if (root.Bokeh !== undefined) {\n",
       "        clearInterval(timer);\n",
       "        embed_document(root);\n",
       "      } else {\n",
       "        attempts++;\n",
       "        if (attempts > 100) {\n",
       "          clearInterval(timer);\n",
       "          console.log(\"Bokeh: ERROR: Unable to run BokehJS code because BokehJS library is missing\");\n",
       "        }\n",
       "      }\n",
       "    }, 10, root)\n",
       "  }\n",
       "})(window);"
      ],
      "application/vnd.bokehjs_exec.v0+json": ""
     },
     "metadata": {
      "application/vnd.bokehjs_exec.v0+json": {
       "id": "9466"
      }
     },
     "output_type": "display_data"
    }
   ],
   "source": [
    "from bokeh.plotting import figure\n",
    "from bokeh import events\n",
    "from bokeh.models import CustomJS, Div, Button\n",
    "from bokeh.layouts import column, row\n",
    "\n",
    "import numpy as np\n",
    "x = np.random.random(size=2000) * 100\n",
    "y = np.random.random(size=2000) * 100\n",
    "\n",
    "p = figure(tools=\"box_select\")\n",
    "p.scatter(x, y, radius=1, fill_alpha=0.6, line_color=None)\n",
    "\n",
    "div = Div(width=400)\n",
    "button = Button(label=\"Button\", width=300)\n",
    "layout = column(button, row(p, div))\n",
    "\n",
    "# Events with no attributes\n",
    "button.js_on_event(events.ButtonClick,  CustomJS(args=dict(div=div), code=\"\"\"\n",
    "div.text = \"Button!\";\n",
    "\"\"\")) \n",
    "\n",
    "p.js_on_event(events.SelectionGeometry, CustomJS(args=dict(div=div), code=\"\"\"\n",
    "div.text = \"Selection! <p> <p>\" + JSON.stringify(cb_obj.geometry, undefined, 2);\n",
    "\"\"\"))\n",
    "\n",
    "show(layout)"
   ]
  },
  {
   "cell_type": "code",
   "execution_count": 31,
   "metadata": {},
   "outputs": [
    {
     "data": {
      "text/html": [
       "\n",
       "\n",
       "\n",
       "\n",
       "\n",
       "\n",
       "  <div class=\"bk-root\" id=\"f62413de-fd78-4e7d-8e15-c24f05c06d25\" data-root-id=\"10371\"></div>\n"
      ]
     },
     "metadata": {},
     "output_type": "display_data"
    },
    {
     "data": {
      "application/javascript": [
       "(function(root) {\n",
       "  function embed_document(root) {\n",
       "    \n",
       "  var docs_json = {\"14a3fafa-e8ad-4792-9787-57c1f2d105f0\":{\"defs\":[{\"extends\":null,\"module\":null,\"name\":\"DataModel\",\"overrides\":[],\"properties\":[]}],\"roots\":{\"references\":[{\"attributes\":{\"children\":[{\"id\":\"10369\"},{\"id\":\"10370\"}]},\"id\":\"10371\",\"type\":\"Column\"},{\"attributes\":{\"axis\":{\"id\":\"10355\"},\"dimension\":1,\"ticker\":null},\"id\":\"10358\",\"type\":\"Grid\"},{\"attributes\":{\"data\":{\"x\":{\"__ndarray__\":\"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\",\"dtype\":\"float64\",\"order\":\"little\",\"shape\":[2000]},\"y\":{\"__ndarray__\":\"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\",\"dtype\":\"float64\",\"order\":\"little\",\"shape\":[2000]}},\"selected\":{\"id\":\"10755\"},\"selection_policy\":{\"id\":\"10754\"}},\"id\":\"10363\",\"type\":\"ColumnDataSource\"},{\"attributes\":{\"active_multi\":null,\"tools\":[{\"id\":\"10359\"}]},\"id\":\"10361\",\"type\":\"Toolbar\"},{\"attributes\":{\"overlay\":{\"id\":\"10360\"}},\"id\":\"10359\",\"type\":\"BoxSelectTool\"},{\"attributes\":{\"icon\":null,\"js_event_callbacks\":{\"button_click\":[{\"id\":\"10372\"}]},\"label\":\"Useless\",\"width\":300},\"id\":\"10369\",\"type\":\"Button\"},{\"attributes\":{\"axis\":{\"id\":\"10351\"},\"ticker\":null},\"id\":\"10354\",\"type\":\"Grid\"},{\"attributes\":{},\"id\":\"10754\",\"type\":\"UnionRenderers\"},{\"attributes\":{},\"id\":\"10347\",\"type\":\"LinearScale\"},{\"attributes\":{},\"id\":\"10755\",\"type\":\"Selection\"},{\"attributes\":{\"below\":[{\"id\":\"10351\"}],\"center\":[{\"id\":\"10354\"},{\"id\":\"10358\"}],\"js_event_callbacks\":{\"selectiongeometry\":[{\"id\":\"10373\"}]},\"left\":[{\"id\":\"10355\"}],\"renderers\":[{\"id\":\"10366\"}],\"title\":{\"id\":\"10746\"},\"toolbar\":{\"id\":\"10361\"},\"x_range\":{\"id\":\"10343\"},\"x_scale\":{\"id\":\"10347\"},\"y_range\":{\"id\":\"10345\"},\"y_scale\":{\"id\":\"10349\"}},\"id\":\"10342\",\"subtype\":\"Figure\",\"type\":\"Plot\"},{\"attributes\":{},\"id\":\"10747\",\"type\":\"BasicTickFormatter\"},{\"attributes\":{\"bottom_units\":\"screen\",\"fill_alpha\":0.5,\"fill_color\":\"lightgrey\",\"left_units\":\"screen\",\"level\":\"overlay\",\"line_alpha\":1.0,\"line_color\":\"black\",\"line_dash\":[4,4],\"line_width\":2,\"right_units\":\"screen\",\"syncable\":false,\"top_units\":\"screen\"},\"id\":\"10360\",\"type\":\"BoxAnnotation\"},{\"attributes\":{\"args\":{\"div\":{\"id\":\"10368\"}},\"code\":\"\\ndiv.text = \\\"Selection! <p> <p>\\\" + JSON.stringify(cb_obj.geometry, undefined, 2);\\n\"},\"id\":\"10373\",\"type\":\"CustomJS\"},{\"attributes\":{\"fill_alpha\":{\"value\":0.6},\"fill_color\":{\"value\":\"#1f77b4\"},\"line_color\":{\"value\":null},\"radius\":{\"value\":1},\"x\":{\"field\":\"x\"},\"y\":{\"field\":\"y\"}},\"id\":\"10364\",\"type\":\"Circle\"},{\"attributes\":{},\"id\":\"10343\",\"type\":\"DataRange1d\"},{\"attributes\":{\"fill_alpha\":{\"value\":0.1},\"fill_color\":{\"value\":\"#1f77b4\"},\"line_alpha\":{\"value\":0.1},\"line_color\":{\"value\":null},\"radius\":{\"value\":1},\"x\":{\"field\":\"x\"},\"y\":{\"field\":\"y\"}},\"id\":\"10365\",\"type\":\"Circle\"},{\"attributes\":{},\"id\":\"10749\",\"type\":\"AllLabels\"},{\"attributes\":{},\"id\":\"10352\",\"type\":\"BasicTicker\"},{\"attributes\":{},\"id\":\"10750\",\"type\":\"BasicTickFormatter\"},{\"attributes\":{},\"id\":\"10345\",\"type\":\"DataRange1d\"},{\"attributes\":{\"source\":{\"id\":\"10363\"}},\"id\":\"10367\",\"type\":\"CDSView\"},{\"attributes\":{\"data_source\":{\"id\":\"10363\"},\"glyph\":{\"id\":\"10364\"},\"hover_glyph\":null,\"muted_glyph\":null,\"nonselection_glyph\":{\"id\":\"10365\"},\"view\":{\"id\":\"10367\"}},\"id\":\"10366\",\"type\":\"GlyphRenderer\"},{\"attributes\":{\"formatter\":{\"id\":\"10750\"},\"major_label_policy\":{\"id\":\"10752\"},\"ticker\":{\"id\":\"10356\"}},\"id\":\"10355\",\"type\":\"LinearAxis\"},{\"attributes\":{\"width\":400},\"id\":\"10368\",\"type\":\"Div\"},{\"attributes\":{},\"id\":\"10752\",\"type\":\"AllLabels\"},{\"attributes\":{},\"id\":\"10349\",\"type\":\"LinearScale\"},{\"attributes\":{\"formatter\":{\"id\":\"10747\"},\"major_label_policy\":{\"id\":\"10749\"},\"ticker\":{\"id\":\"10352\"}},\"id\":\"10351\",\"type\":\"LinearAxis\"},{\"attributes\":{},\"id\":\"10746\",\"type\":\"Title\"},{\"attributes\":{\"children\":[{\"id\":\"10342\"},{\"id\":\"10368\"}]},\"id\":\"10370\",\"type\":\"Row\"},{\"attributes\":{},\"id\":\"10356\",\"type\":\"BasicTicker\"},{\"attributes\":{\"args\":{\"div\":{\"id\":\"10368\"}},\"code\":\"\\ndiv.text = \\\"Click!\\\";\\n\"},\"id\":\"10372\",\"type\":\"CustomJS\"}],\"root_ids\":[\"10371\"]},\"title\":\"Bokeh Application\",\"version\":\"2.3.0\"}};\n",
       "  var render_items = [{\"docid\":\"14a3fafa-e8ad-4792-9787-57c1f2d105f0\",\"root_ids\":[\"10371\"],\"roots\":{\"10371\":\"f62413de-fd78-4e7d-8e15-c24f05c06d25\"}}];\n",
       "  root.Bokeh.embed.embed_items_notebook(docs_json, render_items);\n",
       "\n",
       "  }\n",
       "  if (root.Bokeh !== undefined) {\n",
       "    embed_document(root);\n",
       "  } else {\n",
       "    var attempts = 0;\n",
       "    var timer = setInterval(function(root) {\n",
       "      if (root.Bokeh !== undefined) {\n",
       "        clearInterval(timer);\n",
       "        embed_document(root);\n",
       "      } else {\n",
       "        attempts++;\n",
       "        if (attempts > 100) {\n",
       "          clearInterval(timer);\n",
       "          console.log(\"Bokeh: ERROR: Unable to run BokehJS code because BokehJS library is missing\");\n",
       "        }\n",
       "      }\n",
       "    }, 10, root)\n",
       "  }\n",
       "})(window);"
      ],
      "application/vnd.bokehjs_exec.v0+json": ""
     },
     "metadata": {
      "application/vnd.bokehjs_exec.v0+json": {
       "id": "10371"
      }
     },
     "output_type": "display_data"
    }
   ],
   "source": [
    "# Exercise: Create a plot that responds to different events from bokeh.events\n",
    "from bokeh.plotting import figure\n",
    "from bokeh import events\n",
    "from bokeh.models import CustomJS, Div, Button\n",
    "from bokeh.layouts import column, row\n",
    "\n",
    "import numpy as np\n",
    "x = np.random.random(size=2000) * 100\n",
    "y = np.random.random(size=2000) * 100\n",
    "\n",
    "p = figure(tools=\"box_select\")\n",
    "p.scatter(x, y, radius=1, fill_alpha=0.6, line_color=None)\n",
    "\n",
    "div = Div(width=400)\n",
    "button = Button(label=\"Useless\", width=300)\n",
    "layout = column(button, row(p, div))\n",
    "\n",
    "# Events with no attributes\n",
    "button.js_on_event(events.ButtonClick,  CustomJS(args=dict(div=div), code=\"\"\"\n",
    "div.text = \"Click!\";\n",
    "\"\"\")) \n",
    "\n",
    "p.js_on_event(events.SelectionGeometry, CustomJS(args=dict(div=div), code=\"\"\"\n",
    "div.text = \"Selection! <p> <p>\" + JSON.stringify(cb_obj.geometry, undefined, 2);\n",
    "\"\"\"))\n",
    "\n",
    "show(layout)\n"
   ]
  },
  {
   "cell_type": "markdown",
   "metadata": {},
   "source": [
    "## Additional Information\n",
    "\n",
    "There are many kinds of interactions and events that can be connected to `CustomJS` callbacks. \n",
    "\n",
    "\n",
    "* Widgets - Button, Toggle, Dropdown, TextInput, AutocompleteInput, Select, Multiselect, Slider, (DateRangeSlider), DatePicker,\n",
    "* Tools - TapTool, BoxSelectTool, HoverTool,\n",
    "* Selection - ColumnDataSource, AjaxDataSource, BlazeDataSource, ServerDataSource\n",
    "* Ranges - Range1d, DataRange1d, FactorRange\n",
    "\n",
    "\n",
    "For more complete examples the User Guide section on [JavaScript Interactions](https://bokeh.pydata.org/en/latest/docs/user_guide/interaction.html)"
   ]
  },
  {
   "cell_type": "markdown",
   "metadata": {},
   "source": [
    "# Next Section"
   ]
  },
  {
   "cell_type": "markdown",
   "metadata": {},
   "source": [
    "Click on this link to go to the next notebook: [07 - Bar and Categorical Data Plots](07%20-%20Bar%20and%20Categorical%20Data%20Plots.ipynb).\n",
    "\n",
    "To go back to the overview, click [here](00%20-%20Introduction%20and%20Setup.ipynb)."
   ]
  },
  {
   "cell_type": "code",
   "execution_count": null,
   "metadata": {},
   "outputs": [],
   "source": []
  }
 ],
 "metadata": {
  "anaconda-cloud": {},
  "kernelspec": {
   "display_name": "Python 3",
   "language": "python",
   "name": "python3"
  },
  "language_info": {
   "codemirror_mode": {
    "name": "ipython",
    "version": 3
   },
   "file_extension": ".py",
   "mimetype": "text/x-python",
   "name": "python",
   "nbconvert_exporter": "python",
   "pygments_lexer": "ipython3",
   "version": "3.8.8"
  }
 },
 "nbformat": 4,
 "nbformat_minor": 4
}
